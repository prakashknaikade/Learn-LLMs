{
 "cells": [
  {
   "cell_type": "markdown",
   "id": "1eab23c4",
   "metadata": {},
   "source": [
    "# AI Agents  \n",
    "AI agents are programs where AI model output impacts the execution flow.  \n",
    "LLM is embedded as brain in the computer program as a vehicle,  \n",
    "then LLM decisions drives the vehicle towards the user expected goals.\n"
   ]
  },
  {
   "cell_type": "markdown",
   "id": "2e9f125d",
   "metadata": {},
   "source": [
    "Agents follow `ReAct` loop:  \n",
    "thought-->action-->observe env"
   ]
  },
  {
   "cell_type": "markdown",
   "id": "a5123aa8",
   "metadata": {},
   "source": [
    "## AI agent to calculate and compare icecream raw material prices using provided data"
   ]
  },
  {
   "cell_type": "code",
   "execution_count": 1,
   "id": "5843c9dc-2f5a-44f6-83e6-2e52dadf2d66",
   "metadata": {
    "height": 319
   },
   "outputs": [],
   "source": [
    "# Warning control\n",
    "import warnings\n",
    "\n",
    "warnings.filterwarnings(\"ignore\")\n",
    "\n",
    "import os\n",
    "import io\n",
    "import IPython.display\n",
    "from PIL import Image\n",
    "import base64\n",
    "\n",
    "from dotenv import load_dotenv, find_dotenv\n",
    "\n",
    "_ = load_dotenv() # read local .env file\n",
    "\n",
    "from huggingface_hub import login\n",
    "\n",
    "login(os.environ['HF_API_KEY'])"
   ]
  },
  {
   "cell_type": "code",
   "execution_count": 2,
   "id": "4531e985-3762-4b4f-8f5a-76504b9e2ed0",
   "metadata": {
    "height": 470
   },
   "outputs": [
    {
     "data": {
      "application/vnd.microsoft.datawrangler.viewer.v0+json": {
       "columns": [
        {
         "name": "index",
         "rawType": "int64",
         "type": "integer"
        },
        {
         "name": "name",
         "rawType": "object",
         "type": "string"
        },
        {
         "name": "location",
         "rawType": "object",
         "type": "string"
        },
        {
         "name": "distance_km",
         "rawType": "int64",
         "type": "integer"
        },
        {
         "name": "canadian",
         "rawType": "bool",
         "type": "boolean"
        },
        {
         "name": "price_per_liter",
         "rawType": "float64",
         "type": "float"
        },
        {
         "name": "tasting_fee",
         "rawType": "float64",
         "type": "float"
        }
       ],
       "conversionMethod": "pd.DataFrame",
       "ref": "3b1c2234-66a8-4bf3-98ca-e4e3620df351",
       "rows": [
        [
         "0",
         "Montreal Ice Cream Co",
         "Montreal, QC",
         "120",
         "True",
         "1.95",
         "0.0"
        ],
        [
         "1",
         "Brain Freeze Brothers",
         "Burlington, VT",
         "85",
         "False",
         "1.91",
         "12.5"
        ],
        [
         "2",
         "Toronto Gelato Ltd",
         "Toronto, ON",
         "400",
         "True",
         "1.82",
         "30.14"
        ],
        [
         "3",
         "Buffalo Scoops",
         "Buffalo, NY",
         "220",
         "False",
         "2.43",
         "42.0"
        ],
        [
         "4",
         "Vermont Creamery",
         "Portland, ME",
         "280",
         "False",
         "2.33",
         "0.2"
        ]
       ],
       "shape": {
        "columns": 6,
        "rows": 5
       }
      },
      "text/html": [
       "<div>\n",
       "<style scoped>\n",
       "    .dataframe tbody tr th:only-of-type {\n",
       "        vertical-align: middle;\n",
       "    }\n",
       "\n",
       "    .dataframe tbody tr th {\n",
       "        vertical-align: top;\n",
       "    }\n",
       "\n",
       "    .dataframe thead th {\n",
       "        text-align: right;\n",
       "    }\n",
       "</style>\n",
       "<table border=\"1\" class=\"dataframe\">\n",
       "  <thead>\n",
       "    <tr style=\"text-align: right;\">\n",
       "      <th></th>\n",
       "      <th>name</th>\n",
       "      <th>location</th>\n",
       "      <th>distance_km</th>\n",
       "      <th>canadian</th>\n",
       "      <th>price_per_liter</th>\n",
       "      <th>tasting_fee</th>\n",
       "    </tr>\n",
       "  </thead>\n",
       "  <tbody>\n",
       "    <tr>\n",
       "      <th>0</th>\n",
       "      <td>Montreal Ice Cream Co</td>\n",
       "      <td>Montreal, QC</td>\n",
       "      <td>120</td>\n",
       "      <td>True</td>\n",
       "      <td>1.95</td>\n",
       "      <td>0.00</td>\n",
       "    </tr>\n",
       "    <tr>\n",
       "      <th>1</th>\n",
       "      <td>Brain Freeze Brothers</td>\n",
       "      <td>Burlington, VT</td>\n",
       "      <td>85</td>\n",
       "      <td>False</td>\n",
       "      <td>1.91</td>\n",
       "      <td>12.50</td>\n",
       "    </tr>\n",
       "    <tr>\n",
       "      <th>2</th>\n",
       "      <td>Toronto Gelato Ltd</td>\n",
       "      <td>Toronto, ON</td>\n",
       "      <td>400</td>\n",
       "      <td>True</td>\n",
       "      <td>1.82</td>\n",
       "      <td>30.14</td>\n",
       "    </tr>\n",
       "    <tr>\n",
       "      <th>3</th>\n",
       "      <td>Buffalo Scoops</td>\n",
       "      <td>Buffalo, NY</td>\n",
       "      <td>220</td>\n",
       "      <td>False</td>\n",
       "      <td>2.43</td>\n",
       "      <td>42.00</td>\n",
       "    </tr>\n",
       "    <tr>\n",
       "      <th>4</th>\n",
       "      <td>Vermont Creamery</td>\n",
       "      <td>Portland, ME</td>\n",
       "      <td>280</td>\n",
       "      <td>False</td>\n",
       "      <td>2.33</td>\n",
       "      <td>0.20</td>\n",
       "    </tr>\n",
       "  </tbody>\n",
       "</table>\n",
       "</div>"
      ],
      "text/plain": [
       "                    name        location  distance_km  canadian  \\\n",
       "0  Montreal Ice Cream Co    Montreal, QC          120      True   \n",
       "1  Brain Freeze Brothers  Burlington, VT           85     False   \n",
       "2     Toronto Gelato Ltd     Toronto, ON          400      True   \n",
       "3         Buffalo Scoops     Buffalo, NY          220     False   \n",
       "4       Vermont Creamery    Portland, ME          280     False   \n",
       "\n",
       "   price_per_liter  tasting_fee  \n",
       "0             1.95         0.00  \n",
       "1             1.91        12.50  \n",
       "2             1.82        30.14  \n",
       "3             2.43        42.00  \n",
       "4             2.33         0.20  "
      ]
     },
     "execution_count": 2,
     "metadata": {},
     "output_type": "execute_result"
    }
   ],
   "source": [
    "import pandas as pd\n",
    "\n",
    "suppliers_data = {\n",
    "    \"name\": [\n",
    "        \"Montreal Ice Cream Co\",\n",
    "        \"Brain Freeze Brothers\",\n",
    "        \"Toronto Gelato Ltd\",\n",
    "        \"Buffalo Scoops\",\n",
    "        \"Vermont Creamery\",\n",
    "    ],\n",
    "    \"location\": [\n",
    "        \"Montreal, QC\",\n",
    "        \"Burlington, VT\",\n",
    "        \"Toronto, ON\",\n",
    "        \"Buffalo, NY\",\n",
    "        \"Portland, ME\",\n",
    "    ],\n",
    "    \"distance_km\": [120, 85, 400, 220, 280],\n",
    "    \"canadian\": [True, False, True, False, False],\n",
    "    \"price_per_liter\": [1.95, 1.91, 1.82, 2.43, 2.33],\n",
    "    \"tasting_fee\": [0, 12.50, 30.14, 42.00, 0.20],\n",
    "}\n",
    "\n",
    "data_description = \"\"\"Suppliers have an additional tasting fee: that is a fixed fee applied to each order to taste the ice cream.\"\"\"\n",
    "suppliers_df = pd.DataFrame(suppliers_data)\n",
    "suppliers_df"
   ]
  },
  {
   "cell_type": "markdown",
   "id": "1951580d-6571-4cf8-b9a2-5fdc721cc163",
   "metadata": {},
   "source": [
    "## Setup tools"
   ]
  },
  {
   "cell_type": "code",
   "execution_count": 3,
   "id": "3b5a85ca-e9f8-44f1-a9a8-238b828fe797",
   "metadata": {
    "height": 453
   },
   "outputs": [
    {
     "data": {
      "application/vnd.microsoft.datawrangler.viewer.v0+json": {
       "columns": [
        {
         "name": "index",
         "rawType": "int64",
         "type": "integer"
        },
        {
         "name": "name",
         "rawType": "object",
         "type": "string"
        },
        {
         "name": "location",
         "rawType": "object",
         "type": "string"
        },
        {
         "name": "distance_km",
         "rawType": "int64",
         "type": "integer"
        },
        {
         "name": "canadian",
         "rawType": "bool",
         "type": "boolean"
        },
        {
         "name": "price_per_liter",
         "rawType": "float64",
         "type": "float"
        },
        {
         "name": "tasting_fee",
         "rawType": "float64",
         "type": "float"
        },
        {
         "name": "daily_price",
         "rawType": "float64",
         "type": "float"
        }
       ],
       "conversionMethod": "pd.DataFrame",
       "ref": "5817a78b-67df-4c66-b76e-fca7373dcb51",
       "rows": [
        [
         "0",
         "Montreal Ice Cream Co",
         "Montreal, QC",
         "120",
         "True",
         "1.95",
         "0.0",
         "206.17566340470006"
        ],
        [
         "1",
         "Brain Freeze Brothers",
         "Burlington, VT",
         "85",
         "False",
         "1.91",
         "12.5",
         "171.8"
        ],
        [
         "2",
         "Toronto Gelato Ltd",
         "Toronto, ON",
         "400",
         "True",
         "1.82",
         "30.14",
         "568.17061917772"
        ],
        [
         "3",
         "Buffalo Scoops",
         "Buffalo, NY",
         "220",
         "False",
         "2.43",
         "42.0",
         "378.9"
        ],
        [
         "4",
         "Vermont Creamery",
         "Portland, ME",
         "280",
         "False",
         "2.33",
         "0.2",
         "406.09999999999997"
        ]
       ],
       "shape": {
        "columns": 7,
        "rows": 5
       }
      },
      "text/html": [
       "<div>\n",
       "<style scoped>\n",
       "    .dataframe tbody tr th:only-of-type {\n",
       "        vertical-align: middle;\n",
       "    }\n",
       "\n",
       "    .dataframe tbody tr th {\n",
       "        vertical-align: top;\n",
       "    }\n",
       "\n",
       "    .dataframe thead th {\n",
       "        text-align: right;\n",
       "    }\n",
       "</style>\n",
       "<table border=\"1\" class=\"dataframe\">\n",
       "  <thead>\n",
       "    <tr style=\"text-align: right;\">\n",
       "      <th></th>\n",
       "      <th>name</th>\n",
       "      <th>location</th>\n",
       "      <th>distance_km</th>\n",
       "      <th>canadian</th>\n",
       "      <th>price_per_liter</th>\n",
       "      <th>tasting_fee</th>\n",
       "      <th>daily_price</th>\n",
       "    </tr>\n",
       "  </thead>\n",
       "  <tbody>\n",
       "    <tr>\n",
       "      <th>0</th>\n",
       "      <td>Montreal Ice Cream Co</td>\n",
       "      <td>Montreal, QC</td>\n",
       "      <td>120</td>\n",
       "      <td>True</td>\n",
       "      <td>1.95</td>\n",
       "      <td>0.00</td>\n",
       "      <td>206.175663</td>\n",
       "    </tr>\n",
       "    <tr>\n",
       "      <th>1</th>\n",
       "      <td>Brain Freeze Brothers</td>\n",
       "      <td>Burlington, VT</td>\n",
       "      <td>85</td>\n",
       "      <td>False</td>\n",
       "      <td>1.91</td>\n",
       "      <td>12.50</td>\n",
       "      <td>171.800000</td>\n",
       "    </tr>\n",
       "    <tr>\n",
       "      <th>2</th>\n",
       "      <td>Toronto Gelato Ltd</td>\n",
       "      <td>Toronto, ON</td>\n",
       "      <td>400</td>\n",
       "      <td>True</td>\n",
       "      <td>1.82</td>\n",
       "      <td>30.14</td>\n",
       "      <td>568.170619</td>\n",
       "    </tr>\n",
       "    <tr>\n",
       "      <th>3</th>\n",
       "      <td>Buffalo Scoops</td>\n",
       "      <td>Buffalo, NY</td>\n",
       "      <td>220</td>\n",
       "      <td>False</td>\n",
       "      <td>2.43</td>\n",
       "      <td>42.00</td>\n",
       "      <td>378.900000</td>\n",
       "    </tr>\n",
       "    <tr>\n",
       "      <th>4</th>\n",
       "      <td>Vermont Creamery</td>\n",
       "      <td>Portland, ME</td>\n",
       "      <td>280</td>\n",
       "      <td>False</td>\n",
       "      <td>2.33</td>\n",
       "      <td>0.20</td>\n",
       "      <td>406.100000</td>\n",
       "    </tr>\n",
       "  </tbody>\n",
       "</table>\n",
       "</div>"
      ],
      "text/plain": [
       "                    name        location  distance_km  canadian  \\\n",
       "0  Montreal Ice Cream Co    Montreal, QC          120      True   \n",
       "1  Brain Freeze Brothers  Burlington, VT           85     False   \n",
       "2     Toronto Gelato Ltd     Toronto, ON          400      True   \n",
       "3         Buffalo Scoops     Buffalo, NY          220     False   \n",
       "4       Vermont Creamery    Portland, ME          280     False   \n",
       "\n",
       "   price_per_liter  tasting_fee  daily_price  \n",
       "0             1.95         0.00   206.175663  \n",
       "1             1.91        12.50   171.800000  \n",
       "2             1.82        30.14   568.170619  \n",
       "3             2.43        42.00   378.900000  \n",
       "4             2.33         0.20   406.100000  "
      ]
     },
     "metadata": {},
     "output_type": "display_data"
    }
   ],
   "source": [
    "import numpy as np\n",
    "\n",
    "def calculate_daily_supplier_price(row):\n",
    "    order_volume = 30\n",
    "\n",
    "    # Calculate raw product cost\n",
    "    product_cost = row[\"price_per_liter\"] * order_volume\n",
    "\n",
    "    # Calculate transport cost\n",
    "    trucks_needed = np.ceil(order_volume / 300)\n",
    "    cost_per_km = 1.20\n",
    "    transport_cost = row[\"distance_km\"] * cost_per_km * trucks_needed\n",
    "\n",
    "    # Calculate tariffs for ice cream imported from Canada\n",
    "    tariff = product_cost * np.pi / 50 * row[\"canadian\"]\n",
    "\n",
    "    # Get total cost\n",
    "    total_cost = product_cost + transport_cost + tariff + row[\"tasting_fee\"]\n",
    "    return total_cost\n",
    "\n",
    "suppliers_df[\"daily_price\"] = suppliers_df.apply(calculate_daily_supplier_price, axis=1)\n",
    "display(suppliers_df)\n",
    "\n",
    "# Let's remove this column now.\n",
    "suppliers_df = suppliers_df.drop(\"daily_price\", axis=1)"
   ]
  },
  {
   "cell_type": "code",
   "execution_count": 4,
   "id": "98192229-1979-4753-bb2a-0d3446c09ae1",
   "metadata": {
    "height": 555
   },
   "outputs": [],
   "source": [
    "# First we make a few tools\n",
    "from smolagents import tool\n",
    "\n",
    "@tool\n",
    "def calculate_transport_cost(distance_km: float, order_volume: float) -> float:\n",
    "    \"\"\"\n",
    "    Calculate transportation cost based on distance and order size.\n",
    "    Refrigerated transport costs $1.2 per kilometer and has a capacity of 300 liters.\n",
    "\n",
    "    Args:\n",
    "        distance_km: the distance in kilometers\n",
    "        order_volume: the order volume in liters\n",
    "    \"\"\"\n",
    "    trucks_needed = np.ceil(order_volume / 300)\n",
    "    cost_per_km = 1.20\n",
    "    return distance_km * cost_per_km * trucks_needed\n",
    "\n",
    "\n",
    "@tool\n",
    "def calculate_tariff(base_cost: float, is_canadian: bool) -> float:\n",
    "    \"\"\"\n",
    "    Calculates tariff for Canadian imports. Returns the tariff only, not the total cost.\n",
    "    Assumes tariff on dairy products from Canada is worth 2 * pi / 100, approx 6.2%\n",
    "\n",
    "    Args:\n",
    "        base_cost: the base cost of goods, not including transportation cost.\n",
    "        is_canadian: wether the import is from Canada.\n",
    "    \"\"\"\n",
    "    if is_canadian:\n",
    "        return base_cost * np.pi / 50\n",
    "    return 0"
   ]
  },
  {
   "cell_type": "code",
   "execution_count": 5,
   "id": "106d37fc-8873-4419-8c72-4abb2d0a66a0",
   "metadata": {
    "height": 30
   },
   "outputs": [
    {
     "data": {
      "text/plain": [
       "'Calculate transportation cost based on distance and order size.\\nRefrigerated transport costs $1.2 per kilometer and has a capacity of 300 liters.'"
      ]
     },
     "execution_count": 5,
     "metadata": {},
     "output_type": "execute_result"
    }
   ],
   "source": [
    "calculate_transport_cost.description"
   ]
  },
  {
   "cell_type": "markdown",
   "id": "5547ae24-e41a-400f-add5-aae5ab18e765",
   "metadata": {},
   "source": [
    "## Setup the Model"
   ]
  },
  {
   "cell_type": "code",
   "execution_count": 6,
   "id": "e8edf7c0-0fef-45c8-a0a2-4d4ca45fe9d4",
   "metadata": {
    "height": 166
   },
   "outputs": [],
   "source": [
    "from smolagents import HfApiModel, CodeAgent\n",
    "from helper import get_huggingface_token\n",
    "\n",
    "model = HfApiModel(\n",
    "    \"Qwen/Qwen2.5-72B-Instruct\",\n",
    "    provider=\"together\", # Choose a specific inference provider\n",
    "    max_tokens=4096,\n",
    "    temperature=0.1\n",
    ")"
   ]
  },
  {
   "cell_type": "markdown",
   "id": "75fd02d0-b21a-4047-9b9b-ae7208dd84f5",
   "metadata": {},
   "source": [
    "## Setup the Code Agent"
   ]
  },
  {
   "cell_type": "code",
   "execution_count": 7,
   "id": "8841671e-70ab-4d4b-8c85-8e92f6aa2b20",
   "metadata": {
    "height": 149
   },
   "outputs": [],
   "source": [
    "agent = CodeAgent(\n",
    "    model=model,\n",
    "    tools=[calculate_transport_cost, calculate_tariff],\n",
    "    max_steps=10,\n",
    "    additional_authorized_imports=[\"pandas\", \"numpy\"],\n",
    "    verbosity_level=2\n",
    ")\n",
    "agent.logger.console.width=66"
   ]
  },
  {
   "cell_type": "code",
   "execution_count": 8,
   "id": "83b563bb-7dd8-43e0-933e-184ec3021180",
   "metadata": {
    "height": 81
   },
   "outputs": [
    {
     "data": {
      "text/html": [
       "<pre style=\"white-space:pre;overflow-x:auto;line-height:normal;font-family:Menlo,'DejaVu Sans Mono',consolas,'Courier New',monospace\"><span style=\"color: #d4b702; text-decoration-color: #d4b702\">╭─────────────────────────── </span><span style=\"color: #d4b702; text-decoration-color: #d4b702; font-weight: bold\">New run</span><span style=\"color: #d4b702; text-decoration-color: #d4b702\"> ────────────────────────────╮</span>\n",
       "<span style=\"color: #d4b702; text-decoration-color: #d4b702\">│</span>                                                                <span style=\"color: #d4b702; text-decoration-color: #d4b702\">│</span>\n",
       "<span style=\"color: #d4b702; text-decoration-color: #d4b702\">│</span> <span style=\"font-weight: bold\">Can you get me the transportation cost for 50 liters</span>           <span style=\"color: #d4b702; text-decoration-color: #d4b702\">│</span>\n",
       "<span style=\"color: #d4b702; text-decoration-color: #d4b702\">│</span> <span style=\"font-weight: bold\">    of ice cream over 10 kilometers?</span>                           <span style=\"color: #d4b702; text-decoration-color: #d4b702\">│</span>\n",
       "<span style=\"color: #d4b702; text-decoration-color: #d4b702\">│</span>                                                                <span style=\"color: #d4b702; text-decoration-color: #d4b702\">│</span>\n",
       "<span style=\"color: #d4b702; text-decoration-color: #d4b702\">╰─ HfApiModel - Qwen/Qwen2.5-72B-Instruct ───────────────────────╯</span>\n",
       "</pre>\n"
      ],
      "text/plain": [
       "\u001b[38;2;212;183;2m╭─\u001b[0m\u001b[38;2;212;183;2m──────────────────────────\u001b[0m\u001b[38;2;212;183;2m \u001b[0m\u001b[1;38;2;212;183;2mNew run\u001b[0m\u001b[38;2;212;183;2m \u001b[0m\u001b[38;2;212;183;2m───────────────────────────\u001b[0m\u001b[38;2;212;183;2m─╮\u001b[0m\n",
       "\u001b[38;2;212;183;2m│\u001b[0m                                                                \u001b[38;2;212;183;2m│\u001b[0m\n",
       "\u001b[38;2;212;183;2m│\u001b[0m \u001b[1mCan you get me the transportation cost for 50 liters\u001b[0m           \u001b[38;2;212;183;2m│\u001b[0m\n",
       "\u001b[38;2;212;183;2m│\u001b[0m \u001b[1m    of ice cream over 10 kilometers?\u001b[0m                           \u001b[38;2;212;183;2m│\u001b[0m\n",
       "\u001b[38;2;212;183;2m│\u001b[0m                                                                \u001b[38;2;212;183;2m│\u001b[0m\n",
       "\u001b[38;2;212;183;2m╰─\u001b[0m\u001b[38;2;212;183;2m HfApiModel - Qwen/Qwen2.5-72B-Instruct \u001b[0m\u001b[38;2;212;183;2m──────────────────────\u001b[0m\u001b[38;2;212;183;2m─╯\u001b[0m\n"
      ]
     },
     "metadata": {},
     "output_type": "display_data"
    },
    {
     "data": {
      "text/html": [
       "<pre style=\"white-space:pre;overflow-x:auto;line-height:normal;font-family:Menlo,'DejaVu Sans Mono',consolas,'Courier New',monospace\"><span style=\"color: #d4b702; text-decoration-color: #d4b702\">━━━━━━━━━━━━━━━━━━━━━━━━━━━━━ </span><span style=\"font-weight: bold\">Step </span><span style=\"color: #008080; text-decoration-color: #008080; font-weight: bold\">1</span><span style=\"color: #d4b702; text-decoration-color: #d4b702\"> ━━━━━━━━━━━━━━━━━━━━━━━━━━━━━</span>\n",
       "</pre>\n"
      ],
      "text/plain": [
       "\u001b[38;2;212;183;2m━━━━━━━━━━━━━━━━━━━━━━━━━━━━━ \u001b[0m\u001b[1mStep \u001b[0m\u001b[1;36m1\u001b[0m\u001b[38;2;212;183;2m ━━━━━━━━━━━━━━━━━━━━━━━━━━━━━\u001b[0m\n"
      ]
     },
     "metadata": {},
     "output_type": "display_data"
    },
    {
     "data": {
      "text/html": [
       "<pre style=\"white-space:pre;overflow-x:auto;line-height:normal;font-family:Menlo,'DejaVu Sans Mono',consolas,'Courier New',monospace\"><span style=\"font-weight: bold; font-style: italic\">Output message of the LLM:</span> <span style=\"color: #d4b702; text-decoration-color: #d4b702\">───────────────────────────────────────</span>\n",
       "<span style=\"color: #e6edf3; text-decoration-color: #e6edf3; background-color: #0d1117\">Thought: I will use the </span><span style=\"color: #a5d6ff; text-decoration-color: #a5d6ff; background-color: #0d1117\">`calculate_transport_cost`</span><span style=\"color: #e6edf3; text-decoration-color: #e6edf3; background-color: #0d1117\"> function to </span><span style=\"background-color: #0d1117\">   </span>\n",
       "<span style=\"color: #e6edf3; text-decoration-color: #e6edf3; background-color: #0d1117\">calculate the cost of transporting 50 liters of ice cream over 10 </span>\n",
       "<span style=\"color: #e6edf3; text-decoration-color: #e6edf3; background-color: #0d1117\">kilometers.</span><span style=\"background-color: #0d1117\">                                                       </span>\n",
       "<span style=\"color: #e6edf3; text-decoration-color: #e6edf3; background-color: #0d1117\">Code:</span><span style=\"background-color: #0d1117\">                                                             </span>\n",
       "<span style=\"color: #e6edf3; text-decoration-color: #e6edf3; background-color: #0d1117\">```py</span><span style=\"background-color: #0d1117\">                                                             </span>\n",
       "<span style=\"color: #e6edf3; text-decoration-color: #e6edf3; background-color: #0d1117\">distance_km = 10</span><span style=\"background-color: #0d1117\">                                                  </span>\n",
       "<span style=\"color: #e6edf3; text-decoration-color: #e6edf3; background-color: #0d1117\">order_volume = 50</span><span style=\"background-color: #0d1117\">                                                 </span>\n",
       "<span style=\"color: #e6edf3; text-decoration-color: #e6edf3; background-color: #0d1117\">transport_cost = calculate_transport_cost(distance_km, </span><span style=\"background-color: #0d1117\">           </span>\n",
       "<span style=\"color: #e6edf3; text-decoration-color: #e6edf3; background-color: #0d1117\">order_volume)</span><span style=\"background-color: #0d1117\">                                                     </span>\n",
       "<span style=\"color: #e6edf3; text-decoration-color: #e6edf3; background-color: #0d1117\">print(f\"The transportation cost for 50 liters of ice cream over 10</span>\n",
       "<span style=\"color: #e6edf3; text-decoration-color: #e6edf3; background-color: #0d1117\">kilometers is {transport_cost}.\")</span><span style=\"background-color: #0d1117\">                                 </span>\n",
       "<span style=\"color: #e6edf3; text-decoration-color: #e6edf3; background-color: #0d1117\">```&lt;end_code&gt;</span><span style=\"background-color: #0d1117\">                                                     </span>\n",
       "</pre>\n"
      ],
      "text/plain": [
       "\u001b[1;3mOutput message of the LLM:\u001b[0m \u001b[38;2;212;183;2m───────────────────────────────────────\u001b[0m\n",
       "\u001b[38;2;230;237;243;48;2;13;17;23mThought:\u001b[0m\u001b[38;2;230;237;243;48;2;13;17;23m \u001b[0m\u001b[38;2;230;237;243;48;2;13;17;23mI\u001b[0m\u001b[38;2;230;237;243;48;2;13;17;23m \u001b[0m\u001b[38;2;230;237;243;48;2;13;17;23mwill\u001b[0m\u001b[38;2;230;237;243;48;2;13;17;23m \u001b[0m\u001b[38;2;230;237;243;48;2;13;17;23muse\u001b[0m\u001b[38;2;230;237;243;48;2;13;17;23m \u001b[0m\u001b[38;2;230;237;243;48;2;13;17;23mthe\u001b[0m\u001b[38;2;230;237;243;48;2;13;17;23m \u001b[0m\u001b[38;2;165;214;255;48;2;13;17;23m`calculate_transport_cost`\u001b[0m\u001b[38;2;230;237;243;48;2;13;17;23m \u001b[0m\u001b[38;2;230;237;243;48;2;13;17;23mfunction\u001b[0m\u001b[38;2;230;237;243;48;2;13;17;23m \u001b[0m\u001b[38;2;230;237;243;48;2;13;17;23mto\u001b[0m\u001b[38;2;230;237;243;48;2;13;17;23m \u001b[0m\u001b[48;2;13;17;23m   \u001b[0m\n",
       "\u001b[38;2;230;237;243;48;2;13;17;23mcalculate\u001b[0m\u001b[38;2;230;237;243;48;2;13;17;23m \u001b[0m\u001b[38;2;230;237;243;48;2;13;17;23mthe\u001b[0m\u001b[38;2;230;237;243;48;2;13;17;23m \u001b[0m\u001b[38;2;230;237;243;48;2;13;17;23mcost\u001b[0m\u001b[38;2;230;237;243;48;2;13;17;23m \u001b[0m\u001b[38;2;230;237;243;48;2;13;17;23mof\u001b[0m\u001b[38;2;230;237;243;48;2;13;17;23m \u001b[0m\u001b[38;2;230;237;243;48;2;13;17;23mtransporting\u001b[0m\u001b[38;2;230;237;243;48;2;13;17;23m \u001b[0m\u001b[38;2;230;237;243;48;2;13;17;23m50\u001b[0m\u001b[38;2;230;237;243;48;2;13;17;23m \u001b[0m\u001b[38;2;230;237;243;48;2;13;17;23mliters\u001b[0m\u001b[38;2;230;237;243;48;2;13;17;23m \u001b[0m\u001b[38;2;230;237;243;48;2;13;17;23mof\u001b[0m\u001b[38;2;230;237;243;48;2;13;17;23m \u001b[0m\u001b[38;2;230;237;243;48;2;13;17;23mice\u001b[0m\u001b[38;2;230;237;243;48;2;13;17;23m \u001b[0m\u001b[38;2;230;237;243;48;2;13;17;23mcream\u001b[0m\u001b[38;2;230;237;243;48;2;13;17;23m \u001b[0m\u001b[38;2;230;237;243;48;2;13;17;23mover\u001b[0m\u001b[38;2;230;237;243;48;2;13;17;23m \u001b[0m\u001b[38;2;230;237;243;48;2;13;17;23m10\u001b[0m\u001b[38;2;230;237;243;48;2;13;17;23m \u001b[0m\n",
       "\u001b[38;2;230;237;243;48;2;13;17;23mkilometers.\u001b[0m\u001b[48;2;13;17;23m                                                       \u001b[0m\n",
       "\u001b[38;2;230;237;243;48;2;13;17;23mCode:\u001b[0m\u001b[48;2;13;17;23m                                                             \u001b[0m\n",
       "\u001b[38;2;230;237;243;48;2;13;17;23m```py\u001b[0m\u001b[48;2;13;17;23m                                                             \u001b[0m\n",
       "\u001b[38;2;230;237;243;48;2;13;17;23mdistance_km\u001b[0m\u001b[38;2;230;237;243;48;2;13;17;23m \u001b[0m\u001b[38;2;230;237;243;48;2;13;17;23m=\u001b[0m\u001b[38;2;230;237;243;48;2;13;17;23m \u001b[0m\u001b[38;2;230;237;243;48;2;13;17;23m10\u001b[0m\u001b[48;2;13;17;23m                                                  \u001b[0m\n",
       "\u001b[38;2;230;237;243;48;2;13;17;23morder_volume\u001b[0m\u001b[38;2;230;237;243;48;2;13;17;23m \u001b[0m\u001b[38;2;230;237;243;48;2;13;17;23m=\u001b[0m\u001b[38;2;230;237;243;48;2;13;17;23m \u001b[0m\u001b[38;2;230;237;243;48;2;13;17;23m50\u001b[0m\u001b[48;2;13;17;23m                                                 \u001b[0m\n",
       "\u001b[38;2;230;237;243;48;2;13;17;23mtransport_cost\u001b[0m\u001b[38;2;230;237;243;48;2;13;17;23m \u001b[0m\u001b[38;2;230;237;243;48;2;13;17;23m=\u001b[0m\u001b[38;2;230;237;243;48;2;13;17;23m \u001b[0m\u001b[38;2;230;237;243;48;2;13;17;23mcalculate_transport_cost(distance_km,\u001b[0m\u001b[38;2;230;237;243;48;2;13;17;23m \u001b[0m\u001b[48;2;13;17;23m           \u001b[0m\n",
       "\u001b[38;2;230;237;243;48;2;13;17;23morder_volume)\u001b[0m\u001b[48;2;13;17;23m                                                     \u001b[0m\n",
       "\u001b[38;2;230;237;243;48;2;13;17;23mprint(f\"The\u001b[0m\u001b[38;2;230;237;243;48;2;13;17;23m \u001b[0m\u001b[38;2;230;237;243;48;2;13;17;23mtransportation\u001b[0m\u001b[38;2;230;237;243;48;2;13;17;23m \u001b[0m\u001b[38;2;230;237;243;48;2;13;17;23mcost\u001b[0m\u001b[38;2;230;237;243;48;2;13;17;23m \u001b[0m\u001b[38;2;230;237;243;48;2;13;17;23mfor\u001b[0m\u001b[38;2;230;237;243;48;2;13;17;23m \u001b[0m\u001b[38;2;230;237;243;48;2;13;17;23m50\u001b[0m\u001b[38;2;230;237;243;48;2;13;17;23m \u001b[0m\u001b[38;2;230;237;243;48;2;13;17;23mliters\u001b[0m\u001b[38;2;230;237;243;48;2;13;17;23m \u001b[0m\u001b[38;2;230;237;243;48;2;13;17;23mof\u001b[0m\u001b[38;2;230;237;243;48;2;13;17;23m \u001b[0m\u001b[38;2;230;237;243;48;2;13;17;23mice\u001b[0m\u001b[38;2;230;237;243;48;2;13;17;23m \u001b[0m\u001b[38;2;230;237;243;48;2;13;17;23mcream\u001b[0m\u001b[38;2;230;237;243;48;2;13;17;23m \u001b[0m\u001b[38;2;230;237;243;48;2;13;17;23mover\u001b[0m\u001b[38;2;230;237;243;48;2;13;17;23m \u001b[0m\u001b[38;2;230;237;243;48;2;13;17;23m10\u001b[0m\n",
       "\u001b[38;2;230;237;243;48;2;13;17;23mkilometers\u001b[0m\u001b[38;2;230;237;243;48;2;13;17;23m \u001b[0m\u001b[38;2;230;237;243;48;2;13;17;23mis\u001b[0m\u001b[38;2;230;237;243;48;2;13;17;23m \u001b[0m\u001b[38;2;230;237;243;48;2;13;17;23m{transport_cost}.\")\u001b[0m\u001b[48;2;13;17;23m                                 \u001b[0m\n",
       "\u001b[38;2;230;237;243;48;2;13;17;23m```<end_code>\u001b[0m\u001b[48;2;13;17;23m                                                     \u001b[0m\n"
      ]
     },
     "metadata": {},
     "output_type": "display_data"
    },
    {
     "data": {
      "text/html": [
       "<pre style=\"white-space:pre;overflow-x:auto;line-height:normal;font-family:Menlo,'DejaVu Sans Mono',consolas,'Courier New',monospace\"> ─ <span style=\"font-weight: bold\">Executing parsed code:</span> ─────────────────────────────────────── \n",
       "  <span style=\"color: #f8f8f2; text-decoration-color: #f8f8f2; background-color: #272822\">distance_km </span><span style=\"color: #ff4689; text-decoration-color: #ff4689; background-color: #272822\">=</span><span style=\"color: #f8f8f2; text-decoration-color: #f8f8f2; background-color: #272822\"> </span><span style=\"color: #ae81ff; text-decoration-color: #ae81ff; background-color: #272822\">10</span><span style=\"background-color: #272822\">                                              </span>  \n",
       "  <span style=\"color: #f8f8f2; text-decoration-color: #f8f8f2; background-color: #272822\">order_volume </span><span style=\"color: #ff4689; text-decoration-color: #ff4689; background-color: #272822\">=</span><span style=\"color: #f8f8f2; text-decoration-color: #f8f8f2; background-color: #272822\"> </span><span style=\"color: #ae81ff; text-decoration-color: #ae81ff; background-color: #272822\">50</span><span style=\"background-color: #272822\">                                             </span>  \n",
       "  <span style=\"color: #f8f8f2; text-decoration-color: #f8f8f2; background-color: #272822\">transport_cost </span><span style=\"color: #ff4689; text-decoration-color: #ff4689; background-color: #272822\">=</span><span style=\"color: #f8f8f2; text-decoration-color: #f8f8f2; background-color: #272822\"> calculate_transport_cost(distance_km, </span><span style=\"background-color: #272822\">       </span>  \n",
       "  <span style=\"color: #f8f8f2; text-decoration-color: #f8f8f2; background-color: #272822\">order_volume)</span><span style=\"background-color: #272822\">                                                 </span>  \n",
       "  <span style=\"color: #f8f8f2; text-decoration-color: #f8f8f2; background-color: #272822\">print(</span><span style=\"color: #e6db74; text-decoration-color: #e6db74; background-color: #272822\">f\"The transportation cost for 50 liters of ice cream </span><span style=\"background-color: #272822\">   </span>  \n",
       "  <span style=\"color: #e6db74; text-decoration-color: #e6db74; background-color: #272822\">over 10 kilometers is {</span><span style=\"color: #f8f8f2; text-decoration-color: #f8f8f2; background-color: #272822\">transport_cost</span><span style=\"color: #e6db74; text-decoration-color: #e6db74; background-color: #272822\">}.\"</span><span style=\"color: #f8f8f2; text-decoration-color: #f8f8f2; background-color: #272822\">)</span><span style=\"background-color: #272822\">                     </span>  \n",
       " ──────────────────────────────────────────────────────────────── \n",
       "</pre>\n"
      ],
      "text/plain": [
       " ─ \u001b[1mExecuting parsed code:\u001b[0m ─────────────────────────────────────── \n",
       "  \u001b[38;2;248;248;242;48;2;39;40;34mdistance_km\u001b[0m\u001b[38;2;248;248;242;48;2;39;40;34m \u001b[0m\u001b[38;2;255;70;137;48;2;39;40;34m=\u001b[0m\u001b[38;2;248;248;242;48;2;39;40;34m \u001b[0m\u001b[38;2;174;129;255;48;2;39;40;34m10\u001b[0m\u001b[48;2;39;40;34m                                              \u001b[0m  \n",
       "  \u001b[38;2;248;248;242;48;2;39;40;34morder_volume\u001b[0m\u001b[38;2;248;248;242;48;2;39;40;34m \u001b[0m\u001b[38;2;255;70;137;48;2;39;40;34m=\u001b[0m\u001b[38;2;248;248;242;48;2;39;40;34m \u001b[0m\u001b[38;2;174;129;255;48;2;39;40;34m50\u001b[0m\u001b[48;2;39;40;34m                                             \u001b[0m  \n",
       "  \u001b[38;2;248;248;242;48;2;39;40;34mtransport_cost\u001b[0m\u001b[38;2;248;248;242;48;2;39;40;34m \u001b[0m\u001b[38;2;255;70;137;48;2;39;40;34m=\u001b[0m\u001b[38;2;248;248;242;48;2;39;40;34m \u001b[0m\u001b[38;2;248;248;242;48;2;39;40;34mcalculate_transport_cost\u001b[0m\u001b[38;2;248;248;242;48;2;39;40;34m(\u001b[0m\u001b[38;2;248;248;242;48;2;39;40;34mdistance_km\u001b[0m\u001b[38;2;248;248;242;48;2;39;40;34m,\u001b[0m\u001b[38;2;248;248;242;48;2;39;40;34m \u001b[0m\u001b[48;2;39;40;34m       \u001b[0m  \n",
       "  \u001b[38;2;248;248;242;48;2;39;40;34morder_volume\u001b[0m\u001b[38;2;248;248;242;48;2;39;40;34m)\u001b[0m\u001b[48;2;39;40;34m                                                 \u001b[0m  \n",
       "  \u001b[38;2;248;248;242;48;2;39;40;34mprint\u001b[0m\u001b[38;2;248;248;242;48;2;39;40;34m(\u001b[0m\u001b[38;2;230;219;116;48;2;39;40;34mf\u001b[0m\u001b[38;2;230;219;116;48;2;39;40;34m\"\u001b[0m\u001b[38;2;230;219;116;48;2;39;40;34mThe transportation cost for 50 liters of ice cream \u001b[0m\u001b[48;2;39;40;34m   \u001b[0m  \n",
       "  \u001b[38;2;230;219;116;48;2;39;40;34mover 10 kilometers is \u001b[0m\u001b[38;2;230;219;116;48;2;39;40;34m{\u001b[0m\u001b[38;2;248;248;242;48;2;39;40;34mtransport_cost\u001b[0m\u001b[38;2;230;219;116;48;2;39;40;34m}\u001b[0m\u001b[38;2;230;219;116;48;2;39;40;34m.\u001b[0m\u001b[38;2;230;219;116;48;2;39;40;34m\"\u001b[0m\u001b[38;2;248;248;242;48;2;39;40;34m)\u001b[0m\u001b[48;2;39;40;34m                     \u001b[0m  \n",
       " ──────────────────────────────────────────────────────────────── \n"
      ]
     },
     "metadata": {},
     "output_type": "display_data"
    },
    {
     "data": {
      "text/html": [
       "<pre style=\"white-space:pre;overflow-x:auto;line-height:normal;font-family:Menlo,'DejaVu Sans Mono',consolas,'Courier New',monospace\"><span style=\"font-weight: bold\">Execution logs:</span>\n",
       "The transportation cost for 50 liters of ice cream over 10 \n",
       "kilometers is 12.0.\n",
       "\n",
       "Out: None\n",
       "</pre>\n"
      ],
      "text/plain": [
       "\u001b[1mExecution logs:\u001b[0m\n",
       "The transportation cost for 50 liters of ice cream over 10 \n",
       "kilometers is 12.0.\n",
       "\n",
       "Out: None\n"
      ]
     },
     "metadata": {},
     "output_type": "display_data"
    },
    {
     "data": {
      "text/html": [
       "<pre style=\"white-space:pre;overflow-x:auto;line-height:normal;font-family:Menlo,'DejaVu Sans Mono',consolas,'Courier New',monospace\"><span style=\"color: #7f7f7f; text-decoration-color: #7f7f7f\">[Step 1: Duration 1.94 seconds| Input tokens: 2,189 | Output </span>\n",
       "<span style=\"color: #7f7f7f; text-decoration-color: #7f7f7f\">tokens: 91]</span>\n",
       "</pre>\n"
      ],
      "text/plain": [
       "\u001b[2m[Step 1: Duration 1.94 seconds| Input tokens: 2,189 | Output \u001b[0m\n",
       "\u001b[2mtokens: 91]\u001b[0m\n"
      ]
     },
     "metadata": {},
     "output_type": "display_data"
    },
    {
     "data": {
      "text/html": [
       "<pre style=\"white-space:pre;overflow-x:auto;line-height:normal;font-family:Menlo,'DejaVu Sans Mono',consolas,'Courier New',monospace\"><span style=\"color: #d4b702; text-decoration-color: #d4b702\">━━━━━━━━━━━━━━━━━━━━━━━━━━━━━ </span><span style=\"font-weight: bold\">Step </span><span style=\"color: #008080; text-decoration-color: #008080; font-weight: bold\">2</span><span style=\"color: #d4b702; text-decoration-color: #d4b702\"> ━━━━━━━━━━━━━━━━━━━━━━━━━━━━━</span>\n",
       "</pre>\n"
      ],
      "text/plain": [
       "\u001b[38;2;212;183;2m━━━━━━━━━━━━━━━━━━━━━━━━━━━━━ \u001b[0m\u001b[1mStep \u001b[0m\u001b[1;36m2\u001b[0m\u001b[38;2;212;183;2m ━━━━━━━━━━━━━━━━━━━━━━━━━━━━━\u001b[0m\n"
      ]
     },
     "metadata": {},
     "output_type": "display_data"
    },
    {
     "data": {
      "text/html": [
       "<pre style=\"white-space:pre;overflow-x:auto;line-height:normal;font-family:Menlo,'DejaVu Sans Mono',consolas,'Courier New',monospace\"><span style=\"font-weight: bold; font-style: italic\">Output message of the LLM:</span> <span style=\"color: #d4b702; text-decoration-color: #d4b702\">───────────────────────────────────────</span>\n",
       "<span style=\"color: #e6edf3; text-decoration-color: #e6edf3; background-color: #0d1117\">Thought: I have the transportation cost for 50 liters of ice cream</span>\n",
       "<span style=\"color: #e6edf3; text-decoration-color: #e6edf3; background-color: #0d1117\">over 10 kilometers. I will now provide the final answer.</span><span style=\"background-color: #0d1117\">          </span>\n",
       "<span style=\"color: #e6edf3; text-decoration-color: #e6edf3; background-color: #0d1117\">Code:</span><span style=\"background-color: #0d1117\">                                                             </span>\n",
       "<span style=\"color: #e6edf3; text-decoration-color: #e6edf3; background-color: #0d1117\">```py</span><span style=\"background-color: #0d1117\">                                                             </span>\n",
       "<span style=\"color: #e6edf3; text-decoration-color: #e6edf3; background-color: #0d1117\">final_answer(12.0)</span><span style=\"background-color: #0d1117\">                                                </span>\n",
       "<span style=\"color: #e6edf3; text-decoration-color: #e6edf3; background-color: #0d1117\">```&lt;end_code&gt;</span><span style=\"background-color: #0d1117\">                                                     </span>\n",
       "</pre>\n"
      ],
      "text/plain": [
       "\u001b[1;3mOutput message of the LLM:\u001b[0m \u001b[38;2;212;183;2m───────────────────────────────────────\u001b[0m\n",
       "\u001b[38;2;230;237;243;48;2;13;17;23mThought:\u001b[0m\u001b[38;2;230;237;243;48;2;13;17;23m \u001b[0m\u001b[38;2;230;237;243;48;2;13;17;23mI\u001b[0m\u001b[38;2;230;237;243;48;2;13;17;23m \u001b[0m\u001b[38;2;230;237;243;48;2;13;17;23mhave\u001b[0m\u001b[38;2;230;237;243;48;2;13;17;23m \u001b[0m\u001b[38;2;230;237;243;48;2;13;17;23mthe\u001b[0m\u001b[38;2;230;237;243;48;2;13;17;23m \u001b[0m\u001b[38;2;230;237;243;48;2;13;17;23mtransportation\u001b[0m\u001b[38;2;230;237;243;48;2;13;17;23m \u001b[0m\u001b[38;2;230;237;243;48;2;13;17;23mcost\u001b[0m\u001b[38;2;230;237;243;48;2;13;17;23m \u001b[0m\u001b[38;2;230;237;243;48;2;13;17;23mfor\u001b[0m\u001b[38;2;230;237;243;48;2;13;17;23m \u001b[0m\u001b[38;2;230;237;243;48;2;13;17;23m50\u001b[0m\u001b[38;2;230;237;243;48;2;13;17;23m \u001b[0m\u001b[38;2;230;237;243;48;2;13;17;23mliters\u001b[0m\u001b[38;2;230;237;243;48;2;13;17;23m \u001b[0m\u001b[38;2;230;237;243;48;2;13;17;23mof\u001b[0m\u001b[38;2;230;237;243;48;2;13;17;23m \u001b[0m\u001b[38;2;230;237;243;48;2;13;17;23mice\u001b[0m\u001b[38;2;230;237;243;48;2;13;17;23m \u001b[0m\u001b[38;2;230;237;243;48;2;13;17;23mcream\u001b[0m\n",
       "\u001b[38;2;230;237;243;48;2;13;17;23mover\u001b[0m\u001b[38;2;230;237;243;48;2;13;17;23m \u001b[0m\u001b[38;2;230;237;243;48;2;13;17;23m10\u001b[0m\u001b[38;2;230;237;243;48;2;13;17;23m \u001b[0m\u001b[38;2;230;237;243;48;2;13;17;23mkilometers.\u001b[0m\u001b[38;2;230;237;243;48;2;13;17;23m \u001b[0m\u001b[38;2;230;237;243;48;2;13;17;23mI\u001b[0m\u001b[38;2;230;237;243;48;2;13;17;23m \u001b[0m\u001b[38;2;230;237;243;48;2;13;17;23mwill\u001b[0m\u001b[38;2;230;237;243;48;2;13;17;23m \u001b[0m\u001b[38;2;230;237;243;48;2;13;17;23mnow\u001b[0m\u001b[38;2;230;237;243;48;2;13;17;23m \u001b[0m\u001b[38;2;230;237;243;48;2;13;17;23mprovide\u001b[0m\u001b[38;2;230;237;243;48;2;13;17;23m \u001b[0m\u001b[38;2;230;237;243;48;2;13;17;23mthe\u001b[0m\u001b[38;2;230;237;243;48;2;13;17;23m \u001b[0m\u001b[38;2;230;237;243;48;2;13;17;23mfinal\u001b[0m\u001b[38;2;230;237;243;48;2;13;17;23m \u001b[0m\u001b[38;2;230;237;243;48;2;13;17;23manswer.\u001b[0m\u001b[48;2;13;17;23m          \u001b[0m\n",
       "\u001b[38;2;230;237;243;48;2;13;17;23mCode:\u001b[0m\u001b[48;2;13;17;23m                                                             \u001b[0m\n",
       "\u001b[38;2;230;237;243;48;2;13;17;23m```py\u001b[0m\u001b[48;2;13;17;23m                                                             \u001b[0m\n",
       "\u001b[38;2;230;237;243;48;2;13;17;23mfinal_answer(12.0)\u001b[0m\u001b[48;2;13;17;23m                                                \u001b[0m\n",
       "\u001b[38;2;230;237;243;48;2;13;17;23m```<end_code>\u001b[0m\u001b[48;2;13;17;23m                                                     \u001b[0m\n"
      ]
     },
     "metadata": {},
     "output_type": "display_data"
    },
    {
     "data": {
      "text/html": [
       "<pre style=\"white-space:pre;overflow-x:auto;line-height:normal;font-family:Menlo,'DejaVu Sans Mono',consolas,'Courier New',monospace\"> ─ <span style=\"font-weight: bold\">Executing parsed code:</span> ─────────────────────────────────────── \n",
       "  <span style=\"color: #f8f8f2; text-decoration-color: #f8f8f2; background-color: #272822\">final_answer(</span><span style=\"color: #ae81ff; text-decoration-color: #ae81ff; background-color: #272822\">12.0</span><span style=\"color: #f8f8f2; text-decoration-color: #f8f8f2; background-color: #272822\">)</span><span style=\"background-color: #272822\">                                            </span>  \n",
       " ──────────────────────────────────────────────────────────────── \n",
       "</pre>\n"
      ],
      "text/plain": [
       " ─ \u001b[1mExecuting parsed code:\u001b[0m ─────────────────────────────────────── \n",
       "  \u001b[38;2;248;248;242;48;2;39;40;34mfinal_answer\u001b[0m\u001b[38;2;248;248;242;48;2;39;40;34m(\u001b[0m\u001b[38;2;174;129;255;48;2;39;40;34m12.0\u001b[0m\u001b[38;2;248;248;242;48;2;39;40;34m)\u001b[0m\u001b[48;2;39;40;34m                                            \u001b[0m  \n",
       " ──────────────────────────────────────────────────────────────── \n"
      ]
     },
     "metadata": {},
     "output_type": "display_data"
    },
    {
     "data": {
      "text/html": [
       "<pre style=\"white-space:pre;overflow-x:auto;line-height:normal;font-family:Menlo,'DejaVu Sans Mono',consolas,'Courier New',monospace\"><span style=\"color: #d4b702; text-decoration-color: #d4b702; font-weight: bold\">Out - Final answer: 12.0</span>\n",
       "</pre>\n"
      ],
      "text/plain": [
       "\u001b[1;38;2;212;183;2mOut - Final answer: 12.0\u001b[0m\n"
      ]
     },
     "metadata": {},
     "output_type": "display_data"
    },
    {
     "data": {
      "text/html": [
       "<pre style=\"white-space:pre;overflow-x:auto;line-height:normal;font-family:Menlo,'DejaVu Sans Mono',consolas,'Courier New',monospace\"><span style=\"color: #7f7f7f; text-decoration-color: #7f7f7f\">[Step 2: Duration 1.64 seconds| Input tokens: 4,601 | Output </span>\n",
       "<span style=\"color: #7f7f7f; text-decoration-color: #7f7f7f\">tokens: 138]</span>\n",
       "</pre>\n"
      ],
      "text/plain": [
       "\u001b[2m[Step 2: Duration 1.64 seconds| Input tokens: 4,601 | Output \u001b[0m\n",
       "\u001b[2mtokens: 138]\u001b[0m\n"
      ]
     },
     "metadata": {},
     "output_type": "display_data"
    },
    {
     "data": {
      "text/plain": [
       "12.0"
      ]
     },
     "execution_count": 8,
     "metadata": {},
     "output_type": "execute_result"
    }
   ],
   "source": [
    "agent.run(\n",
    "    \"\"\"Can you get me the transportation cost for 50 liters\n",
    "    of ice cream over 10 kilometers?\"\"\"\n",
    ")"
   ]
  },
  {
   "cell_type": "markdown",
   "id": "73c7d36d-8fb2-4d66-8769-94e922a9626e",
   "metadata": {},
   "source": [
    "## Give the agent detailed instructions"
   ]
  },
  {
   "cell_type": "code",
   "execution_count": 9,
   "id": "88a2bb58-035b-42a2-ac9a-08f702eaa868",
   "metadata": {
    "height": 215
   },
   "outputs": [
    {
     "data": {
      "text/html": [
       "<pre style=\"white-space:pre;overflow-x:auto;line-height:normal;font-family:Menlo,'DejaVu Sans Mono',consolas,'Courier New',monospace\"><span style=\"color: #d4b702; text-decoration-color: #d4b702\">╭─────────────────────────── </span><span style=\"color: #d4b702; text-decoration-color: #d4b702; font-weight: bold\">New run</span><span style=\"color: #d4b702; text-decoration-color: #d4b702\"> ────────────────────────────╮</span>\n",
       "<span style=\"color: #d4b702; text-decoration-color: #d4b702\">│</span>                                                                <span style=\"color: #d4b702; text-decoration-color: #d4b702\">│</span>\n",
       "<span style=\"color: #d4b702; text-decoration-color: #d4b702\">│</span> <span style=\"font-weight: bold\">Here is a dataframe of different ice cream suppliers.</span>          <span style=\"color: #d4b702; text-decoration-color: #d4b702\">│</span>\n",
       "<span style=\"color: #d4b702; text-decoration-color: #d4b702\">│</span> <span style=\"font-weight: bold\">Could you give me a comparative table (as a dataframe) of the </span> <span style=\"color: #d4b702; text-decoration-color: #d4b702\">│</span>\n",
       "<span style=\"color: #d4b702; text-decoration-color: #d4b702\">│</span> <span style=\"font-weight: bold\">total</span>                                                          <span style=\"color: #d4b702; text-decoration-color: #d4b702\">│</span>\n",
       "<span style=\"color: #d4b702; text-decoration-color: #d4b702\">│</span> <span style=\"font-weight: bold\">daily price for getting daily ice cream delivery from each of </span> <span style=\"color: #d4b702; text-decoration-color: #d4b702\">│</span>\n",
       "<span style=\"color: #d4b702; text-decoration-color: #d4b702\">│</span> <span style=\"font-weight: bold\">them,</span>                                                          <span style=\"color: #d4b702; text-decoration-color: #d4b702\">│</span>\n",
       "<span style=\"color: #d4b702; text-decoration-color: #d4b702\">│</span> <span style=\"font-weight: bold\">given that we need exactly 30 liters of ice cream per day? </span>    <span style=\"color: #d4b702; text-decoration-color: #d4b702\">│</span>\n",
       "<span style=\"color: #d4b702; text-decoration-color: #d4b702\">│</span> <span style=\"font-weight: bold\">Take</span>                                                           <span style=\"color: #d4b702; text-decoration-color: #d4b702\">│</span>\n",
       "<span style=\"color: #d4b702; text-decoration-color: #d4b702\">│</span> <span style=\"font-weight: bold\">into account transportation cost and tariffs.</span>                  <span style=\"color: #d4b702; text-decoration-color: #d4b702\">│</span>\n",
       "<span style=\"color: #d4b702; text-decoration-color: #d4b702\">│</span>                                                                <span style=\"color: #d4b702; text-decoration-color: #d4b702\">│</span>\n",
       "<span style=\"color: #d4b702; text-decoration-color: #d4b702\">│</span> <span style=\"font-weight: bold\">You have been provided with these additional arguments, that </span>  <span style=\"color: #d4b702; text-decoration-color: #d4b702\">│</span>\n",
       "<span style=\"color: #d4b702; text-decoration-color: #d4b702\">│</span> <span style=\"font-weight: bold\">you can access using the keys as variables in your python </span>     <span style=\"color: #d4b702; text-decoration-color: #d4b702\">│</span>\n",
       "<span style=\"color: #d4b702; text-decoration-color: #d4b702\">│</span> <span style=\"font-weight: bold\">code:</span>                                                          <span style=\"color: #d4b702; text-decoration-color: #d4b702\">│</span>\n",
       "<span style=\"color: #d4b702; text-decoration-color: #d4b702\">│</span> <span style=\"font-weight: bold\">{'suppliers_data':                     name        location  </span>  <span style=\"color: #d4b702; text-decoration-color: #d4b702\">│</span>\n",
       "<span style=\"color: #d4b702; text-decoration-color: #d4b702\">│</span> <span style=\"font-weight: bold\">distance_km  canadian  \\</span>                                       <span style=\"color: #d4b702; text-decoration-color: #d4b702\">│</span>\n",
       "<span style=\"color: #d4b702; text-decoration-color: #d4b702\">│</span> <span style=\"font-weight: bold\">0  Montreal Ice Cream Co    Montreal, QC          120      </span>    <span style=\"color: #d4b702; text-decoration-color: #d4b702\">│</span>\n",
       "<span style=\"color: #d4b702; text-decoration-color: #d4b702\">│</span> <span style=\"font-weight: bold\">True   </span>                                                        <span style=\"color: #d4b702; text-decoration-color: #d4b702\">│</span>\n",
       "<span style=\"color: #d4b702; text-decoration-color: #d4b702\">│</span> <span style=\"font-weight: bold\">1  Brain Freeze Brothers  Burlington, VT           85     </span>     <span style=\"color: #d4b702; text-decoration-color: #d4b702\">│</span>\n",
       "<span style=\"color: #d4b702; text-decoration-color: #d4b702\">│</span> <span style=\"font-weight: bold\">False   </span>                                                       <span style=\"color: #d4b702; text-decoration-color: #d4b702\">│</span>\n",
       "<span style=\"color: #d4b702; text-decoration-color: #d4b702\">│</span> <span style=\"font-weight: bold\">2     Toronto Gelato Ltd     Toronto, ON          400      </span>    <span style=\"color: #d4b702; text-decoration-color: #d4b702\">│</span>\n",
       "<span style=\"color: #d4b702; text-decoration-color: #d4b702\">│</span> <span style=\"font-weight: bold\">True   </span>                                                        <span style=\"color: #d4b702; text-decoration-color: #d4b702\">│</span>\n",
       "<span style=\"color: #d4b702; text-decoration-color: #d4b702\">│</span> <span style=\"font-weight: bold\">3         Buffalo Scoops     Buffalo, NY          220     </span>     <span style=\"color: #d4b702; text-decoration-color: #d4b702\">│</span>\n",
       "<span style=\"color: #d4b702; text-decoration-color: #d4b702\">│</span> <span style=\"font-weight: bold\">False   </span>                                                       <span style=\"color: #d4b702; text-decoration-color: #d4b702\">│</span>\n",
       "<span style=\"color: #d4b702; text-decoration-color: #d4b702\">│</span> <span style=\"font-weight: bold\">4       Vermont Creamery    Portland, ME          280     </span>     <span style=\"color: #d4b702; text-decoration-color: #d4b702\">│</span>\n",
       "<span style=\"color: #d4b702; text-decoration-color: #d4b702\">│</span> <span style=\"font-weight: bold\">False   </span>                                                       <span style=\"color: #d4b702; text-decoration-color: #d4b702\">│</span>\n",
       "<span style=\"color: #d4b702; text-decoration-color: #d4b702\">│</span>                                                                <span style=\"color: #d4b702; text-decoration-color: #d4b702\">│</span>\n",
       "<span style=\"color: #d4b702; text-decoration-color: #d4b702\">│</span> <span style=\"font-weight: bold\">   price_per_liter  tasting_fee  </span>                              <span style=\"color: #d4b702; text-decoration-color: #d4b702\">│</span>\n",
       "<span style=\"color: #d4b702; text-decoration-color: #d4b702\">│</span> <span style=\"font-weight: bold\">0             1.95         0.00  </span>                              <span style=\"color: #d4b702; text-decoration-color: #d4b702\">│</span>\n",
       "<span style=\"color: #d4b702; text-decoration-color: #d4b702\">│</span> <span style=\"font-weight: bold\">1             1.91        12.50  </span>                              <span style=\"color: #d4b702; text-decoration-color: #d4b702\">│</span>\n",
       "<span style=\"color: #d4b702; text-decoration-color: #d4b702\">│</span> <span style=\"font-weight: bold\">2             1.82        30.14  </span>                              <span style=\"color: #d4b702; text-decoration-color: #d4b702\">│</span>\n",
       "<span style=\"color: #d4b702; text-decoration-color: #d4b702\">│</span> <span style=\"font-weight: bold\">3             2.43        42.00  </span>                              <span style=\"color: #d4b702; text-decoration-color: #d4b702\">│</span>\n",
       "<span style=\"color: #d4b702; text-decoration-color: #d4b702\">│</span> <span style=\"font-weight: bold\">4             2.33         0.20  , 'data_description': </span>        <span style=\"color: #d4b702; text-decoration-color: #d4b702\">│</span>\n",
       "<span style=\"color: #d4b702; text-decoration-color: #d4b702\">│</span> <span style=\"font-weight: bold\">'Suppliers have an additional tasting fee: that is a fixed fee</span> <span style=\"color: #d4b702; text-decoration-color: #d4b702\">│</span>\n",
       "<span style=\"color: #d4b702; text-decoration-color: #d4b702\">│</span> <span style=\"font-weight: bold\">applied to each order to taste the ice cream.'}.</span>               <span style=\"color: #d4b702; text-decoration-color: #d4b702\">│</span>\n",
       "<span style=\"color: #d4b702; text-decoration-color: #d4b702\">│</span>                                                                <span style=\"color: #d4b702; text-decoration-color: #d4b702\">│</span>\n",
       "<span style=\"color: #d4b702; text-decoration-color: #d4b702\">╰─ HfApiModel - Qwen/Qwen2.5-72B-Instruct ───────────────────────╯</span>\n",
       "</pre>\n"
      ],
      "text/plain": [
       "\u001b[38;2;212;183;2m╭─\u001b[0m\u001b[38;2;212;183;2m──────────────────────────\u001b[0m\u001b[38;2;212;183;2m \u001b[0m\u001b[1;38;2;212;183;2mNew run\u001b[0m\u001b[38;2;212;183;2m \u001b[0m\u001b[38;2;212;183;2m───────────────────────────\u001b[0m\u001b[38;2;212;183;2m─╮\u001b[0m\n",
       "\u001b[38;2;212;183;2m│\u001b[0m                                                                \u001b[38;2;212;183;2m│\u001b[0m\n",
       "\u001b[38;2;212;183;2m│\u001b[0m \u001b[1mHere is a dataframe of different ice cream suppliers.\u001b[0m          \u001b[38;2;212;183;2m│\u001b[0m\n",
       "\u001b[38;2;212;183;2m│\u001b[0m \u001b[1mCould you give me a comparative table (as a dataframe) of the \u001b[0m \u001b[38;2;212;183;2m│\u001b[0m\n",
       "\u001b[38;2;212;183;2m│\u001b[0m \u001b[1mtotal\u001b[0m                                                          \u001b[38;2;212;183;2m│\u001b[0m\n",
       "\u001b[38;2;212;183;2m│\u001b[0m \u001b[1mdaily price for getting daily ice cream delivery from each of \u001b[0m \u001b[38;2;212;183;2m│\u001b[0m\n",
       "\u001b[38;2;212;183;2m│\u001b[0m \u001b[1mthem,\u001b[0m                                                          \u001b[38;2;212;183;2m│\u001b[0m\n",
       "\u001b[38;2;212;183;2m│\u001b[0m \u001b[1mgiven that we need exactly 30 liters of ice cream per day? \u001b[0m    \u001b[38;2;212;183;2m│\u001b[0m\n",
       "\u001b[38;2;212;183;2m│\u001b[0m \u001b[1mTake\u001b[0m                                                           \u001b[38;2;212;183;2m│\u001b[0m\n",
       "\u001b[38;2;212;183;2m│\u001b[0m \u001b[1minto account transportation cost and tariffs.\u001b[0m                  \u001b[38;2;212;183;2m│\u001b[0m\n",
       "\u001b[38;2;212;183;2m│\u001b[0m                                                                \u001b[38;2;212;183;2m│\u001b[0m\n",
       "\u001b[38;2;212;183;2m│\u001b[0m \u001b[1mYou have been provided with these additional arguments, that \u001b[0m  \u001b[38;2;212;183;2m│\u001b[0m\n",
       "\u001b[38;2;212;183;2m│\u001b[0m \u001b[1myou can access using the keys as variables in your python \u001b[0m     \u001b[38;2;212;183;2m│\u001b[0m\n",
       "\u001b[38;2;212;183;2m│\u001b[0m \u001b[1mcode:\u001b[0m                                                          \u001b[38;2;212;183;2m│\u001b[0m\n",
       "\u001b[38;2;212;183;2m│\u001b[0m \u001b[1m{'suppliers_data':                     name        location  \u001b[0m  \u001b[38;2;212;183;2m│\u001b[0m\n",
       "\u001b[38;2;212;183;2m│\u001b[0m \u001b[1mdistance_km  canadian  \\\u001b[0m                                       \u001b[38;2;212;183;2m│\u001b[0m\n",
       "\u001b[38;2;212;183;2m│\u001b[0m \u001b[1m0  Montreal Ice Cream Co    Montreal, QC          120      \u001b[0m    \u001b[38;2;212;183;2m│\u001b[0m\n",
       "\u001b[38;2;212;183;2m│\u001b[0m \u001b[1mTrue   \u001b[0m                                                        \u001b[38;2;212;183;2m│\u001b[0m\n",
       "\u001b[38;2;212;183;2m│\u001b[0m \u001b[1m1  Brain Freeze Brothers  Burlington, VT           85     \u001b[0m     \u001b[38;2;212;183;2m│\u001b[0m\n",
       "\u001b[38;2;212;183;2m│\u001b[0m \u001b[1mFalse   \u001b[0m                                                       \u001b[38;2;212;183;2m│\u001b[0m\n",
       "\u001b[38;2;212;183;2m│\u001b[0m \u001b[1m2     Toronto Gelato Ltd     Toronto, ON          400      \u001b[0m    \u001b[38;2;212;183;2m│\u001b[0m\n",
       "\u001b[38;2;212;183;2m│\u001b[0m \u001b[1mTrue   \u001b[0m                                                        \u001b[38;2;212;183;2m│\u001b[0m\n",
       "\u001b[38;2;212;183;2m│\u001b[0m \u001b[1m3         Buffalo Scoops     Buffalo, NY          220     \u001b[0m     \u001b[38;2;212;183;2m│\u001b[0m\n",
       "\u001b[38;2;212;183;2m│\u001b[0m \u001b[1mFalse   \u001b[0m                                                       \u001b[38;2;212;183;2m│\u001b[0m\n",
       "\u001b[38;2;212;183;2m│\u001b[0m \u001b[1m4       Vermont Creamery    Portland, ME          280     \u001b[0m     \u001b[38;2;212;183;2m│\u001b[0m\n",
       "\u001b[38;2;212;183;2m│\u001b[0m \u001b[1mFalse   \u001b[0m                                                       \u001b[38;2;212;183;2m│\u001b[0m\n",
       "\u001b[38;2;212;183;2m│\u001b[0m                                                                \u001b[38;2;212;183;2m│\u001b[0m\n",
       "\u001b[38;2;212;183;2m│\u001b[0m \u001b[1m   price_per_liter  tasting_fee  \u001b[0m                              \u001b[38;2;212;183;2m│\u001b[0m\n",
       "\u001b[38;2;212;183;2m│\u001b[0m \u001b[1m0             1.95         0.00  \u001b[0m                              \u001b[38;2;212;183;2m│\u001b[0m\n",
       "\u001b[38;2;212;183;2m│\u001b[0m \u001b[1m1             1.91        12.50  \u001b[0m                              \u001b[38;2;212;183;2m│\u001b[0m\n",
       "\u001b[38;2;212;183;2m│\u001b[0m \u001b[1m2             1.82        30.14  \u001b[0m                              \u001b[38;2;212;183;2m│\u001b[0m\n",
       "\u001b[38;2;212;183;2m│\u001b[0m \u001b[1m3             2.43        42.00  \u001b[0m                              \u001b[38;2;212;183;2m│\u001b[0m\n",
       "\u001b[38;2;212;183;2m│\u001b[0m \u001b[1m4             2.33         0.20  , 'data_description': \u001b[0m        \u001b[38;2;212;183;2m│\u001b[0m\n",
       "\u001b[38;2;212;183;2m│\u001b[0m \u001b[1m'Suppliers have an additional tasting fee: that is a fixed fee\u001b[0m \u001b[38;2;212;183;2m│\u001b[0m\n",
       "\u001b[38;2;212;183;2m│\u001b[0m \u001b[1mapplied to each order to taste the ice cream.'}.\u001b[0m               \u001b[38;2;212;183;2m│\u001b[0m\n",
       "\u001b[38;2;212;183;2m│\u001b[0m                                                                \u001b[38;2;212;183;2m│\u001b[0m\n",
       "\u001b[38;2;212;183;2m╰─\u001b[0m\u001b[38;2;212;183;2m HfApiModel - Qwen/Qwen2.5-72B-Instruct \u001b[0m\u001b[38;2;212;183;2m──────────────────────\u001b[0m\u001b[38;2;212;183;2m─╯\u001b[0m\n"
      ]
     },
     "metadata": {},
     "output_type": "display_data"
    },
    {
     "data": {
      "text/html": [
       "<pre style=\"white-space:pre;overflow-x:auto;line-height:normal;font-family:Menlo,'DejaVu Sans Mono',consolas,'Courier New',monospace\"><span style=\"color: #d4b702; text-decoration-color: #d4b702\">━━━━━━━━━━━━━━━━━━━━━━━━━━━━━ </span><span style=\"font-weight: bold\">Step </span><span style=\"color: #008080; text-decoration-color: #008080; font-weight: bold\">1</span><span style=\"color: #d4b702; text-decoration-color: #d4b702\"> ━━━━━━━━━━━━━━━━━━━━━━━━━━━━━</span>\n",
       "</pre>\n"
      ],
      "text/plain": [
       "\u001b[38;2;212;183;2m━━━━━━━━━━━━━━━━━━━━━━━━━━━━━ \u001b[0m\u001b[1mStep \u001b[0m\u001b[1;36m1\u001b[0m\u001b[38;2;212;183;2m ━━━━━━━━━━━━━━━━━━━━━━━━━━━━━\u001b[0m\n"
      ]
     },
     "metadata": {},
     "output_type": "display_data"
    },
    {
     "data": {
      "text/html": [
       "<pre style=\"white-space:pre;overflow-x:auto;line-height:normal;font-family:Menlo,'DejaVu Sans Mono',consolas,'Courier New',monospace\"> ─ <span style=\"font-weight: bold\">Executing parsed code:</span> ─────────────────────────────────────── \n",
       "  <span style=\"color: #ff4689; text-decoration-color: #ff4689; background-color: #272822\">import</span><span style=\"color: #f8f8f2; text-decoration-color: #f8f8f2; background-color: #272822\"> pandas </span><span style=\"color: #66d9ef; text-decoration-color: #66d9ef; background-color: #272822\">as</span><span style=\"color: #f8f8f2; text-decoration-color: #f8f8f2; background-color: #272822\"> pd</span><span style=\"background-color: #272822\">                                           </span>  \n",
       "  <span style=\"background-color: #272822\">                                                              </span>  \n",
       "  <span style=\"color: #959077; text-decoration-color: #959077; background-color: #272822\"># Convert the suppliers_data to a pandas DataFrame</span><span style=\"background-color: #272822\">            </span>  \n",
       "  <span style=\"color: #f8f8f2; text-decoration-color: #f8f8f2; background-color: #272822\">suppliers_df </span><span style=\"color: #ff4689; text-decoration-color: #ff4689; background-color: #272822\">=</span><span style=\"color: #f8f8f2; text-decoration-color: #f8f8f2; background-color: #272822\"> pd</span><span style=\"color: #ff4689; text-decoration-color: #ff4689; background-color: #272822\">.</span><span style=\"color: #f8f8f2; text-decoration-color: #f8f8f2; background-color: #272822\">DataFrame(suppliers_data)</span><span style=\"background-color: #272822\">                   </span>  \n",
       "  <span style=\"background-color: #272822\">                                                              </span>  \n",
       "  <span style=\"color: #959077; text-decoration-color: #959077; background-color: #272822\"># Calculate the total daily cost for each supplier</span><span style=\"background-color: #272822\">            </span>  \n",
       "  <span style=\"color: #f8f8f2; text-decoration-color: #f8f8f2; background-color: #272822\">suppliers_df[</span><span style=\"color: #e6db74; text-decoration-color: #e6db74; background-color: #272822\">'total_daily_cost'</span><span style=\"color: #f8f8f2; text-decoration-color: #f8f8f2; background-color: #272822\">] </span><span style=\"color: #ff4689; text-decoration-color: #ff4689; background-color: #272822\">=</span><span style=\"color: #f8f8f2; text-decoration-color: #f8f8f2; background-color: #272822\"> suppliers_df</span><span style=\"color: #ff4689; text-decoration-color: #ff4689; background-color: #272822\">.</span><span style=\"color: #f8f8f2; text-decoration-color: #f8f8f2; background-color: #272822\">apply(</span><span style=\"background-color: #272822\">        </span>  \n",
       "  <span style=\"color: #f8f8f2; text-decoration-color: #f8f8f2; background-color: #272822\">    </span><span style=\"color: #66d9ef; text-decoration-color: #66d9ef; background-color: #272822\">lambda</span><span style=\"color: #f8f8f2; text-decoration-color: #f8f8f2; background-color: #272822\"> row: (</span><span style=\"background-color: #272822\">                                             </span>  \n",
       "  <span style=\"color: #f8f8f2; text-decoration-color: #f8f8f2; background-color: #272822\">        row[</span><span style=\"color: #e6db74; text-decoration-color: #e6db74; background-color: #272822\">'price_per_liter'</span><span style=\"color: #f8f8f2; text-decoration-color: #f8f8f2; background-color: #272822\">] </span><span style=\"color: #ff4689; text-decoration-color: #ff4689; background-color: #272822\">*</span><span style=\"color: #f8f8f2; text-decoration-color: #f8f8f2; background-color: #272822\"> </span><span style=\"color: #ae81ff; text-decoration-color: #ae81ff; background-color: #272822\">30</span><span style=\"color: #f8f8f2; text-decoration-color: #f8f8f2; background-color: #272822\">  </span><span style=\"color: #959077; text-decoration-color: #959077; background-color: #272822\"># Cost of 30 liters of </span><span style=\"background-color: #272822\">  </span>  \n",
       "  <span style=\"color: #959077; text-decoration-color: #959077; background-color: #272822\">ice cream</span><span style=\"background-color: #272822\">                                                     </span>  \n",
       "  <span style=\"color: #f8f8f2; text-decoration-color: #f8f8f2; background-color: #272822\">        </span><span style=\"color: #ff4689; text-decoration-color: #ff4689; background-color: #272822\">+</span><span style=\"color: #f8f8f2; text-decoration-color: #f8f8f2; background-color: #272822\"> calculate_transport_cost(row[</span><span style=\"color: #e6db74; text-decoration-color: #e6db74; background-color: #272822\">'distance_km'</span><span style=\"color: #f8f8f2; text-decoration-color: #f8f8f2; background-color: #272822\">], </span><span style=\"color: #ae81ff; text-decoration-color: #ae81ff; background-color: #272822\">30</span><span style=\"color: #f8f8f2; text-decoration-color: #f8f8f2; background-color: #272822\">)  </span><span style=\"color: #959077; text-decoration-color: #959077; background-color: #272822\"># </span>  \n",
       "  <span style=\"color: #959077; text-decoration-color: #959077; background-color: #272822\">Transportation cost</span><span style=\"background-color: #272822\">                                           </span>  \n",
       "  <span style=\"color: #f8f8f2; text-decoration-color: #f8f8f2; background-color: #272822\">        </span><span style=\"color: #ff4689; text-decoration-color: #ff4689; background-color: #272822\">+</span><span style=\"color: #f8f8f2; text-decoration-color: #f8f8f2; background-color: #272822\"> calculate_tariff(row[</span><span style=\"color: #e6db74; text-decoration-color: #e6db74; background-color: #272822\">'price_per_liter'</span><span style=\"color: #f8f8f2; text-decoration-color: #f8f8f2; background-color: #272822\">] </span><span style=\"color: #ff4689; text-decoration-color: #ff4689; background-color: #272822\">*</span><span style=\"color: #f8f8f2; text-decoration-color: #f8f8f2; background-color: #272822\"> </span><span style=\"color: #ae81ff; text-decoration-color: #ae81ff; background-color: #272822\">30</span><span style=\"color: #f8f8f2; text-decoration-color: #f8f8f2; background-color: #272822\">, </span><span style=\"background-color: #272822\">      </span>  \n",
       "  <span style=\"color: #f8f8f2; text-decoration-color: #f8f8f2; background-color: #272822\">row[</span><span style=\"color: #e6db74; text-decoration-color: #e6db74; background-color: #272822\">'canadian'</span><span style=\"color: #f8f8f2; text-decoration-color: #f8f8f2; background-color: #272822\">])  </span><span style=\"color: #959077; text-decoration-color: #959077; background-color: #272822\"># Tariff</span><span style=\"background-color: #272822\">                                    </span>  \n",
       "  <span style=\"color: #f8f8f2; text-decoration-color: #f8f8f2; background-color: #272822\">        </span><span style=\"color: #ff4689; text-decoration-color: #ff4689; background-color: #272822\">+</span><span style=\"color: #f8f8f2; text-decoration-color: #f8f8f2; background-color: #272822\"> row[</span><span style=\"color: #e6db74; text-decoration-color: #e6db74; background-color: #272822\">'tasting_fee'</span><span style=\"color: #f8f8f2; text-decoration-color: #f8f8f2; background-color: #272822\">]  </span><span style=\"color: #959077; text-decoration-color: #959077; background-color: #272822\"># Tasting fee</span><span style=\"background-color: #272822\">                   </span>  \n",
       "  <span style=\"color: #f8f8f2; text-decoration-color: #f8f8f2; background-color: #272822\">    ),</span><span style=\"background-color: #272822\">                                                        </span>  \n",
       "  <span style=\"color: #f8f8f2; text-decoration-color: #f8f8f2; background-color: #272822\">    axis</span><span style=\"color: #ff4689; text-decoration-color: #ff4689; background-color: #272822\">=</span><span style=\"color: #ae81ff; text-decoration-color: #ae81ff; background-color: #272822\">1</span><span style=\"background-color: #272822\">                                                    </span>  \n",
       "  <span style=\"color: #f8f8f2; text-decoration-color: #f8f8f2; background-color: #272822\">)</span><span style=\"background-color: #272822\">                                                             </span>  \n",
       "  <span style=\"background-color: #272822\">                                                              </span>  \n",
       "  <span style=\"color: #959077; text-decoration-color: #959077; background-color: #272822\"># Create a new dataframe with the total daily cost for each </span><span style=\"background-color: #272822\">  </span>  \n",
       "  <span style=\"color: #959077; text-decoration-color: #959077; background-color: #272822\">supplier</span><span style=\"background-color: #272822\">                                                      </span>  \n",
       "  <span style=\"color: #f8f8f2; text-decoration-color: #f8f8f2; background-color: #272822\">comparative_table </span><span style=\"color: #ff4689; text-decoration-color: #ff4689; background-color: #272822\">=</span><span style=\"color: #f8f8f2; text-decoration-color: #f8f8f2; background-color: #272822\"> suppliers_df[[</span><span style=\"color: #e6db74; text-decoration-color: #e6db74; background-color: #272822\">'name'</span><span style=\"color: #f8f8f2; text-decoration-color: #f8f8f2; background-color: #272822\">, </span><span style=\"color: #e6db74; text-decoration-color: #e6db74; background-color: #272822\">'total_daily_cost'</span><span style=\"color: #f8f8f2; text-decoration-color: #f8f8f2; background-color: #272822\">]]</span>  \n",
       "  <span style=\"color: #f8f8f2; text-decoration-color: #f8f8f2; background-color: #272822\">print(comparative_table)</span><span style=\"background-color: #272822\">                                      </span>  \n",
       " ──────────────────────────────────────────────────────────────── \n",
       "</pre>\n"
      ],
      "text/plain": [
       " ─ \u001b[1mExecuting parsed code:\u001b[0m ─────────────────────────────────────── \n",
       "  \u001b[38;2;255;70;137;48;2;39;40;34mimport\u001b[0m\u001b[38;2;248;248;242;48;2;39;40;34m \u001b[0m\u001b[38;2;248;248;242;48;2;39;40;34mpandas\u001b[0m\u001b[38;2;248;248;242;48;2;39;40;34m \u001b[0m\u001b[38;2;102;217;239;48;2;39;40;34mas\u001b[0m\u001b[38;2;248;248;242;48;2;39;40;34m \u001b[0m\u001b[38;2;248;248;242;48;2;39;40;34mpd\u001b[0m\u001b[48;2;39;40;34m                                           \u001b[0m  \n",
       "  \u001b[48;2;39;40;34m                                                              \u001b[0m  \n",
       "  \u001b[38;2;149;144;119;48;2;39;40;34m# Convert the suppliers_data to a pandas DataFrame\u001b[0m\u001b[48;2;39;40;34m            \u001b[0m  \n",
       "  \u001b[38;2;248;248;242;48;2;39;40;34msuppliers_df\u001b[0m\u001b[38;2;248;248;242;48;2;39;40;34m \u001b[0m\u001b[38;2;255;70;137;48;2;39;40;34m=\u001b[0m\u001b[38;2;248;248;242;48;2;39;40;34m \u001b[0m\u001b[38;2;248;248;242;48;2;39;40;34mpd\u001b[0m\u001b[38;2;255;70;137;48;2;39;40;34m.\u001b[0m\u001b[38;2;248;248;242;48;2;39;40;34mDataFrame\u001b[0m\u001b[38;2;248;248;242;48;2;39;40;34m(\u001b[0m\u001b[38;2;248;248;242;48;2;39;40;34msuppliers_data\u001b[0m\u001b[38;2;248;248;242;48;2;39;40;34m)\u001b[0m\u001b[48;2;39;40;34m                   \u001b[0m  \n",
       "  \u001b[48;2;39;40;34m                                                              \u001b[0m  \n",
       "  \u001b[38;2;149;144;119;48;2;39;40;34m# Calculate the total daily cost for each supplier\u001b[0m\u001b[48;2;39;40;34m            \u001b[0m  \n",
       "  \u001b[38;2;248;248;242;48;2;39;40;34msuppliers_df\u001b[0m\u001b[38;2;248;248;242;48;2;39;40;34m[\u001b[0m\u001b[38;2;230;219;116;48;2;39;40;34m'\u001b[0m\u001b[38;2;230;219;116;48;2;39;40;34mtotal_daily_cost\u001b[0m\u001b[38;2;230;219;116;48;2;39;40;34m'\u001b[0m\u001b[38;2;248;248;242;48;2;39;40;34m]\u001b[0m\u001b[38;2;248;248;242;48;2;39;40;34m \u001b[0m\u001b[38;2;255;70;137;48;2;39;40;34m=\u001b[0m\u001b[38;2;248;248;242;48;2;39;40;34m \u001b[0m\u001b[38;2;248;248;242;48;2;39;40;34msuppliers_df\u001b[0m\u001b[38;2;255;70;137;48;2;39;40;34m.\u001b[0m\u001b[38;2;248;248;242;48;2;39;40;34mapply\u001b[0m\u001b[38;2;248;248;242;48;2;39;40;34m(\u001b[0m\u001b[48;2;39;40;34m        \u001b[0m  \n",
       "  \u001b[38;2;248;248;242;48;2;39;40;34m    \u001b[0m\u001b[38;2;102;217;239;48;2;39;40;34mlambda\u001b[0m\u001b[38;2;248;248;242;48;2;39;40;34m \u001b[0m\u001b[38;2;248;248;242;48;2;39;40;34mrow\u001b[0m\u001b[38;2;248;248;242;48;2;39;40;34m:\u001b[0m\u001b[38;2;248;248;242;48;2;39;40;34m \u001b[0m\u001b[38;2;248;248;242;48;2;39;40;34m(\u001b[0m\u001b[48;2;39;40;34m                                             \u001b[0m  \n",
       "  \u001b[38;2;248;248;242;48;2;39;40;34m        \u001b[0m\u001b[38;2;248;248;242;48;2;39;40;34mrow\u001b[0m\u001b[38;2;248;248;242;48;2;39;40;34m[\u001b[0m\u001b[38;2;230;219;116;48;2;39;40;34m'\u001b[0m\u001b[38;2;230;219;116;48;2;39;40;34mprice_per_liter\u001b[0m\u001b[38;2;230;219;116;48;2;39;40;34m'\u001b[0m\u001b[38;2;248;248;242;48;2;39;40;34m]\u001b[0m\u001b[38;2;248;248;242;48;2;39;40;34m \u001b[0m\u001b[38;2;255;70;137;48;2;39;40;34m*\u001b[0m\u001b[38;2;248;248;242;48;2;39;40;34m \u001b[0m\u001b[38;2;174;129;255;48;2;39;40;34m30\u001b[0m\u001b[38;2;248;248;242;48;2;39;40;34m  \u001b[0m\u001b[38;2;149;144;119;48;2;39;40;34m# Cost of 30 liters of \u001b[0m\u001b[48;2;39;40;34m  \u001b[0m  \n",
       "  \u001b[38;2;149;144;119;48;2;39;40;34mice cream\u001b[0m\u001b[48;2;39;40;34m                                                     \u001b[0m  \n",
       "  \u001b[38;2;248;248;242;48;2;39;40;34m        \u001b[0m\u001b[38;2;255;70;137;48;2;39;40;34m+\u001b[0m\u001b[38;2;248;248;242;48;2;39;40;34m \u001b[0m\u001b[38;2;248;248;242;48;2;39;40;34mcalculate_transport_cost\u001b[0m\u001b[38;2;248;248;242;48;2;39;40;34m(\u001b[0m\u001b[38;2;248;248;242;48;2;39;40;34mrow\u001b[0m\u001b[38;2;248;248;242;48;2;39;40;34m[\u001b[0m\u001b[38;2;230;219;116;48;2;39;40;34m'\u001b[0m\u001b[38;2;230;219;116;48;2;39;40;34mdistance_km\u001b[0m\u001b[38;2;230;219;116;48;2;39;40;34m'\u001b[0m\u001b[38;2;248;248;242;48;2;39;40;34m]\u001b[0m\u001b[38;2;248;248;242;48;2;39;40;34m,\u001b[0m\u001b[38;2;248;248;242;48;2;39;40;34m \u001b[0m\u001b[38;2;174;129;255;48;2;39;40;34m30\u001b[0m\u001b[38;2;248;248;242;48;2;39;40;34m)\u001b[0m\u001b[38;2;248;248;242;48;2;39;40;34m  \u001b[0m\u001b[38;2;149;144;119;48;2;39;40;34m# \u001b[0m  \n",
       "  \u001b[38;2;149;144;119;48;2;39;40;34mTransportation cost\u001b[0m\u001b[48;2;39;40;34m                                           \u001b[0m  \n",
       "  \u001b[38;2;248;248;242;48;2;39;40;34m        \u001b[0m\u001b[38;2;255;70;137;48;2;39;40;34m+\u001b[0m\u001b[38;2;248;248;242;48;2;39;40;34m \u001b[0m\u001b[38;2;248;248;242;48;2;39;40;34mcalculate_tariff\u001b[0m\u001b[38;2;248;248;242;48;2;39;40;34m(\u001b[0m\u001b[38;2;248;248;242;48;2;39;40;34mrow\u001b[0m\u001b[38;2;248;248;242;48;2;39;40;34m[\u001b[0m\u001b[38;2;230;219;116;48;2;39;40;34m'\u001b[0m\u001b[38;2;230;219;116;48;2;39;40;34mprice_per_liter\u001b[0m\u001b[38;2;230;219;116;48;2;39;40;34m'\u001b[0m\u001b[38;2;248;248;242;48;2;39;40;34m]\u001b[0m\u001b[38;2;248;248;242;48;2;39;40;34m \u001b[0m\u001b[38;2;255;70;137;48;2;39;40;34m*\u001b[0m\u001b[38;2;248;248;242;48;2;39;40;34m \u001b[0m\u001b[38;2;174;129;255;48;2;39;40;34m30\u001b[0m\u001b[38;2;248;248;242;48;2;39;40;34m,\u001b[0m\u001b[38;2;248;248;242;48;2;39;40;34m \u001b[0m\u001b[48;2;39;40;34m      \u001b[0m  \n",
       "  \u001b[38;2;248;248;242;48;2;39;40;34mrow\u001b[0m\u001b[38;2;248;248;242;48;2;39;40;34m[\u001b[0m\u001b[38;2;230;219;116;48;2;39;40;34m'\u001b[0m\u001b[38;2;230;219;116;48;2;39;40;34mcanadian\u001b[0m\u001b[38;2;230;219;116;48;2;39;40;34m'\u001b[0m\u001b[38;2;248;248;242;48;2;39;40;34m]\u001b[0m\u001b[38;2;248;248;242;48;2;39;40;34m)\u001b[0m\u001b[38;2;248;248;242;48;2;39;40;34m  \u001b[0m\u001b[38;2;149;144;119;48;2;39;40;34m# Tariff\u001b[0m\u001b[48;2;39;40;34m                                    \u001b[0m  \n",
       "  \u001b[38;2;248;248;242;48;2;39;40;34m        \u001b[0m\u001b[38;2;255;70;137;48;2;39;40;34m+\u001b[0m\u001b[38;2;248;248;242;48;2;39;40;34m \u001b[0m\u001b[38;2;248;248;242;48;2;39;40;34mrow\u001b[0m\u001b[38;2;248;248;242;48;2;39;40;34m[\u001b[0m\u001b[38;2;230;219;116;48;2;39;40;34m'\u001b[0m\u001b[38;2;230;219;116;48;2;39;40;34mtasting_fee\u001b[0m\u001b[38;2;230;219;116;48;2;39;40;34m'\u001b[0m\u001b[38;2;248;248;242;48;2;39;40;34m]\u001b[0m\u001b[38;2;248;248;242;48;2;39;40;34m  \u001b[0m\u001b[38;2;149;144;119;48;2;39;40;34m# Tasting fee\u001b[0m\u001b[48;2;39;40;34m                   \u001b[0m  \n",
       "  \u001b[38;2;248;248;242;48;2;39;40;34m    \u001b[0m\u001b[38;2;248;248;242;48;2;39;40;34m)\u001b[0m\u001b[38;2;248;248;242;48;2;39;40;34m,\u001b[0m\u001b[48;2;39;40;34m                                                        \u001b[0m  \n",
       "  \u001b[38;2;248;248;242;48;2;39;40;34m    \u001b[0m\u001b[38;2;248;248;242;48;2;39;40;34maxis\u001b[0m\u001b[38;2;255;70;137;48;2;39;40;34m=\u001b[0m\u001b[38;2;174;129;255;48;2;39;40;34m1\u001b[0m\u001b[48;2;39;40;34m                                                    \u001b[0m  \n",
       "  \u001b[38;2;248;248;242;48;2;39;40;34m)\u001b[0m\u001b[48;2;39;40;34m                                                             \u001b[0m  \n",
       "  \u001b[48;2;39;40;34m                                                              \u001b[0m  \n",
       "  \u001b[38;2;149;144;119;48;2;39;40;34m# Create a new dataframe with the total daily cost for each \u001b[0m\u001b[48;2;39;40;34m  \u001b[0m  \n",
       "  \u001b[38;2;149;144;119;48;2;39;40;34msupplier\u001b[0m\u001b[48;2;39;40;34m                                                      \u001b[0m  \n",
       "  \u001b[38;2;248;248;242;48;2;39;40;34mcomparative_table\u001b[0m\u001b[38;2;248;248;242;48;2;39;40;34m \u001b[0m\u001b[38;2;255;70;137;48;2;39;40;34m=\u001b[0m\u001b[38;2;248;248;242;48;2;39;40;34m \u001b[0m\u001b[38;2;248;248;242;48;2;39;40;34msuppliers_df\u001b[0m\u001b[38;2;248;248;242;48;2;39;40;34m[\u001b[0m\u001b[38;2;248;248;242;48;2;39;40;34m[\u001b[0m\u001b[38;2;230;219;116;48;2;39;40;34m'\u001b[0m\u001b[38;2;230;219;116;48;2;39;40;34mname\u001b[0m\u001b[38;2;230;219;116;48;2;39;40;34m'\u001b[0m\u001b[38;2;248;248;242;48;2;39;40;34m,\u001b[0m\u001b[38;2;248;248;242;48;2;39;40;34m \u001b[0m\u001b[38;2;230;219;116;48;2;39;40;34m'\u001b[0m\u001b[38;2;230;219;116;48;2;39;40;34mtotal_daily_cost\u001b[0m\u001b[38;2;230;219;116;48;2;39;40;34m'\u001b[0m\u001b[38;2;248;248;242;48;2;39;40;34m]\u001b[0m\u001b[38;2;248;248;242;48;2;39;40;34m]\u001b[0m  \n",
       "  \u001b[38;2;248;248;242;48;2;39;40;34mprint\u001b[0m\u001b[38;2;248;248;242;48;2;39;40;34m(\u001b[0m\u001b[38;2;248;248;242;48;2;39;40;34mcomparative_table\u001b[0m\u001b[38;2;248;248;242;48;2;39;40;34m)\u001b[0m\u001b[48;2;39;40;34m                                      \u001b[0m  \n",
       " ──────────────────────────────────────────────────────────────── \n"
      ]
     },
     "metadata": {},
     "output_type": "display_data"
    },
    {
     "data": {
      "text/html": [
       "<pre style=\"white-space:pre;overflow-x:auto;line-height:normal;font-family:Menlo,'DejaVu Sans Mono',consolas,'Courier New',monospace\"><span style=\"font-weight: bold\">Execution logs:</span>\n",
       "                    name  total_daily_cost\n",
       "0  Montreal Ice Cream Co        206.175663\n",
       "1  Brain Freeze Brothers        171.800000\n",
       "2     Toronto Gelato Ltd        568.170619\n",
       "3         Buffalo Scoops        378.900000\n",
       "4       Vermont Creamery        406.100000\n",
       "\n",
       "Out: None\n",
       "</pre>\n"
      ],
      "text/plain": [
       "\u001b[1mExecution logs:\u001b[0m\n",
       "                    name  total_daily_cost\n",
       "0  Montreal Ice Cream Co        206.175663\n",
       "1  Brain Freeze Brothers        171.800000\n",
       "2     Toronto Gelato Ltd        568.170619\n",
       "3         Buffalo Scoops        378.900000\n",
       "4       Vermont Creamery        406.100000\n",
       "\n",
       "Out: None\n"
      ]
     },
     "metadata": {},
     "output_type": "display_data"
    },
    {
     "data": {
      "text/html": [
       "<pre style=\"white-space:pre;overflow-x:auto;line-height:normal;font-family:Menlo,'DejaVu Sans Mono',consolas,'Courier New',monospace\"><span style=\"color: #7f7f7f; text-decoration-color: #7f7f7f\">[Step 1: Duration 3.46 seconds| Input tokens: 2,466 | Output </span>\n",
       "<span style=\"color: #7f7f7f; text-decoration-color: #7f7f7f\">tokens: 267]</span>\n",
       "</pre>\n"
      ],
      "text/plain": [
       "\u001b[2m[Step 1: Duration 3.46 seconds| Input tokens: 2,466 | Output \u001b[0m\n",
       "\u001b[2mtokens: 267]\u001b[0m\n"
      ]
     },
     "metadata": {},
     "output_type": "display_data"
    },
    {
     "data": {
      "text/html": [
       "<pre style=\"white-space:pre;overflow-x:auto;line-height:normal;font-family:Menlo,'DejaVu Sans Mono',consolas,'Courier New',monospace\"><span style=\"color: #d4b702; text-decoration-color: #d4b702\">━━━━━━━━━━━━━━━━━━━━━━━━━━━━━ </span><span style=\"font-weight: bold\">Step </span><span style=\"color: #008080; text-decoration-color: #008080; font-weight: bold\">2</span><span style=\"color: #d4b702; text-decoration-color: #d4b702\"> ━━━━━━━━━━━━━━━━━━━━━━━━━━━━━</span>\n",
       "</pre>\n"
      ],
      "text/plain": [
       "\u001b[38;2;212;183;2m━━━━━━━━━━━━━━━━━━━━━━━━━━━━━ \u001b[0m\u001b[1mStep \u001b[0m\u001b[1;36m2\u001b[0m\u001b[38;2;212;183;2m ━━━━━━━━━━━━━━━━━━━━━━━━━━━━━\u001b[0m\n"
      ]
     },
     "metadata": {},
     "output_type": "display_data"
    },
    {
     "data": {
      "text/html": [
       "<pre style=\"white-space:pre;overflow-x:auto;line-height:normal;font-family:Menlo,'DejaVu Sans Mono',consolas,'Courier New',monospace\"> ─ <span style=\"font-weight: bold\">Executing parsed code:</span> ─────────────────────────────────────── \n",
       "  <span style=\"color: #f8f8f2; text-decoration-color: #f8f8f2; background-color: #272822\">final_answer(comparative_table)</span><span style=\"background-color: #272822\">                               </span>  \n",
       " ──────────────────────────────────────────────────────────────── \n",
       "</pre>\n"
      ],
      "text/plain": [
       " ─ \u001b[1mExecuting parsed code:\u001b[0m ─────────────────────────────────────── \n",
       "  \u001b[38;2;248;248;242;48;2;39;40;34mfinal_answer\u001b[0m\u001b[38;2;248;248;242;48;2;39;40;34m(\u001b[0m\u001b[38;2;248;248;242;48;2;39;40;34mcomparative_table\u001b[0m\u001b[38;2;248;248;242;48;2;39;40;34m)\u001b[0m\u001b[48;2;39;40;34m                               \u001b[0m  \n",
       " ──────────────────────────────────────────────────────────────── \n"
      ]
     },
     "metadata": {},
     "output_type": "display_data"
    },
    {
     "data": {
      "text/html": [
       "<pre style=\"white-space:pre;overflow-x:auto;line-height:normal;font-family:Menlo,'DejaVu Sans Mono',consolas,'Courier New',monospace\"><span style=\"color: #d4b702; text-decoration-color: #d4b702; font-weight: bold\">Out - Final answer:                     name  total_daily_cost</span>\n",
       "<span style=\"color: #d4b702; text-decoration-color: #d4b702; font-weight: bold\">0  Montreal Ice Cream Co        206.175663</span>\n",
       "<span style=\"color: #d4b702; text-decoration-color: #d4b702; font-weight: bold\">1  Brain Freeze Brothers        171.800000</span>\n",
       "<span style=\"color: #d4b702; text-decoration-color: #d4b702; font-weight: bold\">2     Toronto Gelato Ltd        568.170619</span>\n",
       "<span style=\"color: #d4b702; text-decoration-color: #d4b702; font-weight: bold\">3         Buffalo Scoops        378.900000</span>\n",
       "<span style=\"color: #d4b702; text-decoration-color: #d4b702; font-weight: bold\">4       Vermont Creamery        406.100000</span>\n",
       "</pre>\n"
      ],
      "text/plain": [
       "\u001b[1;38;2;212;183;2mOut - Final answer:                     name  total_daily_cost\u001b[0m\n",
       "\u001b[1;38;2;212;183;2m0  Montreal Ice Cream Co        206.175663\u001b[0m\n",
       "\u001b[1;38;2;212;183;2m1  Brain Freeze Brothers        171.800000\u001b[0m\n",
       "\u001b[1;38;2;212;183;2m2     Toronto Gelato Ltd        568.170619\u001b[0m\n",
       "\u001b[1;38;2;212;183;2m3         Buffalo Scoops        378.900000\u001b[0m\n",
       "\u001b[1;38;2;212;183;2m4       Vermont Creamery        406.100000\u001b[0m\n"
      ]
     },
     "metadata": {},
     "output_type": "display_data"
    },
    {
     "data": {
      "text/html": [
       "<pre style=\"white-space:pre;overflow-x:auto;line-height:normal;font-family:Menlo,'DejaVu Sans Mono',consolas,'Courier New',monospace\"><span style=\"color: #7f7f7f; text-decoration-color: #7f7f7f\">[Step 2: Duration 1.55 seconds| Input tokens: 5,548 | Output </span>\n",
       "<span style=\"color: #7f7f7f; text-decoration-color: #7f7f7f\">tokens: 321]</span>\n",
       "</pre>\n"
      ],
      "text/plain": [
       "\u001b[2m[Step 2: Duration 1.55 seconds| Input tokens: 5,548 | Output \u001b[0m\n",
       "\u001b[2mtokens: 321]\u001b[0m\n"
      ]
     },
     "metadata": {},
     "output_type": "display_data"
    },
    {
     "data": {
      "application/vnd.microsoft.datawrangler.viewer.v0+json": {
       "columns": [
        {
         "name": "index",
         "rawType": "int64",
         "type": "integer"
        },
        {
         "name": "name",
         "rawType": "object",
         "type": "string"
        },
        {
         "name": "total_daily_cost",
         "rawType": "float64",
         "type": "float"
        }
       ],
       "conversionMethod": "pd.DataFrame",
       "ref": "3e0d060d-312e-4830-b0a4-c14aa1f221a5",
       "rows": [
        [
         "0",
         "Montreal Ice Cream Co",
         "206.17566340470006"
        ],
        [
         "1",
         "Brain Freeze Brothers",
         "171.8"
        ],
        [
         "2",
         "Toronto Gelato Ltd",
         "568.17061917772"
        ],
        [
         "3",
         "Buffalo Scoops",
         "378.9"
        ],
        [
         "4",
         "Vermont Creamery",
         "406.09999999999997"
        ]
       ],
       "shape": {
        "columns": 2,
        "rows": 5
       }
      },
      "text/html": [
       "<div>\n",
       "<style scoped>\n",
       "    .dataframe tbody tr th:only-of-type {\n",
       "        vertical-align: middle;\n",
       "    }\n",
       "\n",
       "    .dataframe tbody tr th {\n",
       "        vertical-align: top;\n",
       "    }\n",
       "\n",
       "    .dataframe thead th {\n",
       "        text-align: right;\n",
       "    }\n",
       "</style>\n",
       "<table border=\"1\" class=\"dataframe\">\n",
       "  <thead>\n",
       "    <tr style=\"text-align: right;\">\n",
       "      <th></th>\n",
       "      <th>name</th>\n",
       "      <th>total_daily_cost</th>\n",
       "    </tr>\n",
       "  </thead>\n",
       "  <tbody>\n",
       "    <tr>\n",
       "      <th>0</th>\n",
       "      <td>Montreal Ice Cream Co</td>\n",
       "      <td>206.175663</td>\n",
       "    </tr>\n",
       "    <tr>\n",
       "      <th>1</th>\n",
       "      <td>Brain Freeze Brothers</td>\n",
       "      <td>171.800000</td>\n",
       "    </tr>\n",
       "    <tr>\n",
       "      <th>2</th>\n",
       "      <td>Toronto Gelato Ltd</td>\n",
       "      <td>568.170619</td>\n",
       "    </tr>\n",
       "    <tr>\n",
       "      <th>3</th>\n",
       "      <td>Buffalo Scoops</td>\n",
       "      <td>378.900000</td>\n",
       "    </tr>\n",
       "    <tr>\n",
       "      <th>4</th>\n",
       "      <td>Vermont Creamery</td>\n",
       "      <td>406.100000</td>\n",
       "    </tr>\n",
       "  </tbody>\n",
       "</table>\n",
       "</div>"
      ],
      "text/plain": [
       "                    name  total_daily_cost\n",
       "0  Montreal Ice Cream Co        206.175663\n",
       "1  Brain Freeze Brothers        171.800000\n",
       "2     Toronto Gelato Ltd        568.170619\n",
       "3         Buffalo Scoops        378.900000\n",
       "4       Vermont Creamery        406.100000"
      ]
     },
     "execution_count": 9,
     "metadata": {},
     "output_type": "execute_result"
    }
   ],
   "source": [
    "task = \"\"\"Here is a dataframe of different ice cream suppliers.\n",
    "Could you give me a comparative table (as a dataframe) of the total\n",
    "daily price for getting daily ice cream delivery from each of them,\n",
    "given that we need exactly 30 liters of ice cream per day? Take\n",
    "into account transportation cost and tariffs.\n",
    "\"\"\"\n",
    "agent.logger.level = 1 # Lower verbosity level\n",
    "agent.run(\n",
    "    task,\n",
    "    additional_args={\"suppliers_data\": suppliers_df, \"data_description\": data_description},\n",
    ")"
   ]
  },
  {
   "cell_type": "markdown",
   "id": "11ce746b-ebf8-4cfd-8180-51ab6e804419",
   "metadata": {},
   "source": [
    "## Compare to traditional tool calling."
   ]
  },
  {
   "cell_type": "raw",
   "id": "cf734768-4c2a-480c-87e2-0743acce8e33",
   "metadata": {},
   "source": [
    "Thought: I need to use the `calculate_transport_cost` tool\n",
    "to get the transportation cost for 50 liters of ice cream over\n",
    "10 kilometers.\n",
    "                        \n",
    "Code:\n",
    "```py                                  \n",
    "transport_cost = calculate_transport_cost(\n",
    "    distance_km=10,\n",
    "    order_volume=50\n",
    ")\n",
    "print(transport_cost)                             \n",
    "```"
   ]
  },
  {
   "cell_type": "raw",
   "id": "764bcd1f-7449-4921-bcc8-9a3dc078bf47",
   "metadata": {},
   "source": [
    "Thought: I need to use the `calculate_transport_cost` tool\n",
    "to get the transportation cost for 50 liters of ice cream over\n",
    "10 kilometers.\n",
    "\n",
    "Action:\n",
    "{\n",
    "    \"tool_name\": \"calculate_transport_cost\",\n",
    "    \"tool_arguments\": {\n",
    "        \"distance_km\": 10,\n",
    "        \"order_volume\": 50\n",
    "    }\n",
    "}"
   ]
  },
  {
   "cell_type": "code",
   "execution_count": 10,
   "id": "22177031-9530-42da-893e-c3a2bc64f8b6",
   "metadata": {
    "height": 217
   },
   "outputs": [],
   "source": [
    "from smolagents import ToolCallingAgent\n",
    "\n",
    "model = HfApiModel(\n",
    "    \"Qwen/Qwen2.5-72B-Instruct\",\n",
    "    temperature=0.6\n",
    ")\n",
    "agent = ToolCallingAgent(\n",
    "    model=model,\n",
    "    tools=[calculate_transport_cost, calculate_tariff],\n",
    "    max_steps=20,\n",
    ")\n",
    "agent.logger.console.width=66"
   ]
  },
  {
   "cell_type": "code",
   "execution_count": 11,
   "id": "3e68ed0b-21dc-47b9-9266-20631cedb3cf",
   "metadata": {
    "height": 113
   },
   "outputs": [
    {
     "data": {
      "text/html": [
       "<pre style=\"white-space:pre;overflow-x:auto;line-height:normal;font-family:Menlo,'DejaVu Sans Mono',consolas,'Courier New',monospace\"><span style=\"color: #d4b702; text-decoration-color: #d4b702\">╭─────────────────────────── </span><span style=\"color: #d4b702; text-decoration-color: #d4b702; font-weight: bold\">New run</span><span style=\"color: #d4b702; text-decoration-color: #d4b702\"> ────────────────────────────╮</span>\n",
       "<span style=\"color: #d4b702; text-decoration-color: #d4b702\">│</span>                                                                <span style=\"color: #d4b702; text-decoration-color: #d4b702\">│</span>\n",
       "<span style=\"color: #d4b702; text-decoration-color: #d4b702\">│</span> <span style=\"font-weight: bold\">Here is a dataframe of different ice cream suppliers.</span>          <span style=\"color: #d4b702; text-decoration-color: #d4b702\">│</span>\n",
       "<span style=\"color: #d4b702; text-decoration-color: #d4b702\">│</span> <span style=\"font-weight: bold\">Could you give me a comparative table (as a dataframe) of the </span> <span style=\"color: #d4b702; text-decoration-color: #d4b702\">│</span>\n",
       "<span style=\"color: #d4b702; text-decoration-color: #d4b702\">│</span> <span style=\"font-weight: bold\">total</span>                                                          <span style=\"color: #d4b702; text-decoration-color: #d4b702\">│</span>\n",
       "<span style=\"color: #d4b702; text-decoration-color: #d4b702\">│</span> <span style=\"font-weight: bold\">daily price for getting daily ice cream delivery from each of </span> <span style=\"color: #d4b702; text-decoration-color: #d4b702\">│</span>\n",
       "<span style=\"color: #d4b702; text-decoration-color: #d4b702\">│</span> <span style=\"font-weight: bold\">them,</span>                                                          <span style=\"color: #d4b702; text-decoration-color: #d4b702\">│</span>\n",
       "<span style=\"color: #d4b702; text-decoration-color: #d4b702\">│</span> <span style=\"font-weight: bold\">given that we need exactly 30 liters of ice cream per day? </span>    <span style=\"color: #d4b702; text-decoration-color: #d4b702\">│</span>\n",
       "<span style=\"color: #d4b702; text-decoration-color: #d4b702\">│</span> <span style=\"font-weight: bold\">Take</span>                                                           <span style=\"color: #d4b702; text-decoration-color: #d4b702\">│</span>\n",
       "<span style=\"color: #d4b702; text-decoration-color: #d4b702\">│</span> <span style=\"font-weight: bold\">into account transportation cost and tariffs.</span>                  <span style=\"color: #d4b702; text-decoration-color: #d4b702\">│</span>\n",
       "<span style=\"color: #d4b702; text-decoration-color: #d4b702\">│</span>                                                                <span style=\"color: #d4b702; text-decoration-color: #d4b702\">│</span>\n",
       "<span style=\"color: #d4b702; text-decoration-color: #d4b702\">│</span> <span style=\"font-weight: bold\">You have been provided with these additional arguments, that </span>  <span style=\"color: #d4b702; text-decoration-color: #d4b702\">│</span>\n",
       "<span style=\"color: #d4b702; text-decoration-color: #d4b702\">│</span> <span style=\"font-weight: bold\">you can access using the keys as variables in your python </span>     <span style=\"color: #d4b702; text-decoration-color: #d4b702\">│</span>\n",
       "<span style=\"color: #d4b702; text-decoration-color: #d4b702\">│</span> <span style=\"font-weight: bold\">code:</span>                                                          <span style=\"color: #d4b702; text-decoration-color: #d4b702\">│</span>\n",
       "<span style=\"color: #d4b702; text-decoration-color: #d4b702\">│</span> <span style=\"font-weight: bold\">{'suppliers_data':                     name        location  </span>  <span style=\"color: #d4b702; text-decoration-color: #d4b702\">│</span>\n",
       "<span style=\"color: #d4b702; text-decoration-color: #d4b702\">│</span> <span style=\"font-weight: bold\">distance_km  canadian  \\</span>                                       <span style=\"color: #d4b702; text-decoration-color: #d4b702\">│</span>\n",
       "<span style=\"color: #d4b702; text-decoration-color: #d4b702\">│</span> <span style=\"font-weight: bold\">0  Montreal Ice Cream Co    Montreal, QC          120      </span>    <span style=\"color: #d4b702; text-decoration-color: #d4b702\">│</span>\n",
       "<span style=\"color: #d4b702; text-decoration-color: #d4b702\">│</span> <span style=\"font-weight: bold\">True   </span>                                                        <span style=\"color: #d4b702; text-decoration-color: #d4b702\">│</span>\n",
       "<span style=\"color: #d4b702; text-decoration-color: #d4b702\">│</span> <span style=\"font-weight: bold\">1  Brain Freeze Brothers  Burlington, VT           85     </span>     <span style=\"color: #d4b702; text-decoration-color: #d4b702\">│</span>\n",
       "<span style=\"color: #d4b702; text-decoration-color: #d4b702\">│</span> <span style=\"font-weight: bold\">False   </span>                                                       <span style=\"color: #d4b702; text-decoration-color: #d4b702\">│</span>\n",
       "<span style=\"color: #d4b702; text-decoration-color: #d4b702\">│</span> <span style=\"font-weight: bold\">2     Toronto Gelato Ltd     Toronto, ON          400      </span>    <span style=\"color: #d4b702; text-decoration-color: #d4b702\">│</span>\n",
       "<span style=\"color: #d4b702; text-decoration-color: #d4b702\">│</span> <span style=\"font-weight: bold\">True   </span>                                                        <span style=\"color: #d4b702; text-decoration-color: #d4b702\">│</span>\n",
       "<span style=\"color: #d4b702; text-decoration-color: #d4b702\">│</span> <span style=\"font-weight: bold\">3         Buffalo Scoops     Buffalo, NY          220     </span>     <span style=\"color: #d4b702; text-decoration-color: #d4b702\">│</span>\n",
       "<span style=\"color: #d4b702; text-decoration-color: #d4b702\">│</span> <span style=\"font-weight: bold\">False   </span>                                                       <span style=\"color: #d4b702; text-decoration-color: #d4b702\">│</span>\n",
       "<span style=\"color: #d4b702; text-decoration-color: #d4b702\">│</span> <span style=\"font-weight: bold\">4       Vermont Creamery    Portland, ME          280     </span>     <span style=\"color: #d4b702; text-decoration-color: #d4b702\">│</span>\n",
       "<span style=\"color: #d4b702; text-decoration-color: #d4b702\">│</span> <span style=\"font-weight: bold\">False   </span>                                                       <span style=\"color: #d4b702; text-decoration-color: #d4b702\">│</span>\n",
       "<span style=\"color: #d4b702; text-decoration-color: #d4b702\">│</span>                                                                <span style=\"color: #d4b702; text-decoration-color: #d4b702\">│</span>\n",
       "<span style=\"color: #d4b702; text-decoration-color: #d4b702\">│</span> <span style=\"font-weight: bold\">   price_per_liter  tasting_fee  </span>                              <span style=\"color: #d4b702; text-decoration-color: #d4b702\">│</span>\n",
       "<span style=\"color: #d4b702; text-decoration-color: #d4b702\">│</span> <span style=\"font-weight: bold\">0             1.95         0.00  </span>                              <span style=\"color: #d4b702; text-decoration-color: #d4b702\">│</span>\n",
       "<span style=\"color: #d4b702; text-decoration-color: #d4b702\">│</span> <span style=\"font-weight: bold\">1             1.91        12.50  </span>                              <span style=\"color: #d4b702; text-decoration-color: #d4b702\">│</span>\n",
       "<span style=\"color: #d4b702; text-decoration-color: #d4b702\">│</span> <span style=\"font-weight: bold\">2             1.82        30.14  </span>                              <span style=\"color: #d4b702; text-decoration-color: #d4b702\">│</span>\n",
       "<span style=\"color: #d4b702; text-decoration-color: #d4b702\">│</span> <span style=\"font-weight: bold\">3             2.43        42.00  </span>                              <span style=\"color: #d4b702; text-decoration-color: #d4b702\">│</span>\n",
       "<span style=\"color: #d4b702; text-decoration-color: #d4b702\">│</span> <span style=\"font-weight: bold\">4             2.33         0.20  , 'data_description': </span>        <span style=\"color: #d4b702; text-decoration-color: #d4b702\">│</span>\n",
       "<span style=\"color: #d4b702; text-decoration-color: #d4b702\">│</span> <span style=\"font-weight: bold\">'Suppliers have an additional tasting fee: that is a fixed fee</span> <span style=\"color: #d4b702; text-decoration-color: #d4b702\">│</span>\n",
       "<span style=\"color: #d4b702; text-decoration-color: #d4b702\">│</span> <span style=\"font-weight: bold\">applied to each order to taste the ice cream.'}.</span>               <span style=\"color: #d4b702; text-decoration-color: #d4b702\">│</span>\n",
       "<span style=\"color: #d4b702; text-decoration-color: #d4b702\">│</span>                                                                <span style=\"color: #d4b702; text-decoration-color: #d4b702\">│</span>\n",
       "<span style=\"color: #d4b702; text-decoration-color: #d4b702\">╰─ HfApiModel - Qwen/Qwen2.5-72B-Instruct ───────────────────────╯</span>\n",
       "</pre>\n"
      ],
      "text/plain": [
       "\u001b[38;2;212;183;2m╭─\u001b[0m\u001b[38;2;212;183;2m──────────────────────────\u001b[0m\u001b[38;2;212;183;2m \u001b[0m\u001b[1;38;2;212;183;2mNew run\u001b[0m\u001b[38;2;212;183;2m \u001b[0m\u001b[38;2;212;183;2m───────────────────────────\u001b[0m\u001b[38;2;212;183;2m─╮\u001b[0m\n",
       "\u001b[38;2;212;183;2m│\u001b[0m                                                                \u001b[38;2;212;183;2m│\u001b[0m\n",
       "\u001b[38;2;212;183;2m│\u001b[0m \u001b[1mHere is a dataframe of different ice cream suppliers.\u001b[0m          \u001b[38;2;212;183;2m│\u001b[0m\n",
       "\u001b[38;2;212;183;2m│\u001b[0m \u001b[1mCould you give me a comparative table (as a dataframe) of the \u001b[0m \u001b[38;2;212;183;2m│\u001b[0m\n",
       "\u001b[38;2;212;183;2m│\u001b[0m \u001b[1mtotal\u001b[0m                                                          \u001b[38;2;212;183;2m│\u001b[0m\n",
       "\u001b[38;2;212;183;2m│\u001b[0m \u001b[1mdaily price for getting daily ice cream delivery from each of \u001b[0m \u001b[38;2;212;183;2m│\u001b[0m\n",
       "\u001b[38;2;212;183;2m│\u001b[0m \u001b[1mthem,\u001b[0m                                                          \u001b[38;2;212;183;2m│\u001b[0m\n",
       "\u001b[38;2;212;183;2m│\u001b[0m \u001b[1mgiven that we need exactly 30 liters of ice cream per day? \u001b[0m    \u001b[38;2;212;183;2m│\u001b[0m\n",
       "\u001b[38;2;212;183;2m│\u001b[0m \u001b[1mTake\u001b[0m                                                           \u001b[38;2;212;183;2m│\u001b[0m\n",
       "\u001b[38;2;212;183;2m│\u001b[0m \u001b[1minto account transportation cost and tariffs.\u001b[0m                  \u001b[38;2;212;183;2m│\u001b[0m\n",
       "\u001b[38;2;212;183;2m│\u001b[0m                                                                \u001b[38;2;212;183;2m│\u001b[0m\n",
       "\u001b[38;2;212;183;2m│\u001b[0m \u001b[1mYou have been provided with these additional arguments, that \u001b[0m  \u001b[38;2;212;183;2m│\u001b[0m\n",
       "\u001b[38;2;212;183;2m│\u001b[0m \u001b[1myou can access using the keys as variables in your python \u001b[0m     \u001b[38;2;212;183;2m│\u001b[0m\n",
       "\u001b[38;2;212;183;2m│\u001b[0m \u001b[1mcode:\u001b[0m                                                          \u001b[38;2;212;183;2m│\u001b[0m\n",
       "\u001b[38;2;212;183;2m│\u001b[0m \u001b[1m{'suppliers_data':                     name        location  \u001b[0m  \u001b[38;2;212;183;2m│\u001b[0m\n",
       "\u001b[38;2;212;183;2m│\u001b[0m \u001b[1mdistance_km  canadian  \\\u001b[0m                                       \u001b[38;2;212;183;2m│\u001b[0m\n",
       "\u001b[38;2;212;183;2m│\u001b[0m \u001b[1m0  Montreal Ice Cream Co    Montreal, QC          120      \u001b[0m    \u001b[38;2;212;183;2m│\u001b[0m\n",
       "\u001b[38;2;212;183;2m│\u001b[0m \u001b[1mTrue   \u001b[0m                                                        \u001b[38;2;212;183;2m│\u001b[0m\n",
       "\u001b[38;2;212;183;2m│\u001b[0m \u001b[1m1  Brain Freeze Brothers  Burlington, VT           85     \u001b[0m     \u001b[38;2;212;183;2m│\u001b[0m\n",
       "\u001b[38;2;212;183;2m│\u001b[0m \u001b[1mFalse   \u001b[0m                                                       \u001b[38;2;212;183;2m│\u001b[0m\n",
       "\u001b[38;2;212;183;2m│\u001b[0m \u001b[1m2     Toronto Gelato Ltd     Toronto, ON          400      \u001b[0m    \u001b[38;2;212;183;2m│\u001b[0m\n",
       "\u001b[38;2;212;183;2m│\u001b[0m \u001b[1mTrue   \u001b[0m                                                        \u001b[38;2;212;183;2m│\u001b[0m\n",
       "\u001b[38;2;212;183;2m│\u001b[0m \u001b[1m3         Buffalo Scoops     Buffalo, NY          220     \u001b[0m     \u001b[38;2;212;183;2m│\u001b[0m\n",
       "\u001b[38;2;212;183;2m│\u001b[0m \u001b[1mFalse   \u001b[0m                                                       \u001b[38;2;212;183;2m│\u001b[0m\n",
       "\u001b[38;2;212;183;2m│\u001b[0m \u001b[1m4       Vermont Creamery    Portland, ME          280     \u001b[0m     \u001b[38;2;212;183;2m│\u001b[0m\n",
       "\u001b[38;2;212;183;2m│\u001b[0m \u001b[1mFalse   \u001b[0m                                                       \u001b[38;2;212;183;2m│\u001b[0m\n",
       "\u001b[38;2;212;183;2m│\u001b[0m                                                                \u001b[38;2;212;183;2m│\u001b[0m\n",
       "\u001b[38;2;212;183;2m│\u001b[0m \u001b[1m   price_per_liter  tasting_fee  \u001b[0m                              \u001b[38;2;212;183;2m│\u001b[0m\n",
       "\u001b[38;2;212;183;2m│\u001b[0m \u001b[1m0             1.95         0.00  \u001b[0m                              \u001b[38;2;212;183;2m│\u001b[0m\n",
       "\u001b[38;2;212;183;2m│\u001b[0m \u001b[1m1             1.91        12.50  \u001b[0m                              \u001b[38;2;212;183;2m│\u001b[0m\n",
       "\u001b[38;2;212;183;2m│\u001b[0m \u001b[1m2             1.82        30.14  \u001b[0m                              \u001b[38;2;212;183;2m│\u001b[0m\n",
       "\u001b[38;2;212;183;2m│\u001b[0m \u001b[1m3             2.43        42.00  \u001b[0m                              \u001b[38;2;212;183;2m│\u001b[0m\n",
       "\u001b[38;2;212;183;2m│\u001b[0m \u001b[1m4             2.33         0.20  , 'data_description': \u001b[0m        \u001b[38;2;212;183;2m│\u001b[0m\n",
       "\u001b[38;2;212;183;2m│\u001b[0m \u001b[1m'Suppliers have an additional tasting fee: that is a fixed fee\u001b[0m \u001b[38;2;212;183;2m│\u001b[0m\n",
       "\u001b[38;2;212;183;2m│\u001b[0m \u001b[1mapplied to each order to taste the ice cream.'}.\u001b[0m               \u001b[38;2;212;183;2m│\u001b[0m\n",
       "\u001b[38;2;212;183;2m│\u001b[0m                                                                \u001b[38;2;212;183;2m│\u001b[0m\n",
       "\u001b[38;2;212;183;2m╰─\u001b[0m\u001b[38;2;212;183;2m HfApiModel - Qwen/Qwen2.5-72B-Instruct \u001b[0m\u001b[38;2;212;183;2m──────────────────────\u001b[0m\u001b[38;2;212;183;2m─╯\u001b[0m\n"
      ]
     },
     "metadata": {},
     "output_type": "display_data"
    },
    {
     "data": {
      "text/html": [
       "<pre style=\"white-space:pre;overflow-x:auto;line-height:normal;font-family:Menlo,'DejaVu Sans Mono',consolas,'Courier New',monospace\"><span style=\"color: #d4b702; text-decoration-color: #d4b702\">━━━━━━━━━━━━━━━━━━━━━━━━━━━━━ </span><span style=\"font-weight: bold\">Step </span><span style=\"color: #008080; text-decoration-color: #008080; font-weight: bold\">1</span><span style=\"color: #d4b702; text-decoration-color: #d4b702\"> ━━━━━━━━━━━━━━━━━━━━━━━━━━━━━</span>\n",
       "</pre>\n"
      ],
      "text/plain": [
       "\u001b[38;2;212;183;2m━━━━━━━━━━━━━━━━━━━━━━━━━━━━━ \u001b[0m\u001b[1mStep \u001b[0m\u001b[1;36m1\u001b[0m\u001b[38;2;212;183;2m ━━━━━━━━━━━━━━━━━━━━━━━━━━━━━\u001b[0m\n"
      ]
     },
     "metadata": {},
     "output_type": "display_data"
    },
    {
     "data": {
      "text/html": [
       "<pre style=\"white-space:pre;overflow-x:auto;line-height:normal;font-family:Menlo,'DejaVu Sans Mono',consolas,'Courier New',monospace\">╭────────────────────────────────────────────────────────────────╮\n",
       "│ Calling tool: 'calculate_transport_cost' with arguments:       │\n",
       "│ {'distance_km': 120, 'order_volume': 30}                       │\n",
       "╰────────────────────────────────────────────────────────────────╯\n",
       "</pre>\n"
      ],
      "text/plain": [
       "╭────────────────────────────────────────────────────────────────╮\n",
       "│ Calling tool: 'calculate_transport_cost' with arguments:       │\n",
       "│ {'distance_km': 120, 'order_volume': 30}                       │\n",
       "╰────────────────────────────────────────────────────────────────╯\n"
      ]
     },
     "metadata": {},
     "output_type": "display_data"
    },
    {
     "data": {
      "text/html": [
       "<pre style=\"white-space:pre;overflow-x:auto;line-height:normal;font-family:Menlo,'DejaVu Sans Mono',consolas,'Courier New',monospace\">Observations: <span style=\"color: #008080; text-decoration-color: #008080; font-weight: bold\">144.0</span>\n",
       "</pre>\n"
      ],
      "text/plain": [
       "Observations: \u001b[1;36m144.0\u001b[0m\n"
      ]
     },
     "metadata": {},
     "output_type": "display_data"
    },
    {
     "data": {
      "text/html": [
       "<pre style=\"white-space:pre;overflow-x:auto;line-height:normal;font-family:Menlo,'DejaVu Sans Mono',consolas,'Courier New',monospace\"><span style=\"color: #7f7f7f; text-decoration-color: #7f7f7f\">[Step 1: Duration 0.46 seconds| Input tokens: 1,742 | Output </span>\n",
       "<span style=\"color: #7f7f7f; text-decoration-color: #7f7f7f\">tokens: 23]</span>\n",
       "</pre>\n"
      ],
      "text/plain": [
       "\u001b[2m[Step 1: Duration 0.46 seconds| Input tokens: 1,742 | Output \u001b[0m\n",
       "\u001b[2mtokens: 23]\u001b[0m\n"
      ]
     },
     "metadata": {},
     "output_type": "display_data"
    },
    {
     "data": {
      "text/html": [
       "<pre style=\"white-space:pre;overflow-x:auto;line-height:normal;font-family:Menlo,'DejaVu Sans Mono',consolas,'Courier New',monospace\"><span style=\"color: #d4b702; text-decoration-color: #d4b702\">━━━━━━━━━━━━━━━━━━━━━━━━━━━━━ </span><span style=\"font-weight: bold\">Step </span><span style=\"color: #008080; text-decoration-color: #008080; font-weight: bold\">2</span><span style=\"color: #d4b702; text-decoration-color: #d4b702\"> ━━━━━━━━━━━━━━━━━━━━━━━━━━━━━</span>\n",
       "</pre>\n"
      ],
      "text/plain": [
       "\u001b[38;2;212;183;2m━━━━━━━━━━━━━━━━━━━━━━━━━━━━━ \u001b[0m\u001b[1mStep \u001b[0m\u001b[1;36m2\u001b[0m\u001b[38;2;212;183;2m ━━━━━━━━━━━━━━━━━━━━━━━━━━━━━\u001b[0m\n"
      ]
     },
     "metadata": {},
     "output_type": "display_data"
    },
    {
     "data": {
      "text/html": [
       "<pre style=\"white-space:pre;overflow-x:auto;line-height:normal;font-family:Menlo,'DejaVu Sans Mono',consolas,'Courier New',monospace\">╭────────────────────────────────────────────────────────────────╮\n",
       "│ Calling tool: 'calculate_transport_cost' with arguments:       │\n",
       "│ {'distance_km': 85, 'order_volume': 30}                        │\n",
       "╰────────────────────────────────────────────────────────────────╯\n",
       "</pre>\n"
      ],
      "text/plain": [
       "╭────────────────────────────────────────────────────────────────╮\n",
       "│ Calling tool: 'calculate_transport_cost' with arguments:       │\n",
       "│ {'distance_km': 85, 'order_volume': 30}                        │\n",
       "╰────────────────────────────────────────────────────────────────╯\n"
      ]
     },
     "metadata": {},
     "output_type": "display_data"
    },
    {
     "data": {
      "text/html": [
       "<pre style=\"white-space:pre;overflow-x:auto;line-height:normal;font-family:Menlo,'DejaVu Sans Mono',consolas,'Courier New',monospace\">Observations: <span style=\"color: #008080; text-decoration-color: #008080; font-weight: bold\">102.0</span>\n",
       "</pre>\n"
      ],
      "text/plain": [
       "Observations: \u001b[1;36m102.0\u001b[0m\n"
      ]
     },
     "metadata": {},
     "output_type": "display_data"
    },
    {
     "data": {
      "text/html": [
       "<pre style=\"white-space:pre;overflow-x:auto;line-height:normal;font-family:Menlo,'DejaVu Sans Mono',consolas,'Courier New',monospace\"><span style=\"color: #7f7f7f; text-decoration-color: #7f7f7f\">[Step 2: Duration 0.16 seconds| Input tokens: 3,579 | Output </span>\n",
       "<span style=\"color: #7f7f7f; text-decoration-color: #7f7f7f\">tokens: 52]</span>\n",
       "</pre>\n"
      ],
      "text/plain": [
       "\u001b[2m[Step 2: Duration 0.16 seconds| Input tokens: 3,579 | Output \u001b[0m\n",
       "\u001b[2mtokens: 52]\u001b[0m\n"
      ]
     },
     "metadata": {},
     "output_type": "display_data"
    },
    {
     "data": {
      "text/html": [
       "<pre style=\"white-space:pre;overflow-x:auto;line-height:normal;font-family:Menlo,'DejaVu Sans Mono',consolas,'Courier New',monospace\"><span style=\"color: #d4b702; text-decoration-color: #d4b702\">━━━━━━━━━━━━━━━━━━━━━━━━━━━━━ </span><span style=\"font-weight: bold\">Step </span><span style=\"color: #008080; text-decoration-color: #008080; font-weight: bold\">3</span><span style=\"color: #d4b702; text-decoration-color: #d4b702\"> ━━━━━━━━━━━━━━━━━━━━━━━━━━━━━</span>\n",
       "</pre>\n"
      ],
      "text/plain": [
       "\u001b[38;2;212;183;2m━━━━━━━━━━━━━━━━━━━━━━━━━━━━━ \u001b[0m\u001b[1mStep \u001b[0m\u001b[1;36m3\u001b[0m\u001b[38;2;212;183;2m ━━━━━━━━━━━━━━━━━━━━━━━━━━━━━\u001b[0m\n"
      ]
     },
     "metadata": {},
     "output_type": "display_data"
    },
    {
     "data": {
      "text/html": [
       "<pre style=\"white-space:pre;overflow-x:auto;line-height:normal;font-family:Menlo,'DejaVu Sans Mono',consolas,'Courier New',monospace\">╭────────────────────────────────────────────────────────────────╮\n",
       "│ Calling tool: 'calculate_transport_cost' with arguments:       │\n",
       "│ {'distance_km': 400, 'order_volume': 30}                       │\n",
       "╰────────────────────────────────────────────────────────────────╯\n",
       "</pre>\n"
      ],
      "text/plain": [
       "╭────────────────────────────────────────────────────────────────╮\n",
       "│ Calling tool: 'calculate_transport_cost' with arguments:       │\n",
       "│ {'distance_km': 400, 'order_volume': 30}                       │\n",
       "╰────────────────────────────────────────────────────────────────╯\n"
      ]
     },
     "metadata": {},
     "output_type": "display_data"
    },
    {
     "data": {
      "text/html": [
       "<pre style=\"white-space:pre;overflow-x:auto;line-height:normal;font-family:Menlo,'DejaVu Sans Mono',consolas,'Courier New',monospace\">Observations: <span style=\"color: #008080; text-decoration-color: #008080; font-weight: bold\">480.0</span>\n",
       "</pre>\n"
      ],
      "text/plain": [
       "Observations: \u001b[1;36m480.0\u001b[0m\n"
      ]
     },
     "metadata": {},
     "output_type": "display_data"
    },
    {
     "data": {
      "text/html": [
       "<pre style=\"white-space:pre;overflow-x:auto;line-height:normal;font-family:Menlo,'DejaVu Sans Mono',consolas,'Courier New',monospace\"><span style=\"color: #7f7f7f; text-decoration-color: #7f7f7f\">[Step 3: Duration 0.15 seconds| Input tokens: 5,508 | Output </span>\n",
       "<span style=\"color: #7f7f7f; text-decoration-color: #7f7f7f\">tokens: 81]</span>\n",
       "</pre>\n"
      ],
      "text/plain": [
       "\u001b[2m[Step 3: Duration 0.15 seconds| Input tokens: 5,508 | Output \u001b[0m\n",
       "\u001b[2mtokens: 81]\u001b[0m\n"
      ]
     },
     "metadata": {},
     "output_type": "display_data"
    },
    {
     "data": {
      "text/html": [
       "<pre style=\"white-space:pre;overflow-x:auto;line-height:normal;font-family:Menlo,'DejaVu Sans Mono',consolas,'Courier New',monospace\"><span style=\"color: #d4b702; text-decoration-color: #d4b702\">━━━━━━━━━━━━━━━━━━━━━━━━━━━━━ </span><span style=\"font-weight: bold\">Step </span><span style=\"color: #008080; text-decoration-color: #008080; font-weight: bold\">4</span><span style=\"color: #d4b702; text-decoration-color: #d4b702\"> ━━━━━━━━━━━━━━━━━━━━━━━━━━━━━</span>\n",
       "</pre>\n"
      ],
      "text/plain": [
       "\u001b[38;2;212;183;2m━━━━━━━━━━━━━━━━━━━━━━━━━━━━━ \u001b[0m\u001b[1mStep \u001b[0m\u001b[1;36m4\u001b[0m\u001b[38;2;212;183;2m ━━━━━━━━━━━━━━━━━━━━━━━━━━━━━\u001b[0m\n"
      ]
     },
     "metadata": {},
     "output_type": "display_data"
    },
    {
     "data": {
      "text/html": [
       "<pre style=\"white-space:pre;overflow-x:auto;line-height:normal;font-family:Menlo,'DejaVu Sans Mono',consolas,'Courier New',monospace\">╭────────────────────────────────────────────────────────────────╮\n",
       "│ Calling tool: 'calculate_transport_cost' with arguments:       │\n",
       "│ {'distance_km': 220, 'order_volume': 30}                       │\n",
       "╰────────────────────────────────────────────────────────────────╯\n",
       "</pre>\n"
      ],
      "text/plain": [
       "╭────────────────────────────────────────────────────────────────╮\n",
       "│ Calling tool: 'calculate_transport_cost' with arguments:       │\n",
       "│ {'distance_km': 220, 'order_volume': 30}                       │\n",
       "╰────────────────────────────────────────────────────────────────╯\n"
      ]
     },
     "metadata": {},
     "output_type": "display_data"
    },
    {
     "data": {
      "text/html": [
       "<pre style=\"white-space:pre;overflow-x:auto;line-height:normal;font-family:Menlo,'DejaVu Sans Mono',consolas,'Courier New',monospace\">Observations: <span style=\"color: #008080; text-decoration-color: #008080; font-weight: bold\">264.0</span>\n",
       "</pre>\n"
      ],
      "text/plain": [
       "Observations: \u001b[1;36m264.0\u001b[0m\n"
      ]
     },
     "metadata": {},
     "output_type": "display_data"
    },
    {
     "data": {
      "text/html": [
       "<pre style=\"white-space:pre;overflow-x:auto;line-height:normal;font-family:Menlo,'DejaVu Sans Mono',consolas,'Courier New',monospace\"><span style=\"color: #7f7f7f; text-decoration-color: #7f7f7f\">[Step 4: Duration 0.14 seconds| Input tokens: 7,531 | Output </span>\n",
       "<span style=\"color: #7f7f7f; text-decoration-color: #7f7f7f\">tokens: 111]</span>\n",
       "</pre>\n"
      ],
      "text/plain": [
       "\u001b[2m[Step 4: Duration 0.14 seconds| Input tokens: 7,531 | Output \u001b[0m\n",
       "\u001b[2mtokens: 111]\u001b[0m\n"
      ]
     },
     "metadata": {},
     "output_type": "display_data"
    },
    {
     "data": {
      "text/html": [
       "<pre style=\"white-space:pre;overflow-x:auto;line-height:normal;font-family:Menlo,'DejaVu Sans Mono',consolas,'Courier New',monospace\"><span style=\"color: #d4b702; text-decoration-color: #d4b702\">━━━━━━━━━━━━━━━━━━━━━━━━━━━━━ </span><span style=\"font-weight: bold\">Step </span><span style=\"color: #008080; text-decoration-color: #008080; font-weight: bold\">5</span><span style=\"color: #d4b702; text-decoration-color: #d4b702\"> ━━━━━━━━━━━━━━━━━━━━━━━━━━━━━</span>\n",
       "</pre>\n"
      ],
      "text/plain": [
       "\u001b[38;2;212;183;2m━━━━━━━━━━━━━━━━━━━━━━━━━━━━━ \u001b[0m\u001b[1mStep \u001b[0m\u001b[1;36m5\u001b[0m\u001b[38;2;212;183;2m ━━━━━━━━━━━━━━━━━━━━━━━━━━━━━\u001b[0m\n"
      ]
     },
     "metadata": {},
     "output_type": "display_data"
    },
    {
     "data": {
      "text/html": [
       "<pre style=\"white-space:pre;overflow-x:auto;line-height:normal;font-family:Menlo,'DejaVu Sans Mono',consolas,'Courier New',monospace\">╭────────────────────────────────────────────────────────────────╮\n",
       "│ Calling tool: 'calculate_transport_cost' with arguments:       │\n",
       "│ {'distance_km': 280, 'order_volume': 30}                       │\n",
       "╰────────────────────────────────────────────────────────────────╯\n",
       "</pre>\n"
      ],
      "text/plain": [
       "╭────────────────────────────────────────────────────────────────╮\n",
       "│ Calling tool: 'calculate_transport_cost' with arguments:       │\n",
       "│ {'distance_km': 280, 'order_volume': 30}                       │\n",
       "╰────────────────────────────────────────────────────────────────╯\n"
      ]
     },
     "metadata": {},
     "output_type": "display_data"
    },
    {
     "data": {
      "text/html": [
       "<pre style=\"white-space:pre;overflow-x:auto;line-height:normal;font-family:Menlo,'DejaVu Sans Mono',consolas,'Courier New',monospace\">Observations: <span style=\"color: #008080; text-decoration-color: #008080; font-weight: bold\">336.0</span>\n",
       "</pre>\n"
      ],
      "text/plain": [
       "Observations: \u001b[1;36m336.0\u001b[0m\n"
      ]
     },
     "metadata": {},
     "output_type": "display_data"
    },
    {
     "data": {
      "text/html": [
       "<pre style=\"white-space:pre;overflow-x:auto;line-height:normal;font-family:Menlo,'DejaVu Sans Mono',consolas,'Courier New',monospace\"><span style=\"color: #7f7f7f; text-decoration-color: #7f7f7f\">[Step 5: Duration 0.17 seconds| Input tokens: 9,648 | Output </span>\n",
       "<span style=\"color: #7f7f7f; text-decoration-color: #7f7f7f\">tokens: 140]</span>\n",
       "</pre>\n"
      ],
      "text/plain": [
       "\u001b[2m[Step 5: Duration 0.17 seconds| Input tokens: 9,648 | Output \u001b[0m\n",
       "\u001b[2mtokens: 140]\u001b[0m\n"
      ]
     },
     "metadata": {},
     "output_type": "display_data"
    },
    {
     "data": {
      "text/html": [
       "<pre style=\"white-space:pre;overflow-x:auto;line-height:normal;font-family:Menlo,'DejaVu Sans Mono',consolas,'Courier New',monospace\"><span style=\"color: #d4b702; text-decoration-color: #d4b702\">━━━━━━━━━━━━━━━━━━━━━━━━━━━━━ </span><span style=\"font-weight: bold\">Step </span><span style=\"color: #008080; text-decoration-color: #008080; font-weight: bold\">6</span><span style=\"color: #d4b702; text-decoration-color: #d4b702\"> ━━━━━━━━━━━━━━━━━━━━━━━━━━━━━</span>\n",
       "</pre>\n"
      ],
      "text/plain": [
       "\u001b[38;2;212;183;2m━━━━━━━━━━━━━━━━━━━━━━━━━━━━━ \u001b[0m\u001b[1mStep \u001b[0m\u001b[1;36m6\u001b[0m\u001b[38;2;212;183;2m ━━━━━━━━━━━━━━━━━━━━━━━━━━━━━\u001b[0m\n"
      ]
     },
     "metadata": {},
     "output_type": "display_data"
    },
    {
     "data": {
      "text/html": [
       "<pre style=\"white-space:pre;overflow-x:auto;line-height:normal;font-family:Menlo,'DejaVu Sans Mono',consolas,'Courier New',monospace\">╭────────────────────────────────────────────────────────────────╮\n",
       "│ Calling tool: 'calculate_tariff' with arguments: {'base_cost': │\n",
       "│ 1.95, 'is_canadian': True}                                     │\n",
       "╰────────────────────────────────────────────────────────────────╯\n",
       "</pre>\n"
      ],
      "text/plain": [
       "╭────────────────────────────────────────────────────────────────╮\n",
       "│ Calling tool: 'calculate_tariff' with arguments: {'base_cost': │\n",
       "│ 1.95, 'is_canadian': True}                                     │\n",
       "╰────────────────────────────────────────────────────────────────╯\n"
      ]
     },
     "metadata": {},
     "output_type": "display_data"
    },
    {
     "data": {
      "text/html": [
       "<pre style=\"white-space:pre;overflow-x:auto;line-height:normal;font-family:Menlo,'DejaVu Sans Mono',consolas,'Courier New',monospace\">Observations: <span style=\"color: #008080; text-decoration-color: #008080; font-weight: bold\">0.12252211349000193</span>\n",
       "</pre>\n"
      ],
      "text/plain": [
       "Observations: \u001b[1;36m0.12252211349000193\u001b[0m\n"
      ]
     },
     "metadata": {},
     "output_type": "display_data"
    },
    {
     "data": {
      "text/html": [
       "<pre style=\"white-space:pre;overflow-x:auto;line-height:normal;font-family:Menlo,'DejaVu Sans Mono',consolas,'Courier New',monospace\"><span style=\"color: #7f7f7f; text-decoration-color: #7f7f7f\">[Step 6: Duration 0.15 seconds| Input tokens: 11,859 | Output </span>\n",
       "<span style=\"color: #7f7f7f; text-decoration-color: #7f7f7f\">tokens: 169]</span>\n",
       "</pre>\n"
      ],
      "text/plain": [
       "\u001b[2m[Step 6: Duration 0.15 seconds| Input tokens: 11,859 | Output \u001b[0m\n",
       "\u001b[2mtokens: 169]\u001b[0m\n"
      ]
     },
     "metadata": {},
     "output_type": "display_data"
    },
    {
     "data": {
      "text/html": [
       "<pre style=\"white-space:pre;overflow-x:auto;line-height:normal;font-family:Menlo,'DejaVu Sans Mono',consolas,'Courier New',monospace\"><span style=\"color: #d4b702; text-decoration-color: #d4b702\">━━━━━━━━━━━━━━━━━━━━━━━━━━━━━ </span><span style=\"font-weight: bold\">Step </span><span style=\"color: #008080; text-decoration-color: #008080; font-weight: bold\">7</span><span style=\"color: #d4b702; text-decoration-color: #d4b702\"> ━━━━━━━━━━━━━━━━━━━━━━━━━━━━━</span>\n",
       "</pre>\n"
      ],
      "text/plain": [
       "\u001b[38;2;212;183;2m━━━━━━━━━━━━━━━━━━━━━━━━━━━━━ \u001b[0m\u001b[1mStep \u001b[0m\u001b[1;36m7\u001b[0m\u001b[38;2;212;183;2m ━━━━━━━━━━━━━━━━━━━━━━━━━━━━━\u001b[0m\n"
      ]
     },
     "metadata": {},
     "output_type": "display_data"
    },
    {
     "data": {
      "text/html": [
       "<pre style=\"white-space:pre;overflow-x:auto;line-height:normal;font-family:Menlo,'DejaVu Sans Mono',consolas,'Courier New',monospace\">╭────────────────────────────────────────────────────────────────╮\n",
       "│ Calling tool: 'calculate_tariff' with arguments: {'base_cost': │\n",
       "│ 1.82, 'is_canadian': True}                                     │\n",
       "╰────────────────────────────────────────────────────────────────╯\n",
       "</pre>\n"
      ],
      "text/plain": [
       "╭────────────────────────────────────────────────────────────────╮\n",
       "│ Calling tool: 'calculate_tariff' with arguments: {'base_cost': │\n",
       "│ 1.82, 'is_canadian': True}                                     │\n",
       "╰────────────────────────────────────────────────────────────────╯\n"
      ]
     },
     "metadata": {},
     "output_type": "display_data"
    },
    {
     "data": {
      "text/html": [
       "<pre style=\"white-space:pre;overflow-x:auto;line-height:normal;font-family:Menlo,'DejaVu Sans Mono',consolas,'Courier New',monospace\">Observations: <span style=\"color: #008080; text-decoration-color: #008080; font-weight: bold\">0.11435397259066848</span>\n",
       "</pre>\n"
      ],
      "text/plain": [
       "Observations: \u001b[1;36m0.11435397259066848\u001b[0m\n"
      ]
     },
     "metadata": {},
     "output_type": "display_data"
    },
    {
     "data": {
      "text/html": [
       "<pre style=\"white-space:pre;overflow-x:auto;line-height:normal;font-family:Menlo,'DejaVu Sans Mono',consolas,'Courier New',monospace\"><span style=\"color: #7f7f7f; text-decoration-color: #7f7f7f\">[Step 7: Duration 0.15 seconds| Input tokens: 14,178 | Output </span>\n",
       "<span style=\"color: #7f7f7f; text-decoration-color: #7f7f7f\">tokens: 198]</span>\n",
       "</pre>\n"
      ],
      "text/plain": [
       "\u001b[2m[Step 7: Duration 0.15 seconds| Input tokens: 14,178 | Output \u001b[0m\n",
       "\u001b[2mtokens: 198]\u001b[0m\n"
      ]
     },
     "metadata": {},
     "output_type": "display_data"
    },
    {
     "data": {
      "text/html": [
       "<pre style=\"white-space:pre;overflow-x:auto;line-height:normal;font-family:Menlo,'DejaVu Sans Mono',consolas,'Courier New',monospace\"><span style=\"color: #d4b702; text-decoration-color: #d4b702\">━━━━━━━━━━━━━━━━━━━━━━━━━━━━━ </span><span style=\"font-weight: bold\">Step </span><span style=\"color: #008080; text-decoration-color: #008080; font-weight: bold\">8</span><span style=\"color: #d4b702; text-decoration-color: #d4b702\"> ━━━━━━━━━━━━━━━━━━━━━━━━━━━━━</span>\n",
       "</pre>\n"
      ],
      "text/plain": [
       "\u001b[38;2;212;183;2m━━━━━━━━━━━━━━━━━━━━━━━━━━━━━ \u001b[0m\u001b[1mStep \u001b[0m\u001b[1;36m8\u001b[0m\u001b[38;2;212;183;2m ━━━━━━━━━━━━━━━━━━━━━━━━━━━━━\u001b[0m\n"
      ]
     },
     "metadata": {},
     "output_type": "display_data"
    },
    {
     "data": {
      "text/html": [
       "<pre style=\"white-space:pre;overflow-x:auto;line-height:normal;font-family:Menlo,'DejaVu Sans Mono',consolas,'Courier New',monospace\">╭────────────────────────────────────────────────────────────────╮\n",
       "│ Calling tool: 'calculate_tariff' with arguments: {'base_cost': │\n",
       "│ 2.43, 'is_canadian': False}                                    │\n",
       "╰────────────────────────────────────────────────────────────────╯\n",
       "</pre>\n"
      ],
      "text/plain": [
       "╭────────────────────────────────────────────────────────────────╮\n",
       "│ Calling tool: 'calculate_tariff' with arguments: {'base_cost': │\n",
       "│ 2.43, 'is_canadian': False}                                    │\n",
       "╰────────────────────────────────────────────────────────────────╯\n"
      ]
     },
     "metadata": {},
     "output_type": "display_data"
    },
    {
     "data": {
      "text/html": [
       "<pre style=\"white-space:pre;overflow-x:auto;line-height:normal;font-family:Menlo,'DejaVu Sans Mono',consolas,'Courier New',monospace\">Observations: <span style=\"color: #008080; text-decoration-color: #008080; font-weight: bold\">0</span>\n",
       "</pre>\n"
      ],
      "text/plain": [
       "Observations: \u001b[1;36m0\u001b[0m\n"
      ]
     },
     "metadata": {},
     "output_type": "display_data"
    },
    {
     "data": {
      "text/html": [
       "<pre style=\"white-space:pre;overflow-x:auto;line-height:normal;font-family:Menlo,'DejaVu Sans Mono',consolas,'Courier New',monospace\"><span style=\"color: #7f7f7f; text-decoration-color: #7f7f7f\">[Step 8: Duration 0.15 seconds| Input tokens: 16,605 | Output </span>\n",
       "<span style=\"color: #7f7f7f; text-decoration-color: #7f7f7f\">tokens: 228]</span>\n",
       "</pre>\n"
      ],
      "text/plain": [
       "\u001b[2m[Step 8: Duration 0.15 seconds| Input tokens: 16,605 | Output \u001b[0m\n",
       "\u001b[2mtokens: 228]\u001b[0m\n"
      ]
     },
     "metadata": {},
     "output_type": "display_data"
    },
    {
     "data": {
      "text/html": [
       "<pre style=\"white-space:pre;overflow-x:auto;line-height:normal;font-family:Menlo,'DejaVu Sans Mono',consolas,'Courier New',monospace\"><span style=\"color: #d4b702; text-decoration-color: #d4b702\">━━━━━━━━━━━━━━━━━━━━━━━━━━━━━ </span><span style=\"font-weight: bold\">Step </span><span style=\"color: #008080; text-decoration-color: #008080; font-weight: bold\">9</span><span style=\"color: #d4b702; text-decoration-color: #d4b702\"> ━━━━━━━━━━━━━━━━━━━━━━━━━━━━━</span>\n",
       "</pre>\n"
      ],
      "text/plain": [
       "\u001b[38;2;212;183;2m━━━━━━━━━━━━━━━━━━━━━━━━━━━━━ \u001b[0m\u001b[1mStep \u001b[0m\u001b[1;36m9\u001b[0m\u001b[38;2;212;183;2m ━━━━━━━━━━━━━━━━━━━━━━━━━━━━━\u001b[0m\n"
      ]
     },
     "metadata": {},
     "output_type": "display_data"
    },
    {
     "data": {
      "text/html": [
       "<pre style=\"white-space:pre;overflow-x:auto;line-height:normal;font-family:Menlo,'DejaVu Sans Mono',consolas,'Courier New',monospace\">╭────────────────────────────────────────────────────────────────╮\n",
       "│ Calling tool: 'calculate_tariff' with arguments: {'base_cost': │\n",
       "│ 2.33, 'is_canadian': False}                                    │\n",
       "╰────────────────────────────────────────────────────────────────╯\n",
       "</pre>\n"
      ],
      "text/plain": [
       "╭────────────────────────────────────────────────────────────────╮\n",
       "│ Calling tool: 'calculate_tariff' with arguments: {'base_cost': │\n",
       "│ 2.33, 'is_canadian': False}                                    │\n",
       "╰────────────────────────────────────────────────────────────────╯\n"
      ]
     },
     "metadata": {},
     "output_type": "display_data"
    },
    {
     "data": {
      "text/html": [
       "<pre style=\"white-space:pre;overflow-x:auto;line-height:normal;font-family:Menlo,'DejaVu Sans Mono',consolas,'Courier New',monospace\">Observations: <span style=\"color: #008080; text-decoration-color: #008080; font-weight: bold\">0</span>\n",
       "</pre>\n"
      ],
      "text/plain": [
       "Observations: \u001b[1;36m0\u001b[0m\n"
      ]
     },
     "metadata": {},
     "output_type": "display_data"
    },
    {
     "data": {
      "text/html": [
       "<pre style=\"white-space:pre;overflow-x:auto;line-height:normal;font-family:Menlo,'DejaVu Sans Mono',consolas,'Courier New',monospace\"><span style=\"color: #7f7f7f; text-decoration-color: #7f7f7f\">[Step 9: Duration 0.16 seconds| Input tokens: 19,122 | Output </span>\n",
       "<span style=\"color: #7f7f7f; text-decoration-color: #7f7f7f\">tokens: 258]</span>\n",
       "</pre>\n"
      ],
      "text/plain": [
       "\u001b[2m[Step 9: Duration 0.16 seconds| Input tokens: 19,122 | Output \u001b[0m\n",
       "\u001b[2mtokens: 258]\u001b[0m\n"
      ]
     },
     "metadata": {},
     "output_type": "display_data"
    },
    {
     "data": {
      "text/html": [
       "<pre style=\"white-space:pre;overflow-x:auto;line-height:normal;font-family:Menlo,'DejaVu Sans Mono',consolas,'Courier New',monospace\"><span style=\"color: #d4b702; text-decoration-color: #d4b702\">━━━━━━━━━━━━━━━━━━━━━━━━━━━━ </span><span style=\"font-weight: bold\">Step </span><span style=\"color: #008080; text-decoration-color: #008080; font-weight: bold\">10</span><span style=\"color: #d4b702; text-decoration-color: #d4b702\"> ━━━━━━━━━━━━━━━━━━━━━━━━━━━━━</span>\n",
       "</pre>\n"
      ],
      "text/plain": [
       "\u001b[38;2;212;183;2m━━━━━━━━━━━━━━━━━━━━━━━━━━━━ \u001b[0m\u001b[1mStep \u001b[0m\u001b[1;36m10\u001b[0m\u001b[38;2;212;183;2m ━━━━━━━━━━━━━━━━━━━━━━━━━━━━━\u001b[0m\n"
      ]
     },
     "metadata": {},
     "output_type": "display_data"
    },
    {
     "data": {
      "text/html": [
       "<pre style=\"white-space:pre;overflow-x:auto;line-height:normal;font-family:Menlo,'DejaVu Sans Mono',consolas,'Courier New',monospace\">╭────────────────────────────────────────────────────────────────╮\n",
       "│ Calling tool: 'calculate_tariff' with arguments: {'base_cost': │\n",
       "│ 1.91, 'is_canadian': False}                                    │\n",
       "╰────────────────────────────────────────────────────────────────╯\n",
       "</pre>\n"
      ],
      "text/plain": [
       "╭────────────────────────────────────────────────────────────────╮\n",
       "│ Calling tool: 'calculate_tariff' with arguments: {'base_cost': │\n",
       "│ 1.91, 'is_canadian': False}                                    │\n",
       "╰────────────────────────────────────────────────────────────────╯\n"
      ]
     },
     "metadata": {},
     "output_type": "display_data"
    },
    {
     "data": {
      "text/html": [
       "<pre style=\"white-space:pre;overflow-x:auto;line-height:normal;font-family:Menlo,'DejaVu Sans Mono',consolas,'Courier New',monospace\">Observations: <span style=\"color: #008080; text-decoration-color: #008080; font-weight: bold\">0</span>\n",
       "</pre>\n"
      ],
      "text/plain": [
       "Observations: \u001b[1;36m0\u001b[0m\n"
      ]
     },
     "metadata": {},
     "output_type": "display_data"
    },
    {
     "data": {
      "text/html": [
       "<pre style=\"white-space:pre;overflow-x:auto;line-height:normal;font-family:Menlo,'DejaVu Sans Mono',consolas,'Courier New',monospace\"><span style=\"color: #7f7f7f; text-decoration-color: #7f7f7f\">[Step 10: Duration 0.15 seconds| Input tokens: 21,729 | Output </span>\n",
       "<span style=\"color: #7f7f7f; text-decoration-color: #7f7f7f\">tokens: 287]</span>\n",
       "</pre>\n"
      ],
      "text/plain": [
       "\u001b[2m[Step 10: Duration 0.15 seconds| Input tokens: 21,729 | Output \u001b[0m\n",
       "\u001b[2mtokens: 287]\u001b[0m\n"
      ]
     },
     "metadata": {},
     "output_type": "display_data"
    },
    {
     "data": {
      "text/html": [
       "<pre style=\"white-space:pre;overflow-x:auto;line-height:normal;font-family:Menlo,'DejaVu Sans Mono',consolas,'Courier New',monospace\"><span style=\"color: #d4b702; text-decoration-color: #d4b702\">━━━━━━━━━━━━━━━━━━━━━━━━━━━━ </span><span style=\"font-weight: bold\">Step </span><span style=\"color: #008080; text-decoration-color: #008080; font-weight: bold\">11</span><span style=\"color: #d4b702; text-decoration-color: #d4b702\"> ━━━━━━━━━━━━━━━━━━━━━━━━━━━━━</span>\n",
       "</pre>\n"
      ],
      "text/plain": [
       "\u001b[38;2;212;183;2m━━━━━━━━━━━━━━━━━━━━━━━━━━━━ \u001b[0m\u001b[1mStep \u001b[0m\u001b[1;36m11\u001b[0m\u001b[38;2;212;183;2m ━━━━━━━━━━━━━━━━━━━━━━━━━━━━━\u001b[0m\n"
      ]
     },
     "metadata": {},
     "output_type": "display_data"
    },
    {
     "data": {
      "text/html": [
       "<pre style=\"white-space:pre;overflow-x:auto;line-height:normal;font-family:Menlo,'DejaVu Sans Mono',consolas,'Courier New',monospace\">╭────────────────────────────────────────────────────────────────╮\n",
       "│ Calling tool: 'final_answer' with arguments: {'answer': 'Here  │\n",
       "│ is the comparative table (dataframe) of the total daily price  │\n",
       "│ for getting 30 liters of ice cream delivered from each         │\n",
       "│ supplier, including transport cost and tariffs:\\\\n\\\\n|         │\n",
       "│ Supplier | Base Cost | Transport Cost | Tasting Fee | Tariff | │\n",
       "│ Total Daily Cost |\\\\n| --- | --- | --- | --- | --- | --- |\\\\n| │\n",
       "│ Montreal Ice Cream Co | 1.95 * 30 = 58.5 | 144.0 | 0.00 |      │\n",
       "│ 0.12252211349000193 | 58.5 + 144.0 + 0.00 + (58.5 *            │\n",
       "│ 0.12252211349000193) = 207.91 |\\\\n| Brain Freeze Brothers |    │\n",
       "│ 1.91 * 30 = 57.3 | 102.0 | 12.50 | 0.00 | 57.3 + 102.0 + 12.50 │\n",
       "│ + (57.3 * 0.00) = 171.80 |\\\\n| Toronto Gelato Ltd | 1.82 * 30  │\n",
       "│ = 54.6 | 480.0 | 30.14 | 0.11435397259066848 | 54.6 + 480.0 +  │\n",
       "│ 30.14 + (54.6 * 0.11435397259066848) = 567.34 |\\\\n| Buffalo    │\n",
       "│ Scoops | 2.43 * 30 = 72.9 | 264.0 | 42.00 | 0.00 | 72.9 +      │\n",
       "│ 264.0 + 42.00 + (72.9 * 0.00) = 378.90 |\\\\n| Vermont Creamery  │\n",
       "│ | 2.33 * 30 = 69.9 | 336.0 | 0.20 | 0.00 | 69.9 + 336.0 + 0.20 │\n",
       "│ + (69.9 * 0.00) = 406.10 |'}                                   │\n",
       "╰────────────────────────────────────────────────────────────────╯\n",
       "</pre>\n"
      ],
      "text/plain": [
       "╭────────────────────────────────────────────────────────────────╮\n",
       "│ Calling tool: 'final_answer' with arguments: {'answer': 'Here  │\n",
       "│ is the comparative table (dataframe) of the total daily price  │\n",
       "│ for getting 30 liters of ice cream delivered from each         │\n",
       "│ supplier, including transport cost and tariffs:\\\\n\\\\n|         │\n",
       "│ Supplier | Base Cost | Transport Cost | Tasting Fee | Tariff | │\n",
       "│ Total Daily Cost |\\\\n| --- | --- | --- | --- | --- | --- |\\\\n| │\n",
       "│ Montreal Ice Cream Co | 1.95 * 30 = 58.5 | 144.0 | 0.00 |      │\n",
       "│ 0.12252211349000193 | 58.5 + 144.0 + 0.00 + (58.5 *            │\n",
       "│ 0.12252211349000193) = 207.91 |\\\\n| Brain Freeze Brothers |    │\n",
       "│ 1.91 * 30 = 57.3 | 102.0 | 12.50 | 0.00 | 57.3 + 102.0 + 12.50 │\n",
       "│ + (57.3 * 0.00) = 171.80 |\\\\n| Toronto Gelato Ltd | 1.82 * 30  │\n",
       "│ = 54.6 | 480.0 | 30.14 | 0.11435397259066848 | 54.6 + 480.0 +  │\n",
       "│ 30.14 + (54.6 * 0.11435397259066848) = 567.34 |\\\\n| Buffalo    │\n",
       "│ Scoops | 2.43 * 30 = 72.9 | 264.0 | 42.00 | 0.00 | 72.9 +      │\n",
       "│ 264.0 + 42.00 + (72.9 * 0.00) = 378.90 |\\\\n| Vermont Creamery  │\n",
       "│ | 2.33 * 30 = 69.9 | 336.0 | 0.20 | 0.00 | 69.9 + 336.0 + 0.20 │\n",
       "│ + (69.9 * 0.00) = 406.10 |'}                                   │\n",
       "╰────────────────────────────────────────────────────────────────╯\n"
      ]
     },
     "metadata": {},
     "output_type": "display_data"
    },
    {
     "data": {
      "text/html": [
       "<pre style=\"white-space:pre;overflow-x:auto;line-height:normal;font-family:Menlo,'DejaVu Sans Mono',consolas,'Courier New',monospace\"><span style=\"color: #d4b702; text-decoration-color: #d4b702; font-weight: bold\">Final answer: Here is the comparative table (dataframe) of the </span>\n",
       "<span style=\"color: #d4b702; text-decoration-color: #d4b702; font-weight: bold\">total daily price for getting 30 liters of ice cream delivered </span>\n",
       "<span style=\"color: #d4b702; text-decoration-color: #d4b702; font-weight: bold\">from each supplier, including transport cost and tariffs:\\n\\n| </span>\n",
       "<span style=\"color: #d4b702; text-decoration-color: #d4b702; font-weight: bold\">Supplier | Base Cost | Transport Cost | Tasting Fee | Tariff | </span>\n",
       "<span style=\"color: #d4b702; text-decoration-color: #d4b702; font-weight: bold\">Total Daily Cost |\\n| --- | --- | --- | --- | --- | --- |\\n| </span>\n",
       "<span style=\"color: #d4b702; text-decoration-color: #d4b702; font-weight: bold\">Montreal Ice Cream Co | 1.95 * 30 = 58.5 | 144.0 | 0.00 | </span>\n",
       "<span style=\"color: #d4b702; text-decoration-color: #d4b702; font-weight: bold\">0.12252211349000193 | 58.5 + 144.0 + 0.00 + (58.5 * </span>\n",
       "<span style=\"color: #d4b702; text-decoration-color: #d4b702; font-weight: bold\">0.12252211349000193) = 207.91 |\\n| Brain Freeze Brothers | 1.91 * </span>\n",
       "<span style=\"color: #d4b702; text-decoration-color: #d4b702; font-weight: bold\">30 = 57.3 | 102.0 | 12.50 | 0.00 | 57.3 + 102.0 + 12.50 + (57.3 * </span>\n",
       "<span style=\"color: #d4b702; text-decoration-color: #d4b702; font-weight: bold\">0.00) = 171.80 |\\n| Toronto Gelato Ltd | 1.82 * 30 = 54.6 | 480.0 </span>\n",
       "<span style=\"color: #d4b702; text-decoration-color: #d4b702; font-weight: bold\">| 30.14 | 0.11435397259066848 | 54.6 + 480.0 + 30.14 + (54.6 * </span>\n",
       "<span style=\"color: #d4b702; text-decoration-color: #d4b702; font-weight: bold\">0.11435397259066848) = 567.34 |\\n| Buffalo Scoops | 2.43 * 30 = </span>\n",
       "<span style=\"color: #d4b702; text-decoration-color: #d4b702; font-weight: bold\">72.9 | 264.0 | 42.00 | 0.00 | 72.9 + 264.0 + 42.00 + (72.9 * 0.00)</span>\n",
       "<span style=\"color: #d4b702; text-decoration-color: #d4b702; font-weight: bold\">= 378.90 |\\n| Vermont Creamery | 2.33 * 30 = 69.9 | 336.0 | 0.20 |</span>\n",
       "<span style=\"color: #d4b702; text-decoration-color: #d4b702; font-weight: bold\">0.00 | 69.9 + 336.0 + 0.20 + (69.9 * 0.00) = 406.10 |</span>\n",
       "</pre>\n"
      ],
      "text/plain": [
       "\u001b[1;38;2;212;183;2mFinal answer: Here is the comparative table (dataframe) of the \u001b[0m\n",
       "\u001b[1;38;2;212;183;2mtotal daily price for getting 30 liters of ice cream delivered \u001b[0m\n",
       "\u001b[1;38;2;212;183;2mfrom each supplier, including transport cost and tariffs:\\n\\n| \u001b[0m\n",
       "\u001b[1;38;2;212;183;2mSupplier | Base Cost | Transport Cost | Tasting Fee | Tariff | \u001b[0m\n",
       "\u001b[1;38;2;212;183;2mTotal Daily Cost |\\n| --- | --- | --- | --- | --- | --- |\\n| \u001b[0m\n",
       "\u001b[1;38;2;212;183;2mMontreal Ice Cream Co | 1.95 * 30 = 58.5 | 144.0 | 0.00 | \u001b[0m\n",
       "\u001b[1;38;2;212;183;2m0.12252211349000193 | 58.5 + 144.0 + 0.00 + (58.5 * \u001b[0m\n",
       "\u001b[1;38;2;212;183;2m0.12252211349000193) = 207.91 |\\n| Brain Freeze Brothers | 1.91 * \u001b[0m\n",
       "\u001b[1;38;2;212;183;2m30 = 57.3 | 102.0 | 12.50 | 0.00 | 57.3 + 102.0 + 12.50 + (57.3 * \u001b[0m\n",
       "\u001b[1;38;2;212;183;2m0.00) = 171.80 |\\n| Toronto Gelato Ltd | 1.82 * 30 = 54.6 | 480.0 \u001b[0m\n",
       "\u001b[1;38;2;212;183;2m| 30.14 | 0.11435397259066848 | 54.6 + 480.0 + 30.14 + (54.6 * \u001b[0m\n",
       "\u001b[1;38;2;212;183;2m0.11435397259066848) = 567.34 |\\n| Buffalo Scoops | 2.43 * 30 = \u001b[0m\n",
       "\u001b[1;38;2;212;183;2m72.9 | 264.0 | 42.00 | 0.00 | 72.9 + 264.0 + 42.00 + (72.9 * 0.00)\u001b[0m\n",
       "\u001b[1;38;2;212;183;2m= 378.90 |\\n| Vermont Creamery | 2.33 * 30 = 69.9 | 336.0 | 0.20 |\u001b[0m\n",
       "\u001b[1;38;2;212;183;2m0.00 | 69.9 + 336.0 + 0.20 + (69.9 * 0.00) = 406.10 |\u001b[0m\n"
      ]
     },
     "metadata": {},
     "output_type": "display_data"
    },
    {
     "data": {
      "text/html": [
       "<pre style=\"white-space:pre;overflow-x:auto;line-height:normal;font-family:Menlo,'DejaVu Sans Mono',consolas,'Courier New',monospace\"><span style=\"color: #7f7f7f; text-decoration-color: #7f7f7f\">[Step 11: Duration 0.29 seconds| Input tokens: 24,426 | Output </span>\n",
       "<span style=\"color: #7f7f7f; text-decoration-color: #7f7f7f\">tokens: 853]</span>\n",
       "</pre>\n"
      ],
      "text/plain": [
       "\u001b[2m[Step 11: Duration 0.29 seconds| Input tokens: 24,426 | Output \u001b[0m\n",
       "\u001b[2mtokens: 853]\u001b[0m\n"
      ]
     },
     "metadata": {},
     "output_type": "display_data"
    },
    {
     "name": "stdout",
     "output_type": "stream",
     "text": [
      "Here is the comparative table (dataframe) of the total daily price for getting 30 liters of ice cream delivered from each supplier, including transport cost and tariffs:\\n\\n| Supplier | Base Cost | Transport Cost | Tasting Fee | Tariff | Total Daily Cost |\\n| --- | --- | --- | --- | --- | --- |\\n| Montreal Ice Cream Co | 1.95 * 30 = 58.5 | 144.0 | 0.00 | 0.12252211349000193 | 58.5 + 144.0 + 0.00 + (58.5 * 0.12252211349000193) = 207.91 |\\n| Brain Freeze Brothers | 1.91 * 30 = 57.3 | 102.0 | 12.50 | 0.00 | 57.3 + 102.0 + 12.50 + (57.3 * 0.00) = 171.80 |\\n| Toronto Gelato Ltd | 1.82 * 30 = 54.6 | 480.0 | 30.14 | 0.11435397259066848 | 54.6 + 480.0 + 30.14 + (54.6 * 0.11435397259066848) = 567.34 |\\n| Buffalo Scoops | 2.43 * 30 = 72.9 | 264.0 | 42.00 | 0.00 | 72.9 + 264.0 + 42.00 + (72.9 * 0.00) = 378.90 |\\n| Vermont Creamery | 2.33 * 30 = 69.9 | 336.0 | 0.20 | 0.00 | 69.9 + 336.0 + 0.20 + (69.9 * 0.00) = 406.10 |\n"
     ]
    }
   ],
   "source": [
    "output = agent.run(\n",
    "    task,\n",
    "    additional_args={\"suppliers_data\": suppliers_df, \"data_description\": data_description},\n",
    ")\n",
    "print(output)"
   ]
  },
  {
   "cell_type": "markdown",
   "id": "49c93c87",
   "metadata": {},
   "source": [
    "## Observations\n",
    "\n",
    "code agents basically generate python code and execute it to solve the task and reach the goal.  \n",
    "on the other hand, tool agents generates its actions as json blobs and uses many individual tool calls as they can not use loops or efficient data structures.  "
   ]
  },
  {
   "cell_type": "markdown",
   "id": "4d92edeb",
   "metadata": {},
   "source": [
    "## Threats to Code Agents\n",
    "Causes of malicious code execution:\n",
    "\n",
    "- LLM error - LLMs are still dumb\n",
    "- Supply chain attack - malacious LLM generates code that actively harms your system\n",
    "- Prompt Injection - agen can encounter harmful instrction thus injecting an attck in agent's memory"
   ]
  },
  {
   "cell_type": "markdown",
   "id": "f6695637",
   "metadata": {},
   "source": [
    "This can be avoided by using `custom python interpreter` "
   ]
  },
  {
   "cell_type": "markdown",
   "id": "b006a1f2",
   "metadata": {},
   "source": [
    "## Custom Python Interpreter"
   ]
  },
  {
   "cell_type": "code",
   "execution_count": 12,
   "id": "e896320c",
   "metadata": {},
   "outputs": [],
   "source": [
    "from smolagents.local_python_executor import LocalPythonExecutor\n",
    "\n",
    "custom_executor = LocalPythonExecutor([\"numpy\"])"
   ]
  },
  {
   "cell_type": "code",
   "execution_count": 13,
   "id": "d174afb8",
   "metadata": {},
   "outputs": [],
   "source": [
    "def run_capture_exception(command: str):\n",
    "    try:\n",
    "        custom_executor(harmful_command)\n",
    "    except Exception as e:\n",
    "        print(\"ERROR:\\n\", e)"
   ]
  },
  {
   "cell_type": "code",
   "execution_count": 14,
   "id": "dd8e25cb",
   "metadata": {},
   "outputs": [
    {
     "name": "stdout",
     "output_type": "stream",
     "text": [
      "Bad command\n"
     ]
    }
   ],
   "source": [
    "# Example 1: non-defined command\n",
    "# In Jupyter it works\n",
    "!echo Bad command"
   ]
  },
  {
   "cell_type": "code",
   "execution_count": 15,
   "id": "fe1b023b",
   "metadata": {},
   "outputs": [
    {
     "name": "stdout",
     "output_type": "stream",
     "text": [
      "ERROR:\n",
      " Code parsing failed on line 1 due to: SyntaxError\n",
      "!echo Bad command\n",
      " ^\n",
      "Error: invalid syntax (<unknown>, line 1)\n"
     ]
    }
   ],
   "source": [
    "# In our interpreter, it does not.\n",
    "harmful_command=\"!echo Bad command\"\n",
    "run_capture_exception(harmful_command)"
   ]
  },
  {
   "cell_type": "code",
   "execution_count": 16,
   "id": "982c7f54",
   "metadata": {},
   "outputs": [
    {
     "data": {
      "text/plain": [
       "['re',\n",
       " 'queue',\n",
       " 'random',\n",
       " 'statistics',\n",
       " 'unicodedata',\n",
       " 'itertools',\n",
       " 'math',\n",
       " 'stat',\n",
       " 'time',\n",
       " 'datetime',\n",
       " 'collections',\n",
       " 'numpy']"
      ]
     },
     "execution_count": 16,
     "metadata": {},
     "output_type": "execute_result"
    }
   ],
   "source": [
    "[\n",
    "    're',\n",
    "    'queue',\n",
    "    'random',\n",
    "    'statistics',\n",
    "    'unicodedata',\n",
    "    'itertools',\n",
    "    'math',\n",
    "    'stat',\n",
    "    'time',\n",
    "    'datetime',\n",
    "    'collections',\n",
    "    'numpy'\n",
    "]"
   ]
  },
  {
   "cell_type": "code",
   "execution_count": 17,
   "id": "fdf35495",
   "metadata": {},
   "outputs": [
    {
     "name": "stdout",
     "output_type": "stream",
     "text": [
      "ERROR:\n",
      " Code execution failed at line 'import os' due to: InterpreterError: Import of os is not allowed. Authorized imports are: ['re', 'stat', 'itertools', 'statistics', 'math', 'time', 'datetime', 'random', 'unicodedata', 'queue', 'numpy', 'collections']\n"
     ]
    }
   ],
   "source": [
    "# Example 2: os not imported\n",
    "harmful_command=\"\"\"\n",
    "import os\n",
    "exit_code = os.system(\"echo Bad command\")\n",
    "\"\"\"\n",
    "run_capture_exception(harmful_command)"
   ]
  },
  {
   "cell_type": "code",
   "execution_count": 18,
   "id": "2299216d",
   "metadata": {},
   "outputs": [
    {
     "name": "stdout",
     "output_type": "stream",
     "text": [
      "ERROR:\n",
      " Code execution failed at line 'random._os.system('echo Bad command')' due to: InterpreterError: Forbidden access to module: os\n"
     ]
    }
   ],
   "source": [
    "# Example 3: random._os.system not imported\n",
    "harmful_command=\"\"\"\n",
    "import random\n",
    "random._os.system('echo Bad command')\n",
    "\"\"\"\n",
    "run_capture_exception(harmful_command)"
   ]
  },
  {
   "cell_type": "code",
   "execution_count": 19,
   "id": "cef17492",
   "metadata": {},
   "outputs": [
    {
     "name": "stdout",
     "output_type": "stream",
     "text": [
      "ERROR:\n",
      " Code execution failed at line 'while True:\n",
      "    pass' due to: InterpreterError: Maximum number of 1000000 iterations in While loop exceeded\n"
     ]
    }
   ],
   "source": [
    "# Example 4: infinite loop\n",
    "harmful_command=\"\"\"\n",
    "while True:\n",
    "    pass\n",
    "\"\"\"\n",
    "run_capture_exception(harmful_command)"
   ]
  },
  {
   "cell_type": "code",
   "execution_count": 20,
   "id": "e66a0fa1",
   "metadata": {},
   "outputs": [],
   "source": [
    "custom_executor = LocalPythonExecutor([\"PIL\"])\n",
    "\n",
    "harmful_command=\"\"\"\n",
    "from PIL import Image\n",
    "\n",
    "img = Image.new('RGB', (100, 100), color='blue')\n",
    "\n",
    "i=0\n",
    "while i < 10000:\n",
    "    img.save('simple_image_{i}.png')\n",
    "    i += 1\n",
    "\"\"\"\n",
    "# custom_executor(harmful_command)\n",
    "# Let's not execute this but it would not error out, and it would bloat your system with images."
   ]
  },
  {
   "attachments": {
    "image.png": {
     "image/png": "[encoded data removed]"
    }
   },
   "cell_type": "markdown",
   "id": "5f7a7e1f",
   "metadata": {},
   "source": [
    "For safgurad against attcks use `remote sandox` to run code snippets generated by LLms.\n",
    "\n",
    "![image.png](attachment:image.png)"
   ]
  },
  {
   "cell_type": "markdown",
   "id": "0765a459",
   "metadata": {},
   "source": [
    "## Running code in Sandbox"
   ]
  },
  {
   "cell_type": "code",
   "execution_count": 21,
   "id": "5107d99b",
   "metadata": {},
   "outputs": [],
   "source": [
    "import os\n",
    "from dotenv import load_dotenv\n",
    "load_dotenv()\n",
    "\n",
    "E2B_API_KEY = os.getenv(\"E2B_API_KEY\")"
   ]
  },
  {
   "cell_type": "code",
   "execution_count": 26,
   "id": "c62e3af6",
   "metadata": {},
   "outputs": [
    {
     "data": {
      "text/html": [
       "<pre style=\"white-space:pre;overflow-x:auto;line-height:normal;font-family:Menlo,'DejaVu Sans Mono',consolas,'Courier New',monospace\">Initializing executor, hold on<span style=\"color: #808000; text-decoration-color: #808000\">...</span>\n",
       "</pre>\n"
      ],
      "text/plain": [
       "Initializing executor, hold on\u001b[33m...\u001b[0m\n"
      ]
     },
     "metadata": {},
     "output_type": "display_data"
    },
    {
     "data": {
      "text/html": [
       "<pre style=\"white-space:pre;overflow-x:auto;line-height:normal;font-family:Menlo,'DejaVu Sans Mono',consolas,'Courier New',monospace\">Collecting smolagents\n",
       "\n",
       "  Downloading smolagents-<span style=\"color: #008080; text-decoration-color: #008080; font-weight: bold\">1.14</span>.<span style=\"color: #008080; text-decoration-color: #008080; font-weight: bold\">0</span>-py3-none-any.whl <span style=\"font-weight: bold\">(</span><span style=\"color: #008080; text-decoration-color: #008080; font-weight: bold\">114</span> kB<span style=\"font-weight: bold\">)</span>\n",
       "\u001b<span style=\"font-weight: bold\">[</span>?25l     \u001b<span style=\"font-weight: bold\">[</span>90m━━━━━━━━━━━━━━━━━━━━━━━━━━━━━━━━━━━━━━━━\u001b<span style=\"font-weight: bold\">[</span>0m \u001b<span style=\"font-weight: bold\">[</span>32m0.<span style=\"color: #008080; text-decoration-color: #008080; font-weight: bold\">0</span>/<span style=\"color: #008080; text-decoration-color: #008080; font-weight: bold\">114.5</span> kB\u001b<span style=\"font-weight: bold\">[</span>0m \u001b<span style=\"font-weight: bold\">[</span>31m?\u001b<span style=\"font-weight: bold\">[</span>0m eta \u001b<span style=\"font-weight: bold\">[</span>36m-:--:--\u001b<span style=\"font-weight: bold\">[</span>0m\u001b<span style=\"font-weight: bold\">[</span>2K\n",
       "\u001b<span style=\"font-weight: bold\">[</span>90m━━━━━━━━━━━━━━━━━━━━━━━━━━━━━━━━━━━━━━━\u001b<span style=\"font-weight: bold\">[</span>0m \u001b<span style=\"font-weight: bold\">[</span>32m114.<span style=\"color: #008080; text-decoration-color: #008080; font-weight: bold\">5</span>/<span style=\"color: #008080; text-decoration-color: #008080; font-weight: bold\">114.5</span> kB\u001b<span style=\"font-weight: bold\">[</span>0m \u001b<span style=\"font-weight: bold\">[</span>31m4.<span style=\"color: #008080; text-decoration-color: #008080; font-weight: bold\">4</span> MB/s\u001b<span style=\"font-weight: bold\">[</span>0m eta \u001b<span style=\"font-weight: bold\">[</span>36m<span style=\"color: #00ff00; text-decoration-color: #00ff00; font-weight: bold\">0:00:00</span>\u001b<span style=\"font-weight: bold\">[</span>0m\n",
       "\u001b<span style=\"font-weight: bold\">[</span>?25h\n",
       "Collecting huggingface-hub&gt;=<span style=\"color: #008080; text-decoration-color: #008080; font-weight: bold\">0.28</span>.<span style=\"color: #008080; text-decoration-color: #008080; font-weight: bold\">0</span>\n",
       "  Downloading huggingface_hub-<span style=\"color: #008080; text-decoration-color: #008080; font-weight: bold\">0.30</span>.<span style=\"color: #008080; text-decoration-color: #008080; font-weight: bold\">2</span>-py3-none-any.whl <span style=\"font-weight: bold\">(</span><span style=\"color: #008080; text-decoration-color: #008080; font-weight: bold\">481</span> kB<span style=\"font-weight: bold\">)</span>\n",
       "\u001b<span style=\"font-weight: bold\">[</span>?25l     \u001b<span style=\"font-weight: bold\">[</span>90m━━━━━━━━━━━━━━━━━━━━━━━━━━━━━━━━━━━━━━━━\u001b<span style=\"font-weight: bold\">[</span>0m \u001b<span style=\"font-weight: bold\">[</span>32m0.<span style=\"color: #008080; text-decoration-color: #008080; font-weight: bold\">0</span>/<span style=\"color: #008080; text-decoration-color: #008080; font-weight: bold\">481.4</span> kB\u001b<span style=\"font-weight: bold\">[</span>0m \u001b<span style=\"font-weight: bold\">[</span>31m?\u001b<span style=\"font-weight: bold\">[</span>0m eta \u001b<span style=\"font-weight: bold\">[</span>36m-:--:--\u001b<span style=\"font-weight: bold\">[</span>0m\n",
       "\u001b<span style=\"font-weight: bold\">[</span>2K     \u001b<span style=\"font-weight: bold\">[</span>91m━━━━━━━━━━━━━━━━━━━━━━━━━━━━━━━━━━━━━\u001b<span style=\"font-weight: bold\">[</span>0m\u001b<span style=\"font-weight: bold\">[</span>91m╸\u001b<span style=\"font-weight: bold\">[</span>0m \u001b<span style=\"font-weight: bold\">[</span>32m481.<span style=\"color: #008080; text-decoration-color: #008080; font-weight: bold\">3</span>/<span style=\"color: #008080; text-decoration-color: #008080; font-weight: bold\">481.4</span> kB\u001b<span style=\"font-weight: bold\">[</span>0m \u001b<span style=\"font-weight: bold\">[</span>31m16.<span style=\"color: #008080; text-decoration-color: #008080; font-weight: bold\">5</span> MB/s\u001b<span style=\"font-weight: bold\">[</span>0m eta \n",
       "\u001b<span style=\"font-weight: bold\">[</span>36m<span style=\"color: #00ff00; text-decoration-color: #00ff00; font-weight: bold\">0:00:01</span>\u001b<span style=\"font-weight: bold\">[</span>0m\u001b<span style=\"font-weight: bold\">[</span>2K     \u001b<span style=\"font-weight: bold\">[</span>90m━━━━━━━━━━━━━━━━━━━━━━━━━━━━━━━━━━━━━━\u001b<span style=\"font-weight: bold\">[</span>0m \u001b<span style=\"font-weight: bold\">[</span>32m481.<span style=\"color: #008080; text-decoration-color: #008080; font-weight: bold\">4</span>/<span style=\"color: #008080; text-decoration-color: #008080; font-weight: bold\">481.4</span> kB\u001b<span style=\"font-weight: bold\">[</span>0m \u001b<span style=\"font-weight: bold\">[</span>31m13.<span style=\"color: #008080; text-decoration-color: #008080; font-weight: bold\">2</span> MB/s\u001b<span style=\"font-weight: bold\">[</span>0m eta\n",
       "\u001b<span style=\"font-weight: bold\">[</span>36m<span style=\"color: #00ff00; text-decoration-color: #00ff00; font-weight: bold\">0:00:00</span>\u001b<span style=\"font-weight: bold\">[</span>0m\n",
       "\u001b<span style=\"font-weight: bold\">[</span>?25h\n",
       "Collecting markdownify&gt;=<span style=\"color: #008080; text-decoration-color: #008080; font-weight: bold\">0.14</span>.<span style=\"color: #008080; text-decoration-color: #008080; font-weight: bold\">1</span>\n",
       "  Downloading markdownify-<span style=\"color: #008080; text-decoration-color: #008080; font-weight: bold\">1.1</span>.<span style=\"color: #008080; text-decoration-color: #008080; font-weight: bold\">0</span>-py3-none-any.whl <span style=\"font-weight: bold\">(</span><span style=\"color: #008080; text-decoration-color: #008080; font-weight: bold\">13</span> kB<span style=\"font-weight: bold\">)</span>\n",
       "\n",
       "Collecting rich&gt;=<span style=\"color: #008080; text-decoration-color: #008080; font-weight: bold\">13.9</span>.<span style=\"color: #008080; text-decoration-color: #008080; font-weight: bold\">4</span>\n",
       "  Downloading rich-<span style=\"color: #008080; text-decoration-color: #008080; font-weight: bold\">14.0</span>.<span style=\"color: #008080; text-decoration-color: #008080; font-weight: bold\">0</span>-py3-none-any.whl <span style=\"font-weight: bold\">(</span><span style=\"color: #008080; text-decoration-color: #008080; font-weight: bold\">243</span> kB<span style=\"font-weight: bold\">)</span>\n",
       "\u001b<span style=\"font-weight: bold\">[</span>?25l     \u001b<span style=\"font-weight: bold\">[</span>90m━━━━━━━━━━━━━━━━━━━━━━━━━━━━━━━━━━━━━━━━\u001b<span style=\"font-weight: bold\">[</span>0m \u001b<span style=\"font-weight: bold\">[</span>32m0.<span style=\"color: #008080; text-decoration-color: #008080; font-weight: bold\">0</span>/<span style=\"color: #008080; text-decoration-color: #008080; font-weight: bold\">243.2</span> kB\u001b<span style=\"font-weight: bold\">[</span>0m \u001b<span style=\"font-weight: bold\">[</span>31m?\u001b<span style=\"font-weight: bold\">[</span>0m eta \u001b<span style=\"font-weight: bold\">[</span>36m-:--:--\u001b<span style=\"font-weight: bold\">[</span>0m\u001b<span style=\"font-weight: bold\">[</span>2K\n",
       "\u001b<span style=\"font-weight: bold\">[</span>90m━━━━━━━━━━━━━━━━━━━━━━━━━━━━━━━━━━━━━━\u001b<span style=\"font-weight: bold\">[</span>0m \u001b<span style=\"font-weight: bold\">[</span>32m243.<span style=\"color: #008080; text-decoration-color: #008080; font-weight: bold\">2</span>/<span style=\"color: #008080; text-decoration-color: #008080; font-weight: bold\">243.2</span> kB\u001b<span style=\"font-weight: bold\">[</span>0m \u001b<span style=\"font-weight: bold\">[</span>31m21.<span style=\"color: #008080; text-decoration-color: #008080; font-weight: bold\">6</span> MB/s\u001b<span style=\"font-weight: bold\">[</span>0m eta \u001b<span style=\"font-weight: bold\">[</span>36m<span style=\"color: #00ff00; text-decoration-color: #00ff00; font-weight: bold\">0:00:00</span>\u001b<span style=\"font-weight: bold\">[</span>0m\n",
       "\u001b<span style=\"font-weight: bold\">[</span>?25h\n",
       "Collecting pillow&gt;=<span style=\"color: #008080; text-decoration-color: #008080; font-weight: bold\">11.0</span>.<span style=\"color: #008080; text-decoration-color: #008080; font-weight: bold\">0</span>\n",
       "\n",
       "  Downloading pillow-<span style=\"color: #008080; text-decoration-color: #008080; font-weight: bold\">11.2</span>.<span style=\"color: #008080; text-decoration-color: #008080; font-weight: bold\">1</span>-cp310-cp310-manylinux_2_28_x86_64.whl <span style=\"font-weight: bold\">(</span><span style=\"color: #008080; text-decoration-color: #008080; font-weight: bold\">4.6</span> MB<span style=\"font-weight: bold\">)</span>\n",
       "\u001b<span style=\"font-weight: bold\">[</span>?25l     \u001b<span style=\"font-weight: bold\">[</span>90m━━━━━━━━━━━━━━━━━━━━━━━━━━━━━━━━━━━━━━━━\u001b<span style=\"font-weight: bold\">[</span>0m \u001b<span style=\"font-weight: bold\">[</span>32m0.<span style=\"color: #008080; text-decoration-color: #008080; font-weight: bold\">0</span>/<span style=\"color: #008080; text-decoration-color: #008080; font-weight: bold\">4.6</span> MB\u001b<span style=\"font-weight: bold\">[</span>0m \u001b<span style=\"font-weight: bold\">[</span>31m?\u001b<span style=\"font-weight: bold\">[</span>0m eta \u001b<span style=\"font-weight: bold\">[</span>36m-:--:--\u001b<span style=\"font-weight: bold\">[</span>0m\u001b<span style=\"font-weight: bold\">[</span>2K\n",
       "\u001b<span style=\"font-weight: bold\">[</span>91m━━━━━━━\u001b<span style=\"font-weight: bold\">[</span>0m\u001b<span style=\"font-weight: bold\">[</span>90m╺\u001b<span style=\"font-weight: bold\">[</span>0m\u001b<span style=\"font-weight: bold\">[</span>90m━━━━━━━━━━━━━━━━━━━━━━━━━━━━━━━━\u001b<span style=\"font-weight: bold\">[</span>0m \u001b<span style=\"font-weight: bold\">[</span>32m0.<span style=\"color: #008080; text-decoration-color: #008080; font-weight: bold\">8</span>/<span style=\"color: #008080; text-decoration-color: #008080; font-weight: bold\">4.6</span> MB\u001b<span style=\"font-weight: bold\">[</span>0m \u001b<span style=\"font-weight: bold\">[</span>31m24.<span style=\"color: #008080; text-decoration-color: #008080; font-weight: bold\">3</span> MB/s\u001b<span style=\"font-weight: bold\">[</span>0m eta \u001b<span style=\"font-weight: bold\">[</span>36m<span style=\"color: #00ff00; text-decoration-color: #00ff00; font-weight: bold\">0:00:01</span>\u001b<span style=\"font-weight: bold\">[</span>0m\n",
       "\u001b<span style=\"font-weight: bold\">[</span>2K     \u001b<span style=\"font-weight: bold\">[</span>91m━━━━━━━━━━━━━━━\u001b<span style=\"font-weight: bold\">[</span>0m\u001b<span style=\"font-weight: bold\">[</span>90m╺\u001b<span style=\"font-weight: bold\">[</span>0m\u001b<span style=\"font-weight: bold\">[</span>90m━━━━━━━━━━━━━━━━━━━━━━━━\u001b<span style=\"font-weight: bold\">[</span>0m \u001b<span style=\"font-weight: bold\">[</span>32m1.<span style=\"color: #008080; text-decoration-color: #008080; font-weight: bold\">7</span>/<span style=\"color: #008080; text-decoration-color: #008080; font-weight: bold\">4.6</span> MB\u001b<span style=\"font-weight: bold\">[</span>0m \u001b<span style=\"font-weight: bold\">[</span>31m24.<span style=\"color: #008080; text-decoration-color: #008080; font-weight: bold\">9</span> MB/s\u001b<span style=\"font-weight: bold\">[</span>0m eta\n",
       "\u001b<span style=\"font-weight: bold\">[</span>36m<span style=\"color: #00ff00; text-decoration-color: #00ff00; font-weight: bold\">0:00:01</span>\u001b<span style=\"font-weight: bold\">[</span>0m\n",
       "\u001b<span style=\"font-weight: bold\">[</span>2K     \u001b<span style=\"font-weight: bold\">[</span>91m━━━━━━━━━━━━━━━━━━━━━━━━━\u001b<span style=\"font-weight: bold\">[</span>0m\u001b<span style=\"font-weight: bold\">[</span>90m╺\u001b<span style=\"font-weight: bold\">[</span>0m\u001b<span style=\"font-weight: bold\">[</span>90m━━━━━━━━━━━━━━\u001b<span style=\"font-weight: bold\">[</span>0m \u001b<span style=\"font-weight: bold\">[</span>32m2.<span style=\"color: #008080; text-decoration-color: #008080; font-weight: bold\">9</span>/<span style=\"color: #008080; text-decoration-color: #008080; font-weight: bold\">4.6</span> MB\u001b<span style=\"font-weight: bold\">[</span>0m \u001b<span style=\"font-weight: bold\">[</span>31m27.<span style=\"color: #008080; text-decoration-color: #008080; font-weight: bold\">4</span> MB/s\u001b<span style=\"font-weight: bold\">[</span>0m eta\n",
       "\u001b<span style=\"font-weight: bold\">[</span>36m<span style=\"color: #00ff00; text-decoration-color: #00ff00; font-weight: bold\">0:00:01</span>\u001b<span style=\"font-weight: bold\">[</span>0m\u001b<span style=\"font-weight: bold\">[</span>2K     \u001b<span style=\"font-weight: bold\">[</span>91m━━━━━━━━━━━━━━━━━━━━━━━━━━━━━━━━━━━━━\u001b<span style=\"font-weight: bold\">[</span>0m\u001b<span style=\"font-weight: bold\">[</span>90m╺\u001b<span style=\"font-weight: bold\">[</span>0m\u001b<span style=\"font-weight: bold\">[</span>90m━━\u001b<span style=\"font-weight: bold\">[</span>0m \u001b<span style=\"font-weight: bold\">[</span>32m4.<span style=\"color: #008080; text-decoration-color: #008080; font-weight: bold\">3</span>/<span style=\"color: #008080; text-decoration-color: #008080; font-weight: bold\">4.6</span> MB\u001b<span style=\"font-weight: bold\">[</span>0m \u001b<span style=\"font-weight: bold\">[</span>31m30.<span style=\"color: #008080; text-decoration-color: #008080; font-weight: bold\">3</span>\n",
       "MB/s\u001b<span style=\"font-weight: bold\">[</span>0m eta \u001b<span style=\"font-weight: bold\">[</span>36m<span style=\"color: #00ff00; text-decoration-color: #00ff00; font-weight: bold\">0:00:01</span>\u001b<span style=\"font-weight: bold\">[</span>0m\n",
       "\u001b<span style=\"font-weight: bold\">[</span>2K     \u001b<span style=\"font-weight: bold\">[</span>91m━━━━━━━━━━━━━━━━━━━━━━━━━━━━━━━━━━━━━━━\u001b<span style=\"font-weight: bold\">[</span>0m\u001b<span style=\"font-weight: bold\">[</span>91m╸\u001b<span style=\"font-weight: bold\">[</span>0m \u001b<span style=\"font-weight: bold\">[</span>32m4.<span style=\"color: #008080; text-decoration-color: #008080; font-weight: bold\">6</span>/<span style=\"color: #008080; text-decoration-color: #008080; font-weight: bold\">4.6</span> MB\u001b<span style=\"font-weight: bold\">[</span>0m \u001b<span style=\"font-weight: bold\">[</span>31m31.<span style=\"color: #008080; text-decoration-color: #008080; font-weight: bold\">0</span> MB/s\u001b<span style=\"font-weight: bold\">[</span>0m eta \n",
       "\u001b<span style=\"font-weight: bold\">[</span>36m<span style=\"color: #00ff00; text-decoration-color: #00ff00; font-weight: bold\">0:00:01</span>\u001b<span style=\"font-weight: bold\">[</span>0m\u001b<span style=\"font-weight: bold\">[</span>2K     \u001b<span style=\"font-weight: bold\">[</span>90m━━━━━━━━━━━━━━━━━━━━━━━━━━━━━━━━━━━━━━━━\u001b<span style=\"font-weight: bold\">[</span>0m \u001b<span style=\"font-weight: bold\">[</span>32m4.<span style=\"color: #008080; text-decoration-color: #008080; font-weight: bold\">6</span>/<span style=\"color: #008080; text-decoration-color: #008080; font-weight: bold\">4.6</span> MB\u001b<span style=\"font-weight: bold\">[</span>0m \u001b<span style=\"font-weight: bold\">[</span>31m25.<span style=\"color: #008080; text-decoration-color: #008080; font-weight: bold\">3</span> MB/s\u001b<span style=\"font-weight: bold\">[</span>0m eta\n",
       "\u001b<span style=\"font-weight: bold\">[</span>36m<span style=\"color: #00ff00; text-decoration-color: #00ff00; font-weight: bold\">0:00:00</span>\u001b<span style=\"font-weight: bold\">[</span>0m\n",
       "\u001b<span style=\"font-weight: bold\">[</span>?25h\n",
       "Collecting duckduckgo-search&gt;=<span style=\"color: #008080; text-decoration-color: #008080; font-weight: bold\">6.3</span>.<span style=\"color: #008080; text-decoration-color: #008080; font-weight: bold\">7</span>\n",
       "  Downloading duckduckgo_search-<span style=\"color: #008080; text-decoration-color: #008080; font-weight: bold\">8.0</span>.<span style=\"color: #008080; text-decoration-color: #008080; font-weight: bold\">1</span>-py3-none-any.whl <span style=\"font-weight: bold\">(</span><span style=\"color: #008080; text-decoration-color: #008080; font-weight: bold\">18</span> kB<span style=\"font-weight: bold\">)</span>\n",
       "\n",
       "Collecting requests&gt;=<span style=\"color: #008080; text-decoration-color: #008080; font-weight: bold\">2.32</span>.<span style=\"color: #008080; text-decoration-color: #008080; font-weight: bold\">3</span>\n",
       "\n",
       "  Downloading requests-<span style=\"color: #008080; text-decoration-color: #008080; font-weight: bold\">2.32</span>.<span style=\"color: #008080; text-decoration-color: #008080; font-weight: bold\">3</span>-py3-none-any.whl <span style=\"font-weight: bold\">(</span><span style=\"color: #008080; text-decoration-color: #008080; font-weight: bold\">64</span> kB<span style=\"font-weight: bold\">)</span>\n",
       "\u001b<span style=\"font-weight: bold\">[</span>?25l     \u001b<span style=\"font-weight: bold\">[</span>90m━━━━━━━━━━━━━━━━━━━━━━━━━━━━━━━━━━━━━━━━\u001b<span style=\"font-weight: bold\">[</span>0m \u001b<span style=\"font-weight: bold\">[</span>32m0.<span style=\"color: #008080; text-decoration-color: #008080; font-weight: bold\">0</span>/<span style=\"color: #008080; text-decoration-color: #008080; font-weight: bold\">64.9</span> kB\u001b<span style=\"font-weight: bold\">[</span>0m \u001b<span style=\"font-weight: bold\">[</span>31m?\u001b<span style=\"font-weight: bold\">[</span>0m eta \u001b<span style=\"font-weight: bold\">[</span>36m-:--:--\u001b<span style=\"font-weight: bold\">[</span>0m\u001b<span style=\"font-weight: bold\">[</span>2K\n",
       "\u001b<span style=\"font-weight: bold\">[</span>90m━━━━━━━━━━━━━━━━━━━━━━━━━━━━━━━━━━━━━━━━\u001b<span style=\"font-weight: bold\">[</span>0m \u001b<span style=\"font-weight: bold\">[</span>32m64.<span style=\"color: #008080; text-decoration-color: #008080; font-weight: bold\">9</span>/<span style=\"color: #008080; text-decoration-color: #008080; font-weight: bold\">64.9</span> kB\u001b<span style=\"font-weight: bold\">[</span>0m \u001b<span style=\"font-weight: bold\">[</span>31m12.<span style=\"color: #008080; text-decoration-color: #008080; font-weight: bold\">2</span> MB/s\u001b<span style=\"font-weight: bold\">[</span>0m eta \u001b<span style=\"font-weight: bold\">[</span>36m<span style=\"color: #00ff00; text-decoration-color: #00ff00; font-weight: bold\">0:00:00</span>\u001b<span style=\"font-weight: bold\">[</span>0m\n",
       "\u001b<span style=\"font-weight: bold\">[</span>?25h\n",
       "Collecting python-dotenv\n",
       "  Downloading python_dotenv-<span style=\"color: #008080; text-decoration-color: #008080; font-weight: bold\">1.1</span>.<span style=\"color: #008080; text-decoration-color: #008080; font-weight: bold\">0</span>-py3-none-any.whl <span style=\"font-weight: bold\">(</span><span style=\"color: #008080; text-decoration-color: #008080; font-weight: bold\">20</span> kB<span style=\"font-weight: bold\">)</span>\n",
       "Requirement already satisfied: jinja2&gt;=<span style=\"color: #008080; text-decoration-color: #008080; font-weight: bold\">3.1</span>.<span style=\"color: #008080; text-decoration-color: #008080; font-weight: bold\">4</span> in <span style=\"color: #800080; text-decoration-color: #800080\">/usr/local/lib/python3.10/</span><span style=\"color: #ff00ff; text-decoration-color: #ff00ff\">site-packages</span> <span style=\"font-weight: bold\">(</span>from smolagents<span style=\"font-weight: bold\">)</span> <span style=\"font-weight: bold\">(</span><span style=\"color: #008080; text-decoration-color: #008080; font-weight: bold\">3.1</span>.<span style=\"color: #008080; text-decoration-color: #008080; font-weight: bold\">6</span><span style=\"font-weight: bold\">)</span>\n",
       "\n",
       "Collecting primp&gt;=<span style=\"color: #008080; text-decoration-color: #008080; font-weight: bold\">0.15</span>.<span style=\"color: #008080; text-decoration-color: #008080; font-weight: bold\">0</span>\n",
       "\n",
       "  Downloading primp-<span style=\"color: #008080; text-decoration-color: #008080; font-weight: bold\">0.15</span>.<span style=\"color: #008080; text-decoration-color: #008080; font-weight: bold\">0</span>-cp38-abi3-manylinux_2_17_x86_64.manylinux2014_x86_64.whl <span style=\"font-weight: bold\">(</span><span style=\"color: #008080; text-decoration-color: #008080; font-weight: bold\">3.3</span> MB<span style=\"font-weight: bold\">)</span>\n",
       "\u001b<span style=\"font-weight: bold\">[</span>?25l     \u001b<span style=\"font-weight: bold\">[</span>90m━━━━━━━━━━━━━━━━━━━━━━━━━━━━━━━━━━━━━━━━\u001b<span style=\"font-weight: bold\">[</span>0m \u001b<span style=\"font-weight: bold\">[</span>32m0.<span style=\"color: #008080; text-decoration-color: #008080; font-weight: bold\">0</span>/<span style=\"color: #008080; text-decoration-color: #008080; font-weight: bold\">3.3</span> MB\u001b<span style=\"font-weight: bold\">[</span>0m \u001b<span style=\"font-weight: bold\">[</span>31m?\u001b<span style=\"font-weight: bold\">[</span>0m eta \u001b<span style=\"font-weight: bold\">[</span>36m-:--:--\u001b<span style=\"font-weight: bold\">[</span>0m\u001b<span style=\"font-weight: bold\">[</span>2K\n",
       "\u001b<span style=\"font-weight: bold\">[</span>91m━━━━━━━━━━━━━━━━━━━━━━━\u001b<span style=\"font-weight: bold\">[</span>0m\u001b<span style=\"font-weight: bold\">[</span>90m╺\u001b<span style=\"font-weight: bold\">[</span>0m\u001b<span style=\"font-weight: bold\">[</span>90m━━━━━━━━━━━━━━━━\u001b<span style=\"font-weight: bold\">[</span>0m \u001b<span style=\"font-weight: bold\">[</span>32m1.<span style=\"color: #008080; text-decoration-color: #008080; font-weight: bold\">9</span>/<span style=\"color: #008080; text-decoration-color: #008080; font-weight: bold\">3.3</span> MB\u001b<span style=\"font-weight: bold\">[</span>0m \u001b<span style=\"font-weight: bold\">[</span>31m57.<span style=\"color: #008080; text-decoration-color: #008080; font-weight: bold\">3</span> MB/s\u001b<span style=\"font-weight: bold\">[</span>0m eta \u001b<span style=\"font-weight: bold\">[</span>36m<span style=\"color: #00ff00; text-decoration-color: #00ff00; font-weight: bold\">0:00:01</span>\u001b<span style=\"font-weight: bold\">[</span>0m\n",
       "\u001b<span style=\"font-weight: bold\">[</span>2K     \u001b<span style=\"font-weight: bold\">[</span>91m━━━━━━━━━━━━━━━━━━━━━━━━━━━━━━━━━━━━━━━\u001b<span style=\"font-weight: bold\">[</span>0m\u001b<span style=\"font-weight: bold\">[</span>91m╸\u001b<span style=\"font-weight: bold\">[</span>0m \u001b<span style=\"font-weight: bold\">[</span>32m3.<span style=\"color: #008080; text-decoration-color: #008080; font-weight: bold\">3</span>/<span style=\"color: #008080; text-decoration-color: #008080; font-weight: bold\">3.3</span> MB\u001b<span style=\"font-weight: bold\">[</span>0m \u001b<span style=\"font-weight: bold\">[</span>31m59.<span style=\"color: #008080; text-decoration-color: #008080; font-weight: bold\">7</span> MB/s\u001b<span style=\"font-weight: bold\">[</span>0m eta \n",
       "\u001b<span style=\"font-weight: bold\">[</span>36m<span style=\"color: #00ff00; text-decoration-color: #00ff00; font-weight: bold\">0:00:01</span>\u001b<span style=\"font-weight: bold\">[</span>0m\u001b<span style=\"font-weight: bold\">[</span>2K     \u001b<span style=\"font-weight: bold\">[</span>90m━━━━━━━━━━━━━━━━━━━━━━━━━━━━━━━━━━━━━━━━\u001b<span style=\"font-weight: bold\">[</span>0m \u001b<span style=\"font-weight: bold\">[</span>32m3.<span style=\"color: #008080; text-decoration-color: #008080; font-weight: bold\">3</span>/<span style=\"color: #008080; text-decoration-color: #008080; font-weight: bold\">3.3</span> MB\u001b<span style=\"font-weight: bold\">[</span>0m \u001b<span style=\"font-weight: bold\">[</span>31m42.<span style=\"color: #008080; text-decoration-color: #008080; font-weight: bold\">1</span> MB/s\u001b<span style=\"font-weight: bold\">[</span>0m eta\n",
       "\u001b<span style=\"font-weight: bold\">[</span>36m<span style=\"color: #00ff00; text-decoration-color: #00ff00; font-weight: bold\">0:00:00</span>\u001b<span style=\"font-weight: bold\">[</span>0m\n",
       "\u001b<span style=\"font-weight: bold\">[</span>?25hRequirement already satisfied: click&gt;=<span style=\"color: #008080; text-decoration-color: #008080; font-weight: bold\">8.1</span>.<span style=\"color: #008080; text-decoration-color: #008080; font-weight: bold\">8</span> in <span style=\"color: #800080; text-decoration-color: #800080\">/usr/local/lib/python3.10/</span><span style=\"color: #ff00ff; text-decoration-color: #ff00ff\">site-packages</span> <span style=\"font-weight: bold\">(</span>from \n",
       "duckduckgo-search&gt;=<span style=\"color: #008080; text-decoration-color: #008080; font-weight: bold\">6.3</span>.<span style=\"color: #008080; text-decoration-color: #008080; font-weight: bold\">7</span>-&gt;smolagents<span style=\"font-weight: bold\">)</span> <span style=\"font-weight: bold\">(</span><span style=\"color: #008080; text-decoration-color: #008080; font-weight: bold\">8.1</span>.<span style=\"color: #008080; text-decoration-color: #008080; font-weight: bold\">8</span><span style=\"font-weight: bold\">)</span>\n",
       "Requirement already satisfied: lxml&gt;=<span style=\"color: #008080; text-decoration-color: #008080; font-weight: bold\">5.3</span>.<span style=\"color: #008080; text-decoration-color: #008080; font-weight: bold\">0</span> in <span style=\"color: #800080; text-decoration-color: #800080\">/usr/local/lib/python3.10/</span><span style=\"color: #ff00ff; text-decoration-color: #ff00ff\">site-packages</span> <span style=\"font-weight: bold\">(</span>from \n",
       "duckduckgo-search&gt;=<span style=\"color: #008080; text-decoration-color: #008080; font-weight: bold\">6.3</span>.<span style=\"color: #008080; text-decoration-color: #008080; font-weight: bold\">7</span>-&gt;smolagents<span style=\"font-weight: bold\">)</span> <span style=\"font-weight: bold\">(</span><span style=\"color: #008080; text-decoration-color: #008080; font-weight: bold\">5.3</span>.<span style=\"color: #008080; text-decoration-color: #008080; font-weight: bold\">1</span><span style=\"font-weight: bold\">)</span>\n",
       "\n",
       "Requirement already satisfied: typing-extensions&gt;=<span style=\"color: #00ff00; text-decoration-color: #00ff00; font-weight: bold\">3.7.4.3</span> in <span style=\"color: #800080; text-decoration-color: #800080\">/usr/local/lib/python3.10/</span><span style=\"color: #ff00ff; text-decoration-color: #ff00ff\">site-packages</span> <span style=\"font-weight: bold\">(</span>from \n",
       "huggingface-hub&gt;=<span style=\"color: #008080; text-decoration-color: #008080; font-weight: bold\">0.28</span>.<span style=\"color: #008080; text-decoration-color: #008080; font-weight: bold\">0</span>-&gt;smolagents<span style=\"font-weight: bold\">)</span> <span style=\"font-weight: bold\">(</span><span style=\"color: #008080; text-decoration-color: #008080; font-weight: bold\">4.12</span>.<span style=\"color: #008080; text-decoration-color: #008080; font-weight: bold\">2</span><span style=\"font-weight: bold\">)</span>\n",
       "\n",
       "Collecting fsspec&gt;=<span style=\"color: #008080; text-decoration-color: #008080; font-weight: bold\">2023.5</span>.<span style=\"color: #008080; text-decoration-color: #008080; font-weight: bold\">0</span>\n",
       "  Downloading fsspec-<span style=\"color: #008080; text-decoration-color: #008080; font-weight: bold\">2025.3</span>.<span style=\"color: #008080; text-decoration-color: #008080; font-weight: bold\">2</span>-py3-none-any.whl <span style=\"font-weight: bold\">(</span><span style=\"color: #008080; text-decoration-color: #008080; font-weight: bold\">194</span> kB<span style=\"font-weight: bold\">)</span>\n",
       "\u001b<span style=\"font-weight: bold\">[</span>?25l     \u001b<span style=\"font-weight: bold\">[</span>90m━━━━━━━━━━━━━━━━━━━━━━━━━━━━━━━━━━━━━━━━\u001b<span style=\"font-weight: bold\">[</span>0m \u001b<span style=\"font-weight: bold\">[</span>32m0.<span style=\"color: #008080; text-decoration-color: #008080; font-weight: bold\">0</span>/<span style=\"color: #008080; text-decoration-color: #008080; font-weight: bold\">194.4</span> kB\u001b<span style=\"font-weight: bold\">[</span>0m \u001b<span style=\"font-weight: bold\">[</span>31m?\u001b<span style=\"font-weight: bold\">[</span>0m eta \u001b<span style=\"font-weight: bold\">[</span>36m-:--:--\u001b<span style=\"font-weight: bold\">[</span>0m\u001b<span style=\"font-weight: bold\">[</span>2K\n",
       "\u001b<span style=\"font-weight: bold\">[</span>90m━━━━━━━━━━━━━━━━━━━━━━━━━━━━━━━━━━━━━━\u001b<span style=\"font-weight: bold\">[</span>0m \u001b<span style=\"font-weight: bold\">[</span>32m194.<span style=\"color: #008080; text-decoration-color: #008080; font-weight: bold\">4</span>/<span style=\"color: #008080; text-decoration-color: #008080; font-weight: bold\">194.4</span> kB\u001b<span style=\"font-weight: bold\">[</span>0m \u001b<span style=\"font-weight: bold\">[</span>31m34.<span style=\"color: #008080; text-decoration-color: #008080; font-weight: bold\">9</span> MB/s\u001b<span style=\"font-weight: bold\">[</span>0m eta \u001b<span style=\"font-weight: bold\">[</span>36m<span style=\"color: #00ff00; text-decoration-color: #00ff00; font-weight: bold\">0:00:00</span>\u001b<span style=\"font-weight: bold\">[</span>0m\n",
       "\u001b<span style=\"font-weight: bold\">[</span>?25hRequirement already satisfied: tqdm&gt;=<span style=\"color: #008080; text-decoration-color: #008080; font-weight: bold\">4.42</span>.<span style=\"color: #008080; text-decoration-color: #008080; font-weight: bold\">1</span> in <span style=\"color: #800080; text-decoration-color: #800080\">/usr/local/lib/python3.10/</span><span style=\"color: #ff00ff; text-decoration-color: #ff00ff\">site-packages</span> <span style=\"font-weight: bold\">(</span>from \n",
       "huggingface-hub&gt;=<span style=\"color: #008080; text-decoration-color: #008080; font-weight: bold\">0.28</span>.<span style=\"color: #008080; text-decoration-color: #008080; font-weight: bold\">0</span>-&gt;smolagents<span style=\"font-weight: bold\">)</span> <span style=\"font-weight: bold\">(</span><span style=\"color: #008080; text-decoration-color: #008080; font-weight: bold\">4.67</span>.<span style=\"color: #008080; text-decoration-color: #008080; font-weight: bold\">1</span><span style=\"font-weight: bold\">)</span>\n",
       "\n",
       "Collecting filelock\n",
       "  Downloading filelock-<span style=\"color: #008080; text-decoration-color: #008080; font-weight: bold\">3.18</span>.<span style=\"color: #008080; text-decoration-color: #008080; font-weight: bold\">0</span>-py3-none-any.whl <span style=\"font-weight: bold\">(</span><span style=\"color: #008080; text-decoration-color: #008080; font-weight: bold\">16</span> kB<span style=\"font-weight: bold\">)</span>\n",
       "\n",
       "Requirement already satisfied: packaging&gt;=<span style=\"color: #008080; text-decoration-color: #008080; font-weight: bold\">20.9</span> in <span style=\"color: #800080; text-decoration-color: #800080\">/usr/local/lib/python3.10/</span><span style=\"color: #ff00ff; text-decoration-color: #ff00ff\">site-packages</span> <span style=\"font-weight: bold\">(</span>from \n",
       "huggingface-hub&gt;=<span style=\"color: #008080; text-decoration-color: #008080; font-weight: bold\">0.28</span>.<span style=\"color: #008080; text-decoration-color: #008080; font-weight: bold\">0</span>-&gt;smolagents<span style=\"font-weight: bold\">)</span> <span style=\"font-weight: bold\">(</span><span style=\"color: #008080; text-decoration-color: #008080; font-weight: bold\">24.2</span><span style=\"font-weight: bold\">)</span>\n",
       "Requirement already satisfied: pyyaml&gt;=<span style=\"color: #008080; text-decoration-color: #008080; font-weight: bold\">5.1</span> in <span style=\"color: #800080; text-decoration-color: #800080\">/usr/local/lib/python3.10/</span><span style=\"color: #ff00ff; text-decoration-color: #ff00ff\">site-packages</span> <span style=\"font-weight: bold\">(</span>from \n",
       "huggingface-hub&gt;=<span style=\"color: #008080; text-decoration-color: #008080; font-weight: bold\">0.28</span>.<span style=\"color: #008080; text-decoration-color: #008080; font-weight: bold\">0</span>-&gt;smolagents<span style=\"font-weight: bold\">)</span> <span style=\"font-weight: bold\">(</span><span style=\"color: #008080; text-decoration-color: #008080; font-weight: bold\">6.0</span>.<span style=\"color: #008080; text-decoration-color: #008080; font-weight: bold\">2</span><span style=\"font-weight: bold\">)</span>\n",
       "Requirement already satisfied: MarkupSafe&gt;=<span style=\"color: #008080; text-decoration-color: #008080; font-weight: bold\">2.0</span> in <span style=\"color: #800080; text-decoration-color: #800080\">/usr/local/lib/python3.10/</span><span style=\"color: #ff00ff; text-decoration-color: #ff00ff\">site-packages</span> <span style=\"font-weight: bold\">(</span>from \n",
       "jinja2&gt;=<span style=\"color: #008080; text-decoration-color: #008080; font-weight: bold\">3.1</span>.<span style=\"color: #008080; text-decoration-color: #008080; font-weight: bold\">4</span>-&gt;smolagents<span style=\"font-weight: bold\">)</span> <span style=\"font-weight: bold\">(</span><span style=\"color: #008080; text-decoration-color: #008080; font-weight: bold\">3.0</span>.<span style=\"color: #008080; text-decoration-color: #008080; font-weight: bold\">2</span><span style=\"font-weight: bold\">)</span>\n",
       "Requirement already satisfied: beautifulsoup4<span style=\"font-weight: bold\">&lt;</span><span style=\"color: #008080; text-decoration-color: #008080; font-weight: bold\">5</span><span style=\"color: #000000; text-decoration-color: #000000\">,&gt;=</span><span style=\"color: #008080; text-decoration-color: #008080; font-weight: bold\">4.9</span><span style=\"color: #000000; text-decoration-color: #000000\"> in </span><span style=\"color: #800080; text-decoration-color: #800080\">/usr/local/lib/python3.10/</span><span style=\"color: #ff00ff; text-decoration-color: #ff00ff\">site-packages</span><span style=\"color: #000000; text-decoration-color: #000000\"> </span><span style=\"color: #000000; text-decoration-color: #000000; font-weight: bold\">(</span><span style=\"color: #000000; text-decoration-color: #000000\">from </span>\n",
       "<span style=\"color: #000000; text-decoration-color: #000000\">markdownify&gt;=</span><span style=\"color: #008080; text-decoration-color: #008080; font-weight: bold\">0.14</span><span style=\"color: #000000; text-decoration-color: #000000\">.</span><span style=\"color: #008080; text-decoration-color: #008080; font-weight: bold\">1</span><span style=\"color: #000000; text-decoration-color: #000000\">-&gt;smolagents</span><span style=\"color: #000000; text-decoration-color: #000000; font-weight: bold\">)</span><span style=\"color: #000000; text-decoration-color: #000000\"> </span><span style=\"color: #000000; text-decoration-color: #000000; font-weight: bold\">(</span><span style=\"color: #008080; text-decoration-color: #008080; font-weight: bold\">4.12</span><span style=\"color: #000000; text-decoration-color: #000000\">.</span><span style=\"color: #008080; text-decoration-color: #008080; font-weight: bold\">3</span><span style=\"color: #000000; text-decoration-color: #000000; font-weight: bold\">)</span>\n",
       "<span style=\"color: #000000; text-decoration-color: #000000\">Requirement already satisfied: six&lt;</span><span style=\"color: #008080; text-decoration-color: #008080; font-weight: bold\">2</span><span style=\"color: #000000; text-decoration-color: #000000\">,&gt;=</span><span style=\"color: #008080; text-decoration-color: #008080; font-weight: bold\">1.15</span><span style=\"color: #000000; text-decoration-color: #000000\"> in </span><span style=\"color: #800080; text-decoration-color: #800080\">/usr/local/lib/python3.10/</span><span style=\"color: #ff00ff; text-decoration-color: #ff00ff\">site-packages</span><span style=\"color: #000000; text-decoration-color: #000000\"> </span><span style=\"color: #000000; text-decoration-color: #000000; font-weight: bold\">(</span><span style=\"color: #000000; text-decoration-color: #000000\">from </span>\n",
       "<span style=\"color: #000000; text-decoration-color: #000000\">markdownify&gt;=</span><span style=\"color: #008080; text-decoration-color: #008080; font-weight: bold\">0.14</span><span style=\"color: #000000; text-decoration-color: #000000\">.</span><span style=\"color: #008080; text-decoration-color: #008080; font-weight: bold\">1</span><span style=\"color: #000000; text-decoration-color: #000000\">-&gt;smolagents</span><span style=\"color: #000000; text-decoration-color: #000000; font-weight: bold\">)</span><span style=\"color: #000000; text-decoration-color: #000000\"> </span><span style=\"color: #000000; text-decoration-color: #000000; font-weight: bold\">(</span><span style=\"color: #008080; text-decoration-color: #008080; font-weight: bold\">1.17</span><span style=\"color: #000000; text-decoration-color: #000000\">.</span><span style=\"color: #008080; text-decoration-color: #008080; font-weight: bold\">0</span><span style=\"color: #000000; text-decoration-color: #000000; font-weight: bold\">)</span>\n",
       "<span style=\"color: #000000; text-decoration-color: #000000\">Requirement already satisfied: certifi&gt;=</span><span style=\"color: #008080; text-decoration-color: #008080; font-weight: bold\">2017.4</span><span style=\"color: #000000; text-decoration-color: #000000\">.</span><span style=\"color: #008080; text-decoration-color: #008080; font-weight: bold\">17</span><span style=\"color: #000000; text-decoration-color: #000000\"> in </span><span style=\"color: #800080; text-decoration-color: #800080\">/usr/local/lib/python3.10/</span><span style=\"color: #ff00ff; text-decoration-color: #ff00ff\">site-packages</span><span style=\"color: #000000; text-decoration-color: #000000\"> </span><span style=\"color: #000000; text-decoration-color: #000000; font-weight: bold\">(</span><span style=\"color: #000000; text-decoration-color: #000000\">from </span>\n",
       "<span style=\"color: #000000; text-decoration-color: #000000\">requests&gt;=</span><span style=\"color: #008080; text-decoration-color: #008080; font-weight: bold\">2.32</span><span style=\"color: #000000; text-decoration-color: #000000\">.</span><span style=\"color: #008080; text-decoration-color: #008080; font-weight: bold\">3</span><span style=\"color: #000000; text-decoration-color: #000000\">-&gt;smolagents</span><span style=\"color: #000000; text-decoration-color: #000000; font-weight: bold\">)</span><span style=\"color: #000000; text-decoration-color: #000000\"> </span><span style=\"color: #000000; text-decoration-color: #000000; font-weight: bold\">(</span><span style=\"color: #008080; text-decoration-color: #008080; font-weight: bold\">2025.1</span><span style=\"color: #000000; text-decoration-color: #000000\">.</span><span style=\"color: #008080; text-decoration-color: #008080; font-weight: bold\">31</span><span style=\"color: #000000; text-decoration-color: #000000; font-weight: bold\">)</span>\n",
       "<span style=\"color: #000000; text-decoration-color: #000000\">Requirement already satisfied: idna&lt;</span><span style=\"color: #008080; text-decoration-color: #008080; font-weight: bold\">4</span><span style=\"color: #000000; text-decoration-color: #000000\">,&gt;=</span><span style=\"color: #008080; text-decoration-color: #008080; font-weight: bold\">2.5</span><span style=\"color: #000000; text-decoration-color: #000000\"> in </span><span style=\"color: #800080; text-decoration-color: #800080\">/usr/local/lib/python3.10/</span><span style=\"color: #ff00ff; text-decoration-color: #ff00ff\">site-packages</span><span style=\"color: #000000; text-decoration-color: #000000\"> </span><span style=\"color: #000000; text-decoration-color: #000000; font-weight: bold\">(</span><span style=\"color: #000000; text-decoration-color: #000000\">from </span>\n",
       "<span style=\"color: #000000; text-decoration-color: #000000\">requests&gt;=</span><span style=\"color: #008080; text-decoration-color: #008080; font-weight: bold\">2.32</span><span style=\"color: #000000; text-decoration-color: #000000\">.</span><span style=\"color: #008080; text-decoration-color: #008080; font-weight: bold\">3</span><span style=\"color: #000000; text-decoration-color: #000000\">-&gt;smolagents</span><span style=\"color: #000000; text-decoration-color: #000000; font-weight: bold\">)</span><span style=\"color: #000000; text-decoration-color: #000000\"> </span><span style=\"color: #000000; text-decoration-color: #000000; font-weight: bold\">(</span><span style=\"color: #008080; text-decoration-color: #008080; font-weight: bold\">3.10</span><span style=\"color: #000000; text-decoration-color: #000000; font-weight: bold\">)</span>\n",
       "<span style=\"color: #000000; text-decoration-color: #000000\">Requirement already satisfied: charset-normalizer&lt;</span><span style=\"color: #008080; text-decoration-color: #008080; font-weight: bold\">4</span><span style=\"color: #000000; text-decoration-color: #000000\">,&gt;=</span><span style=\"color: #008080; text-decoration-color: #008080; font-weight: bold\">2</span><span style=\"color: #000000; text-decoration-color: #000000\"> in </span><span style=\"color: #800080; text-decoration-color: #800080\">/usr/local/lib/python3.10/</span><span style=\"color: #ff00ff; text-decoration-color: #ff00ff\">site-packages</span><span style=\"color: #000000; text-decoration-color: #000000\"> </span><span style=\"color: #000000; text-decoration-color: #000000; font-weight: bold\">(</span><span style=\"color: #000000; text-decoration-color: #000000\">from </span>\n",
       "<span style=\"color: #000000; text-decoration-color: #000000\">requests&gt;=</span><span style=\"color: #008080; text-decoration-color: #008080; font-weight: bold\">2.32</span><span style=\"color: #000000; text-decoration-color: #000000\">.</span><span style=\"color: #008080; text-decoration-color: #008080; font-weight: bold\">3</span><span style=\"color: #000000; text-decoration-color: #000000\">-&gt;smolagents</span><span style=\"color: #000000; text-decoration-color: #000000; font-weight: bold\">)</span><span style=\"color: #000000; text-decoration-color: #000000\"> </span><span style=\"color: #000000; text-decoration-color: #000000; font-weight: bold\">(</span><span style=\"color: #008080; text-decoration-color: #008080; font-weight: bold\">3.4</span><span style=\"color: #000000; text-decoration-color: #000000\">.</span><span style=\"color: #008080; text-decoration-color: #008080; font-weight: bold\">1</span><span style=\"color: #000000; text-decoration-color: #000000; font-weight: bold\">)</span>\n",
       "<span style=\"color: #000000; text-decoration-color: #000000\">Requirement already satisfied: urllib3&lt;</span><span style=\"color: #008080; text-decoration-color: #008080; font-weight: bold\">3</span><span style=\"color: #000000; text-decoration-color: #000000\">,&gt;=</span><span style=\"color: #008080; text-decoration-color: #008080; font-weight: bold\">1.21</span><span style=\"color: #000000; text-decoration-color: #000000\">.</span><span style=\"color: #008080; text-decoration-color: #008080; font-weight: bold\">1</span><span style=\"color: #000000; text-decoration-color: #000000\"> in </span><span style=\"color: #800080; text-decoration-color: #800080\">/usr/local/lib/python3.10/</span><span style=\"color: #ff00ff; text-decoration-color: #ff00ff\">site-packages</span><span style=\"color: #000000; text-decoration-color: #000000\"> </span><span style=\"color: #000000; text-decoration-color: #000000; font-weight: bold\">(</span><span style=\"color: #000000; text-decoration-color: #000000\">from </span>\n",
       "<span style=\"color: #000000; text-decoration-color: #000000\">requests&gt;=</span><span style=\"color: #008080; text-decoration-color: #008080; font-weight: bold\">2.32</span><span style=\"color: #000000; text-decoration-color: #000000\">.</span><span style=\"color: #008080; text-decoration-color: #008080; font-weight: bold\">3</span><span style=\"color: #000000; text-decoration-color: #000000\">-&gt;smolagents</span><span style=\"color: #000000; text-decoration-color: #000000; font-weight: bold\">)</span><span style=\"color: #000000; text-decoration-color: #000000\"> </span><span style=\"color: #000000; text-decoration-color: #000000; font-weight: bold\">(</span><span style=\"color: #008080; text-decoration-color: #008080; font-weight: bold\">1.26</span><span style=\"color: #000000; text-decoration-color: #000000\">.</span><span style=\"color: #008080; text-decoration-color: #008080; font-weight: bold\">19</span><span style=\"color: #000000; text-decoration-color: #000000; font-weight: bold\">)</span>\n",
       "\n",
       "<span style=\"color: #000000; text-decoration-color: #000000\">Requirement already satisfied: pygments&lt;</span><span style=\"color: #008080; text-decoration-color: #008080; font-weight: bold\">3.0</span><span style=\"color: #000000; text-decoration-color: #000000\">.</span><span style=\"color: #008080; text-decoration-color: #008080; font-weight: bold\">0</span><span style=\"color: #000000; text-decoration-color: #000000\">,&gt;=</span><span style=\"color: #008080; text-decoration-color: #008080; font-weight: bold\">2.13</span><span style=\"color: #000000; text-decoration-color: #000000\">.</span><span style=\"color: #008080; text-decoration-color: #008080; font-weight: bold\">0</span><span style=\"color: #000000; text-decoration-color: #000000\"> in </span><span style=\"color: #800080; text-decoration-color: #800080\">/usr/local/lib/python3.10/</span><span style=\"color: #ff00ff; text-decoration-color: #ff00ff\">site-packages</span><span style=\"color: #000000; text-decoration-color: #000000\"> </span><span style=\"color: #000000; text-decoration-color: #000000; font-weight: bold\">(</span><span style=\"color: #000000; text-decoration-color: #000000\">from </span>\n",
       "<span style=\"color: #000000; text-decoration-color: #000000\">rich&gt;=</span><span style=\"color: #008080; text-decoration-color: #008080; font-weight: bold\">13.9</span><span style=\"color: #000000; text-decoration-color: #000000\">.</span><span style=\"color: #008080; text-decoration-color: #008080; font-weight: bold\">4</span><span style=\"color: #000000; text-decoration-color: #000000\">-&gt;smolagents</span><span style=\"color: #000000; text-decoration-color: #000000; font-weight: bold\">)</span><span style=\"color: #000000; text-decoration-color: #000000\"> </span><span style=\"color: #000000; text-decoration-color: #000000; font-weight: bold\">(</span><span style=\"color: #008080; text-decoration-color: #008080; font-weight: bold\">2.19</span><span style=\"color: #000000; text-decoration-color: #000000\">.</span><span style=\"color: #008080; text-decoration-color: #008080; font-weight: bold\">1</span><span style=\"color: #000000; text-decoration-color: #000000; font-weight: bold\">)</span>\n",
       "\n",
       "<span style=\"color: #000000; text-decoration-color: #000000\">Collecting markdown-it-py&gt;=</span><span style=\"color: #008080; text-decoration-color: #008080; font-weight: bold\">2.2</span><span style=\"color: #000000; text-decoration-color: #000000\">.</span><span style=\"color: #008080; text-decoration-color: #008080; font-weight: bold\">0</span>\n",
       "<span style=\"color: #000000; text-decoration-color: #000000\">  Downloading markdown_it_py-</span><span style=\"color: #008080; text-decoration-color: #008080; font-weight: bold\">3.0</span><span style=\"color: #000000; text-decoration-color: #000000\">.</span><span style=\"color: #008080; text-decoration-color: #008080; font-weight: bold\">0</span><span style=\"color: #000000; text-decoration-color: #000000\">-py3-none-any.whl </span><span style=\"color: #000000; text-decoration-color: #000000; font-weight: bold\">(</span><span style=\"color: #008080; text-decoration-color: #008080; font-weight: bold\">87</span><span style=\"color: #000000; text-decoration-color: #000000\"> kB</span><span style=\"color: #000000; text-decoration-color: #000000; font-weight: bold\">)</span>\n",
       "<span style=\"color: #000000; text-decoration-color: #000000\">\u001b</span><span style=\"color: #000000; text-decoration-color: #000000; font-weight: bold\">[</span><span style=\"color: #000000; text-decoration-color: #000000\">?25l     \u001b</span><span style=\"color: #000000; text-decoration-color: #000000; font-weight: bold\">[</span><span style=\"color: #000000; text-decoration-color: #000000\">90m━━━━━━━━━━━━━━━━━━━━━━━━━━━━━━━━━━━━━━━━\u001b</span><span style=\"color: #000000; text-decoration-color: #000000; font-weight: bold\">[</span><span style=\"color: #000000; text-decoration-color: #000000\">0m \u001b</span><span style=\"color: #000000; text-decoration-color: #000000; font-weight: bold\">[</span><span style=\"color: #000000; text-decoration-color: #000000\">32m0.</span><span style=\"color: #008080; text-decoration-color: #008080; font-weight: bold\">0</span><span style=\"color: #000000; text-decoration-color: #000000\">/</span><span style=\"color: #008080; text-decoration-color: #008080; font-weight: bold\">87.5</span><span style=\"color: #000000; text-decoration-color: #000000\"> kB\u001b</span><span style=\"color: #000000; text-decoration-color: #000000; font-weight: bold\">[</span><span style=\"color: #000000; text-decoration-color: #000000\">0m \u001b</span><span style=\"color: #000000; text-decoration-color: #000000; font-weight: bold\">[</span><span style=\"color: #000000; text-decoration-color: #000000\">31m?\u001b</span><span style=\"color: #000000; text-decoration-color: #000000; font-weight: bold\">[</span><span style=\"color: #000000; text-decoration-color: #000000\">0m eta \u001b</span><span style=\"color: #000000; text-decoration-color: #000000; font-weight: bold\">[</span><span style=\"color: #000000; text-decoration-color: #000000\">36m-:--:--\u001b</span><span style=\"color: #000000; text-decoration-color: #000000; font-weight: bold\">[</span><span style=\"color: #000000; text-decoration-color: #000000\">0m\u001b</span><span style=\"color: #000000; text-decoration-color: #000000; font-weight: bold\">[</span><span style=\"color: #000000; text-decoration-color: #000000\">2K</span>\n",
       "<span style=\"color: #000000; text-decoration-color: #000000\">\u001b</span><span style=\"color: #000000; text-decoration-color: #000000; font-weight: bold\">[</span><span style=\"color: #000000; text-decoration-color: #000000\">90m━━━━━━━━━━━━━━━━━━━━━━━━━━━━━━━━━━━━━━━━\u001b</span><span style=\"color: #000000; text-decoration-color: #000000; font-weight: bold\">[</span><span style=\"color: #000000; text-decoration-color: #000000\">0m \u001b</span><span style=\"color: #000000; text-decoration-color: #000000; font-weight: bold\">[</span><span style=\"color: #000000; text-decoration-color: #000000\">32m87.</span><span style=\"color: #008080; text-decoration-color: #008080; font-weight: bold\">5</span><span style=\"color: #000000; text-decoration-color: #000000\">/</span><span style=\"color: #008080; text-decoration-color: #008080; font-weight: bold\">87.5</span><span style=\"color: #000000; text-decoration-color: #000000\"> kB\u001b</span><span style=\"color: #000000; text-decoration-color: #000000; font-weight: bold\">[</span><span style=\"color: #000000; text-decoration-color: #000000\">0m \u001b</span><span style=\"color: #000000; text-decoration-color: #000000; font-weight: bold\">[</span><span style=\"color: #000000; text-decoration-color: #000000\">31m18.</span><span style=\"color: #008080; text-decoration-color: #008080; font-weight: bold\">2</span><span style=\"color: #000000; text-decoration-color: #000000\"> MB/s\u001b</span><span style=\"color: #000000; text-decoration-color: #000000; font-weight: bold\">[</span><span style=\"color: #000000; text-decoration-color: #000000\">0m eta \u001b</span><span style=\"color: #000000; text-decoration-color: #000000; font-weight: bold\">[</span><span style=\"color: #000000; text-decoration-color: #000000\">36m</span><span style=\"color: #00ff00; text-decoration-color: #00ff00; font-weight: bold\">0:00:00</span><span style=\"color: #000000; text-decoration-color: #000000\">\u001b</span><span style=\"color: #000000; text-decoration-color: #000000; font-weight: bold\">[</span><span style=\"color: #000000; text-decoration-color: #000000\">0m</span>\n",
       "<span style=\"color: #000000; text-decoration-color: #000000\">\u001b</span><span style=\"color: #000000; text-decoration-color: #000000; font-weight: bold\">[</span><span style=\"color: #000000; text-decoration-color: #000000\">?25hRequirement already satisfied: soupsieve&gt;</span><span style=\"color: #008080; text-decoration-color: #008080; font-weight: bold\">1.2</span><span style=\"color: #000000; text-decoration-color: #000000\"> in </span><span style=\"color: #800080; text-decoration-color: #800080\">/usr/local/lib/python3.10/</span><span style=\"color: #ff00ff; text-decoration-color: #ff00ff\">site-packages</span><span style=\"color: #000000; text-decoration-color: #000000\"> </span><span style=\"color: #000000; text-decoration-color: #000000; font-weight: bold\">(</span><span style=\"color: #000000; text-decoration-color: #000000\">from </span>\n",
       "<span style=\"color: #000000; text-decoration-color: #000000\">beautifulsoup4&lt;</span><span style=\"color: #008080; text-decoration-color: #008080; font-weight: bold\">5</span><span style=\"color: #000000; text-decoration-color: #000000\">,&gt;=</span><span style=\"color: #008080; text-decoration-color: #008080; font-weight: bold\">4.9</span><span style=\"color: #000000; text-decoration-color: #000000\">-&gt;markdownify&gt;=</span><span style=\"color: #008080; text-decoration-color: #008080; font-weight: bold\">0.14</span><span style=\"color: #000000; text-decoration-color: #000000\">.</span><span style=\"color: #008080; text-decoration-color: #008080; font-weight: bold\">1</span><span style=\"color: #000000; text-decoration-color: #000000\">-&gt;smolagents</span><span style=\"color: #000000; text-decoration-color: #000000; font-weight: bold\">)</span><span style=\"color: #000000; text-decoration-color: #000000\"> </span><span style=\"color: #000000; text-decoration-color: #000000; font-weight: bold\">(</span><span style=\"color: #008080; text-decoration-color: #008080; font-weight: bold\">2.6</span><span style=\"color: #000000; text-decoration-color: #000000; font-weight: bold\">)</span>\n",
       "\n",
       "<span style=\"color: #000000; text-decoration-color: #000000\">Collecting mdurl~=</span><span style=\"color: #008080; text-decoration-color: #008080; font-weight: bold\">0.1</span>\n",
       "\n",
       "<span style=\"color: #000000; text-decoration-color: #000000\">  Downloading mdurl-</span><span style=\"color: #008080; text-decoration-color: #008080; font-weight: bold\">0.1</span><span style=\"color: #000000; text-decoration-color: #000000\">.</span><span style=\"color: #008080; text-decoration-color: #008080; font-weight: bold\">2</span><span style=\"color: #000000; text-decoration-color: #000000\">-py3-none-any.whl </span><span style=\"color: #000000; text-decoration-color: #000000; font-weight: bold\">(</span><span style=\"color: #008080; text-decoration-color: #008080; font-weight: bold\">10.0</span><span style=\"color: #000000; text-decoration-color: #000000\"> kB</span><span style=\"color: #000000; text-decoration-color: #000000; font-weight: bold\">)</span>\n",
       "\n",
       "<span style=\"color: #000000; text-decoration-color: #000000\">Installing collected packages: requests, python-dotenv, primp, pillow, mdurl, fsspec, filelock, markdownify, </span>\n",
       "<span style=\"color: #000000; text-decoration-color: #000000\">markdown-it-py, huggingface-hub, duckduckgo-search, rich, smolagents</span>\n",
       "<span style=\"color: #000000; text-decoration-color: #000000\">  Attempting uninstall: requests</span>\n",
       "<span style=\"color: #000000; text-decoration-color: #000000\">    Found existing installation: requests </span><span style=\"color: #008080; text-decoration-color: #008080; font-weight: bold\">2.32</span><span style=\"color: #000000; text-decoration-color: #000000\">.</span><span style=\"color: #008080; text-decoration-color: #008080; font-weight: bold\">2</span>\n",
       "<span style=\"color: #000000; text-decoration-color: #000000\">    Uninstalling requests-</span><span style=\"color: #008080; text-decoration-color: #008080; font-weight: bold\">2.32</span><span style=\"color: #000000; text-decoration-color: #000000\">.</span><span style=\"color: #008080; text-decoration-color: #008080; font-weight: bold\">2</span><span style=\"color: #000000; text-decoration-color: #000000\">:</span>\n",
       "<span style=\"color: #000000; text-decoration-color: #000000\">      Successfully uninstalled requests-</span><span style=\"color: #008080; text-decoration-color: #008080; font-weight: bold\">2.32</span><span style=\"color: #000000; text-decoration-color: #000000\">.</span><span style=\"color: #008080; text-decoration-color: #008080; font-weight: bold\">2</span>\n",
       "\n",
       "<span style=\"color: #000000; text-decoration-color: #000000\">  Attempting uninstall: pillow</span>\n",
       "<span style=\"color: #000000; text-decoration-color: #000000\">    Found existing installation: pillow </span><span style=\"color: #008080; text-decoration-color: #008080; font-weight: bold\">10.3</span><span style=\"color: #000000; text-decoration-color: #000000\">.</span><span style=\"color: #008080; text-decoration-color: #008080; font-weight: bold\">0</span>\n",
       "\n",
       "<span style=\"color: #000000; text-decoration-color: #000000\">    Uninstalling pillow-</span><span style=\"color: #008080; text-decoration-color: #008080; font-weight: bold\">10.3</span><span style=\"color: #000000; text-decoration-color: #000000\">.</span><span style=\"color: #008080; text-decoration-color: #008080; font-weight: bold\">0</span><span style=\"color: #000000; text-decoration-color: #000000\">:</span>\n",
       "<span style=\"color: #000000; text-decoration-color: #000000\">      Successfully uninstalled pillow-</span><span style=\"color: #008080; text-decoration-color: #008080; font-weight: bold\">10.3</span><span style=\"color: #000000; text-decoration-color: #000000\">.</span><span style=\"color: #008080; text-decoration-color: #008080; font-weight: bold\">0</span>\n",
       "\n",
       "<span style=\"color: #000000; text-decoration-color: #000000\">Successfully installed duckduckgo-search-</span><span style=\"color: #008080; text-decoration-color: #008080; font-weight: bold\">8.0</span><span style=\"color: #000000; text-decoration-color: #000000\">.</span><span style=\"color: #008080; text-decoration-color: #008080; font-weight: bold\">1</span><span style=\"color: #000000; text-decoration-color: #000000\"> filelock-</span><span style=\"color: #008080; text-decoration-color: #008080; font-weight: bold\">3.18</span><span style=\"color: #000000; text-decoration-color: #000000\">.</span><span style=\"color: #008080; text-decoration-color: #008080; font-weight: bold\">0</span><span style=\"color: #000000; text-decoration-color: #000000\"> fsspec-</span><span style=\"color: #008080; text-decoration-color: #008080; font-weight: bold\">2025.3</span><span style=\"color: #000000; text-decoration-color: #000000\">.</span><span style=\"color: #008080; text-decoration-color: #008080; font-weight: bold\">2</span><span style=\"color: #000000; text-decoration-color: #000000\"> huggingface-hub-</span><span style=\"color: #008080; text-decoration-color: #008080; font-weight: bold\">0.30</span><span style=\"color: #000000; text-decoration-color: #000000\">.</span><span style=\"color: #008080; text-decoration-color: #008080; font-weight: bold\">2</span><span style=\"color: #000000; text-decoration-color: #000000\"> </span>\n",
       "<span style=\"color: #000000; text-decoration-color: #000000\">markdown-it-py-</span><span style=\"color: #008080; text-decoration-color: #008080; font-weight: bold\">3.0</span><span style=\"color: #000000; text-decoration-color: #000000\">.</span><span style=\"color: #008080; text-decoration-color: #008080; font-weight: bold\">0</span><span style=\"color: #000000; text-decoration-color: #000000\"> markdownify-</span><span style=\"color: #008080; text-decoration-color: #008080; font-weight: bold\">1.1</span><span style=\"color: #000000; text-decoration-color: #000000\">.</span><span style=\"color: #008080; text-decoration-color: #008080; font-weight: bold\">0</span><span style=\"color: #000000; text-decoration-color: #000000\"> mdurl-</span><span style=\"color: #008080; text-decoration-color: #008080; font-weight: bold\">0.1</span><span style=\"color: #000000; text-decoration-color: #000000\">.</span><span style=\"color: #008080; text-decoration-color: #008080; font-weight: bold\">2</span><span style=\"color: #000000; text-decoration-color: #000000\"> pillow-</span><span style=\"color: #008080; text-decoration-color: #008080; font-weight: bold\">11.2</span><span style=\"color: #000000; text-decoration-color: #000000\">.</span><span style=\"color: #008080; text-decoration-color: #008080; font-weight: bold\">1</span><span style=\"color: #000000; text-decoration-color: #000000\"> primp-</span><span style=\"color: #008080; text-decoration-color: #008080; font-weight: bold\">0.15</span><span style=\"color: #000000; text-decoration-color: #000000\">.</span><span style=\"color: #008080; text-decoration-color: #008080; font-weight: bold\">0</span><span style=\"color: #000000; text-decoration-color: #000000\"> python-dotenv-</span><span style=\"color: #008080; text-decoration-color: #008080; font-weight: bold\">1.1</span><span style=\"color: #000000; text-decoration-color: #000000\">.</span><span style=\"color: #008080; text-decoration-color: #008080; font-weight: bold\">0</span><span style=\"color: #000000; text-decoration-color: #000000\"> requests-</span><span style=\"color: #008080; text-decoration-color: #008080; font-weight: bold\">2.32</span><span style=\"color: #000000; text-decoration-color: #000000\">.</span><span style=\"color: #008080; text-decoration-color: #008080; font-weight: bold\">3</span><span style=\"color: #000000; text-decoration-color: #000000\"> </span>\n",
       "<span style=\"color: #000000; text-decoration-color: #000000\">rich-</span><span style=\"color: #008080; text-decoration-color: #008080; font-weight: bold\">14.0</span><span style=\"color: #000000; text-decoration-color: #000000\">.</span><span style=\"color: #008080; text-decoration-color: #008080; font-weight: bold\">0</span><span style=\"color: #000000; text-decoration-color: #000000\"> smolagents-</span><span style=\"color: #008080; text-decoration-color: #008080; font-weight: bold\">1.14</span><span style=\"color: #000000; text-decoration-color: #000000\">.</span><span style=\"color: #008080; text-decoration-color: #008080; font-weight: bold\">0</span>\n",
       "<span style=\"color: #000000; text-decoration-color: #000000\">\u001b</span><span style=\"color: #000000; text-decoration-color: #000000; font-weight: bold\">[</span><span style=\"color: #000000; text-decoration-color: #000000\">33mWARNING: Running pip as the </span><span style=\"color: #008000; text-decoration-color: #008000\">'root'</span><span style=\"color: #000000; text-decoration-color: #000000\"> user can result in broken permissions and conflicting behaviour with the </span>\n",
       "<span style=\"color: #000000; text-decoration-color: #000000\">system package manager. It is recommended to use a virtual environment instead: </span>\n",
       "<span style=\"color: #0000ff; text-decoration-color: #0000ff; text-decoration: underline\">https://pip.pypa.io/warnings/venv</span><span style=\"color: #000000; text-decoration-color: #000000\">\u001b</span><span style=\"color: #000000; text-decoration-color: #000000; font-weight: bold\">[</span><span style=\"color: #000000; text-decoration-color: #000000\">0m\u001b</span><span style=\"color: #000000; text-decoration-color: #000000; font-weight: bold\">[</span><span style=\"color: #000000; text-decoration-color: #000000\">33m</span>\n",
       "<span style=\"color: #000000; text-decoration-color: #000000\">\u001b</span><span style=\"color: #000000; text-decoration-color: #000000; font-weight: bold\">[</span><span style=\"color: #000000; text-decoration-color: #000000\">0m</span>\n",
       "\n",
       "<span style=\"color: #000000; text-decoration-color: #000000\">\u001b</span><span style=\"color: #000000; text-decoration-color: #000000; font-weight: bold\">[</span><span style=\"color: #000000; text-decoration-color: #000000\">1m</span><span style=\"color: #000000; text-decoration-color: #000000; font-weight: bold\">[</span><span style=\"color: #000000; text-decoration-color: #000000\">\u001b</span><span style=\"color: #000000; text-decoration-color: #000000; font-weight: bold\">[</span><span style=\"color: #000000; text-decoration-color: #000000\">0m\u001b</span><span style=\"color: #000000; text-decoration-color: #000000; font-weight: bold\">[</span><span style=\"color: #008080; text-decoration-color: #008080; font-weight: bold\">34</span><span style=\"color: #000000; text-decoration-color: #000000\">;49mnotice\u001b</span><span style=\"color: #000000; text-decoration-color: #000000; font-weight: bold\">[</span><span style=\"color: #000000; text-decoration-color: #000000\">0m\u001b</span><span style=\"color: #000000; text-decoration-color: #000000; font-weight: bold\">[</span><span style=\"color: #008080; text-decoration-color: #008080; font-weight: bold\">1</span><span style=\"color: #000000; text-decoration-color: #000000\">;</span><span style=\"color: #008080; text-decoration-color: #008080; font-weight: bold\">39</span><span style=\"color: #000000; text-decoration-color: #000000\">;49m</span><span style=\"color: #000000; text-decoration-color: #000000; font-weight: bold\">]</span><span style=\"color: #000000; text-decoration-color: #000000\">\u001b</span><span style=\"color: #000000; text-decoration-color: #000000; font-weight: bold\">[</span><span style=\"color: #000000; text-decoration-color: #000000\">0m\u001b</span><span style=\"color: #000000; text-decoration-color: #000000; font-weight: bold\">[</span><span style=\"color: #008080; text-decoration-color: #008080; font-weight: bold\">39</span><span style=\"color: #000000; text-decoration-color: #000000\">;49m A new release of pip is available: \u001b</span><span style=\"color: #000000; text-decoration-color: #000000; font-weight: bold\">[</span><span style=\"color: #000000; text-decoration-color: #000000\">0m\u001b</span><span style=\"color: #000000; text-decoration-color: #000000; font-weight: bold\">[</span><span style=\"color: #008080; text-decoration-color: #008080; font-weight: bold\">31</span><span style=\"color: #000000; text-decoration-color: #000000\">;49m23.</span><span style=\"color: #008080; text-decoration-color: #008080; font-weight: bold\">0.1</span><span style=\"color: #000000; text-decoration-color: #000000\">\u001b</span><span style=\"color: #000000; text-decoration-color: #000000; font-weight: bold\">[</span><span style=\"color: #000000; text-decoration-color: #000000\">0m\u001b</span><span style=\"color: #000000; text-decoration-color: #000000; font-weight: bold\">[</span><span style=\"color: #008080; text-decoration-color: #008080; font-weight: bold\">39</span><span style=\"color: #000000; text-decoration-color: #000000\">;49m -</span><span style=\"font-weight: bold\">&gt;</span>\n",
       "\u001b<span style=\"font-weight: bold\">[</span>0m\u001b<span style=\"font-weight: bold\">[</span><span style=\"color: #008080; text-decoration-color: #008080; font-weight: bold\">32</span>;49m25.<span style=\"color: #008080; text-decoration-color: #008080; font-weight: bold\">1</span>\u001b<span style=\"font-weight: bold\">[</span>0m\n",
       "\u001b<span style=\"font-weight: bold\">[</span>1m<span style=\"font-weight: bold\">[</span>\u001b<span style=\"font-weight: bold\">[</span>0m\u001b<span style=\"font-weight: bold\">[</span><span style=\"color: #008080; text-decoration-color: #008080; font-weight: bold\">34</span>;49mnotice\u001b<span style=\"font-weight: bold\">[</span>0m\u001b<span style=\"font-weight: bold\">[</span><span style=\"color: #008080; text-decoration-color: #008080; font-weight: bold\">1</span>;<span style=\"color: #008080; text-decoration-color: #008080; font-weight: bold\">39</span>;49m<span style=\"font-weight: bold\">]</span>\u001b<span style=\"font-weight: bold\">[</span>0m\u001b<span style=\"font-weight: bold\">[</span><span style=\"color: #008080; text-decoration-color: #008080; font-weight: bold\">39</span>;49m To update, run: \u001b<span style=\"font-weight: bold\">[</span>0m\u001b<span style=\"font-weight: bold\">[</span><span style=\"color: #008080; text-decoration-color: #008080; font-weight: bold\">32</span>;49mpip install --upgrade pip\u001b<span style=\"font-weight: bold\">[</span>0m\n",
       "\n",
       "</pre>\n"
      ],
      "text/plain": [
       "Collecting smolagents\n",
       "\n",
       "  Downloading smolagents-\u001b[1;36m1.14\u001b[0m.\u001b[1;36m0\u001b[0m-py3-none-any.whl \u001b[1m(\u001b[0m\u001b[1;36m114\u001b[0m kB\u001b[1m)\u001b[0m\n",
       "\u001b\u001b[1m[\u001b[0m?25l     \u001b\u001b[1m[\u001b[0m90m━━━━━━━━━━━━━━━━━━━━━━━━━━━━━━━━━━━━━━━━\u001b\u001b[1m[\u001b[0m0m \u001b\u001b[1m[\u001b[0m32m0.\u001b[1;36m0\u001b[0m/\u001b[1;36m114.5\u001b[0m kB\u001b\u001b[1m[\u001b[0m0m \u001b\u001b[1m[\u001b[0m31m?\u001b\u001b[1m[\u001b[0m0m eta \u001b\u001b[1m[\u001b[0m36m-:--:--\u001b\u001b[1m[\u001b[0m0m\u001b\u001b[1m[\u001b[0m2K\n",
       "\u001b\u001b[1m[\u001b[0m90m━━━━━━━━━━━━━━━━━━━━━━━━━━━━━━━━━━━━━━━\u001b\u001b[1m[\u001b[0m0m \u001b\u001b[1m[\u001b[0m32m114.\u001b[1;36m5\u001b[0m/\u001b[1;36m114.5\u001b[0m kB\u001b\u001b[1m[\u001b[0m0m \u001b\u001b[1m[\u001b[0m31m4.\u001b[1;36m4\u001b[0m MB/s\u001b\u001b[1m[\u001b[0m0m eta \u001b\u001b[1m[\u001b[0m36m\u001b[1;92m0:00:00\u001b[0m\u001b\u001b[1m[\u001b[0m0m\n",
       "\u001b\u001b[1m[\u001b[0m?25h\n",
       "Collecting huggingface-hub>=\u001b[1;36m0.28\u001b[0m.\u001b[1;36m0\u001b[0m\n",
       "  Downloading huggingface_hub-\u001b[1;36m0.30\u001b[0m.\u001b[1;36m2\u001b[0m-py3-none-any.whl \u001b[1m(\u001b[0m\u001b[1;36m481\u001b[0m kB\u001b[1m)\u001b[0m\n",
       "\u001b\u001b[1m[\u001b[0m?25l     \u001b\u001b[1m[\u001b[0m90m━━━━━━━━━━━━━━━━━━━━━━━━━━━━━━━━━━━━━━━━\u001b\u001b[1m[\u001b[0m0m \u001b\u001b[1m[\u001b[0m32m0.\u001b[1;36m0\u001b[0m/\u001b[1;36m481.4\u001b[0m kB\u001b\u001b[1m[\u001b[0m0m \u001b\u001b[1m[\u001b[0m31m?\u001b\u001b[1m[\u001b[0m0m eta \u001b\u001b[1m[\u001b[0m36m-:--:--\u001b\u001b[1m[\u001b[0m0m\n",
       "\u001b\u001b[1m[\u001b[0m2K     \u001b\u001b[1m[\u001b[0m91m━━━━━━━━━━━━━━━━━━━━━━━━━━━━━━━━━━━━━\u001b\u001b[1m[\u001b[0m0m\u001b\u001b[1m[\u001b[0m91m╸\u001b\u001b[1m[\u001b[0m0m \u001b\u001b[1m[\u001b[0m32m481.\u001b[1;36m3\u001b[0m/\u001b[1;36m481.4\u001b[0m kB\u001b\u001b[1m[\u001b[0m0m \u001b\u001b[1m[\u001b[0m31m16.\u001b[1;36m5\u001b[0m MB/s\u001b\u001b[1m[\u001b[0m0m eta \n",
       "\u001b\u001b[1m[\u001b[0m36m\u001b[1;92m0:00:01\u001b[0m\u001b\u001b[1m[\u001b[0m0m\u001b\u001b[1m[\u001b[0m2K     \u001b\u001b[1m[\u001b[0m90m━━━━━━━━━━━━━━━━━━━━━━━━━━━━━━━━━━━━━━\u001b\u001b[1m[\u001b[0m0m \u001b\u001b[1m[\u001b[0m32m481.\u001b[1;36m4\u001b[0m/\u001b[1;36m481.4\u001b[0m kB\u001b\u001b[1m[\u001b[0m0m \u001b\u001b[1m[\u001b[0m31m13.\u001b[1;36m2\u001b[0m MB/s\u001b\u001b[1m[\u001b[0m0m eta\n",
       "\u001b\u001b[1m[\u001b[0m36m\u001b[1;92m0:00:00\u001b[0m\u001b\u001b[1m[\u001b[0m0m\n",
       "\u001b\u001b[1m[\u001b[0m?25h\n",
       "Collecting markdownify>=\u001b[1;36m0.14\u001b[0m.\u001b[1;36m1\u001b[0m\n",
       "  Downloading markdownify-\u001b[1;36m1.1\u001b[0m.\u001b[1;36m0\u001b[0m-py3-none-any.whl \u001b[1m(\u001b[0m\u001b[1;36m13\u001b[0m kB\u001b[1m)\u001b[0m\n",
       "\n",
       "Collecting rich>=\u001b[1;36m13.9\u001b[0m.\u001b[1;36m4\u001b[0m\n",
       "  Downloading rich-\u001b[1;36m14.0\u001b[0m.\u001b[1;36m0\u001b[0m-py3-none-any.whl \u001b[1m(\u001b[0m\u001b[1;36m243\u001b[0m kB\u001b[1m)\u001b[0m\n",
       "\u001b\u001b[1m[\u001b[0m?25l     \u001b\u001b[1m[\u001b[0m90m━━━━━━━━━━━━━━━━━━━━━━━━━━━━━━━━━━━━━━━━\u001b\u001b[1m[\u001b[0m0m \u001b\u001b[1m[\u001b[0m32m0.\u001b[1;36m0\u001b[0m/\u001b[1;36m243.2\u001b[0m kB\u001b\u001b[1m[\u001b[0m0m \u001b\u001b[1m[\u001b[0m31m?\u001b\u001b[1m[\u001b[0m0m eta \u001b\u001b[1m[\u001b[0m36m-:--:--\u001b\u001b[1m[\u001b[0m0m\u001b\u001b[1m[\u001b[0m2K\n",
       "\u001b\u001b[1m[\u001b[0m90m━━━━━━━━━━━━━━━━━━━━━━━━━━━━━━━━━━━━━━\u001b\u001b[1m[\u001b[0m0m \u001b\u001b[1m[\u001b[0m32m243.\u001b[1;36m2\u001b[0m/\u001b[1;36m243.2\u001b[0m kB\u001b\u001b[1m[\u001b[0m0m \u001b\u001b[1m[\u001b[0m31m21.\u001b[1;36m6\u001b[0m MB/s\u001b\u001b[1m[\u001b[0m0m eta \u001b\u001b[1m[\u001b[0m36m\u001b[1;92m0:00:00\u001b[0m\u001b\u001b[1m[\u001b[0m0m\n",
       "\u001b\u001b[1m[\u001b[0m?25h\n",
       "Collecting pillow>=\u001b[1;36m11.0\u001b[0m.\u001b[1;36m0\u001b[0m\n",
       "\n",
       "  Downloading pillow-\u001b[1;36m11.2\u001b[0m.\u001b[1;36m1\u001b[0m-cp310-cp310-manylinux_2_28_x86_64.whl \u001b[1m(\u001b[0m\u001b[1;36m4.6\u001b[0m MB\u001b[1m)\u001b[0m\n",
       "\u001b\u001b[1m[\u001b[0m?25l     \u001b\u001b[1m[\u001b[0m90m━━━━━━━━━━━━━━━━━━━━━━━━━━━━━━━━━━━━━━━━\u001b\u001b[1m[\u001b[0m0m \u001b\u001b[1m[\u001b[0m32m0.\u001b[1;36m0\u001b[0m/\u001b[1;36m4.6\u001b[0m MB\u001b\u001b[1m[\u001b[0m0m \u001b\u001b[1m[\u001b[0m31m?\u001b\u001b[1m[\u001b[0m0m eta \u001b\u001b[1m[\u001b[0m36m-:--:--\u001b\u001b[1m[\u001b[0m0m\u001b\u001b[1m[\u001b[0m2K\n",
       "\u001b\u001b[1m[\u001b[0m91m━━━━━━━\u001b\u001b[1m[\u001b[0m0m\u001b\u001b[1m[\u001b[0m90m╺\u001b\u001b[1m[\u001b[0m0m\u001b\u001b[1m[\u001b[0m90m━━━━━━━━━━━━━━━━━━━━━━━━━━━━━━━━\u001b\u001b[1m[\u001b[0m0m \u001b\u001b[1m[\u001b[0m32m0.\u001b[1;36m8\u001b[0m/\u001b[1;36m4.6\u001b[0m MB\u001b\u001b[1m[\u001b[0m0m \u001b\u001b[1m[\u001b[0m31m24.\u001b[1;36m3\u001b[0m MB/s\u001b\u001b[1m[\u001b[0m0m eta \u001b\u001b[1m[\u001b[0m36m\u001b[1;92m0:00:01\u001b[0m\u001b\u001b[1m[\u001b[0m0m\n",
       "\u001b\u001b[1m[\u001b[0m2K     \u001b\u001b[1m[\u001b[0m91m━━━━━━━━━━━━━━━\u001b\u001b[1m[\u001b[0m0m\u001b\u001b[1m[\u001b[0m90m╺\u001b\u001b[1m[\u001b[0m0m\u001b\u001b[1m[\u001b[0m90m━━━━━━━━━━━━━━━━━━━━━━━━\u001b\u001b[1m[\u001b[0m0m \u001b\u001b[1m[\u001b[0m32m1.\u001b[1;36m7\u001b[0m/\u001b[1;36m4.6\u001b[0m MB\u001b\u001b[1m[\u001b[0m0m \u001b\u001b[1m[\u001b[0m31m24.\u001b[1;36m9\u001b[0m MB/s\u001b\u001b[1m[\u001b[0m0m eta\n",
       "\u001b\u001b[1m[\u001b[0m36m\u001b[1;92m0:00:01\u001b[0m\u001b\u001b[1m[\u001b[0m0m\n",
       "\u001b\u001b[1m[\u001b[0m2K     \u001b\u001b[1m[\u001b[0m91m━━━━━━━━━━━━━━━━━━━━━━━━━\u001b\u001b[1m[\u001b[0m0m\u001b\u001b[1m[\u001b[0m90m╺\u001b\u001b[1m[\u001b[0m0m\u001b\u001b[1m[\u001b[0m90m━━━━━━━━━━━━━━\u001b\u001b[1m[\u001b[0m0m \u001b\u001b[1m[\u001b[0m32m2.\u001b[1;36m9\u001b[0m/\u001b[1;36m4.6\u001b[0m MB\u001b\u001b[1m[\u001b[0m0m \u001b\u001b[1m[\u001b[0m31m27.\u001b[1;36m4\u001b[0m MB/s\u001b\u001b[1m[\u001b[0m0m eta\n",
       "\u001b\u001b[1m[\u001b[0m36m\u001b[1;92m0:00:01\u001b[0m\u001b\u001b[1m[\u001b[0m0m\u001b\u001b[1m[\u001b[0m2K     \u001b\u001b[1m[\u001b[0m91m━━━━━━━━━━━━━━━━━━━━━━━━━━━━━━━━━━━━━\u001b\u001b[1m[\u001b[0m0m\u001b\u001b[1m[\u001b[0m90m╺\u001b\u001b[1m[\u001b[0m0m\u001b\u001b[1m[\u001b[0m90m━━\u001b\u001b[1m[\u001b[0m0m \u001b\u001b[1m[\u001b[0m32m4.\u001b[1;36m3\u001b[0m/\u001b[1;36m4.6\u001b[0m MB\u001b\u001b[1m[\u001b[0m0m \u001b\u001b[1m[\u001b[0m31m30.\u001b[1;36m3\u001b[0m\n",
       "MB/s\u001b\u001b[1m[\u001b[0m0m eta \u001b\u001b[1m[\u001b[0m36m\u001b[1;92m0:00:01\u001b[0m\u001b\u001b[1m[\u001b[0m0m\n",
       "\u001b\u001b[1m[\u001b[0m2K     \u001b\u001b[1m[\u001b[0m91m━━━━━━━━━━━━━━━━━━━━━━━━━━━━━━━━━━━━━━━\u001b\u001b[1m[\u001b[0m0m\u001b\u001b[1m[\u001b[0m91m╸\u001b\u001b[1m[\u001b[0m0m \u001b\u001b[1m[\u001b[0m32m4.\u001b[1;36m6\u001b[0m/\u001b[1;36m4.6\u001b[0m MB\u001b\u001b[1m[\u001b[0m0m \u001b\u001b[1m[\u001b[0m31m31.\u001b[1;36m0\u001b[0m MB/s\u001b\u001b[1m[\u001b[0m0m eta \n",
       "\u001b\u001b[1m[\u001b[0m36m\u001b[1;92m0:00:01\u001b[0m\u001b\u001b[1m[\u001b[0m0m\u001b\u001b[1m[\u001b[0m2K     \u001b\u001b[1m[\u001b[0m90m━━━━━━━━━━━━━━━━━━━━━━━━━━━━━━━━━━━━━━━━\u001b\u001b[1m[\u001b[0m0m \u001b\u001b[1m[\u001b[0m32m4.\u001b[1;36m6\u001b[0m/\u001b[1;36m4.6\u001b[0m MB\u001b\u001b[1m[\u001b[0m0m \u001b\u001b[1m[\u001b[0m31m25.\u001b[1;36m3\u001b[0m MB/s\u001b\u001b[1m[\u001b[0m0m eta\n",
       "\u001b\u001b[1m[\u001b[0m36m\u001b[1;92m0:00:00\u001b[0m\u001b\u001b[1m[\u001b[0m0m\n",
       "\u001b\u001b[1m[\u001b[0m?25h\n",
       "Collecting duckduckgo-search>=\u001b[1;36m6.3\u001b[0m.\u001b[1;36m7\u001b[0m\n",
       "  Downloading duckduckgo_search-\u001b[1;36m8.0\u001b[0m.\u001b[1;36m1\u001b[0m-py3-none-any.whl \u001b[1m(\u001b[0m\u001b[1;36m18\u001b[0m kB\u001b[1m)\u001b[0m\n",
       "\n",
       "Collecting requests>=\u001b[1;36m2.32\u001b[0m.\u001b[1;36m3\u001b[0m\n",
       "\n",
       "  Downloading requests-\u001b[1;36m2.32\u001b[0m.\u001b[1;36m3\u001b[0m-py3-none-any.whl \u001b[1m(\u001b[0m\u001b[1;36m64\u001b[0m kB\u001b[1m)\u001b[0m\n",
       "\u001b\u001b[1m[\u001b[0m?25l     \u001b\u001b[1m[\u001b[0m90m━━━━━━━━━━━━━━━━━━━━━━━━━━━━━━━━━━━━━━━━\u001b\u001b[1m[\u001b[0m0m \u001b\u001b[1m[\u001b[0m32m0.\u001b[1;36m0\u001b[0m/\u001b[1;36m64.9\u001b[0m kB\u001b\u001b[1m[\u001b[0m0m \u001b\u001b[1m[\u001b[0m31m?\u001b\u001b[1m[\u001b[0m0m eta \u001b\u001b[1m[\u001b[0m36m-:--:--\u001b\u001b[1m[\u001b[0m0m\u001b\u001b[1m[\u001b[0m2K\n",
       "\u001b\u001b[1m[\u001b[0m90m━━━━━━━━━━━━━━━━━━━━━━━━━━━━━━━━━━━━━━━━\u001b\u001b[1m[\u001b[0m0m \u001b\u001b[1m[\u001b[0m32m64.\u001b[1;36m9\u001b[0m/\u001b[1;36m64.9\u001b[0m kB\u001b\u001b[1m[\u001b[0m0m \u001b\u001b[1m[\u001b[0m31m12.\u001b[1;36m2\u001b[0m MB/s\u001b\u001b[1m[\u001b[0m0m eta \u001b\u001b[1m[\u001b[0m36m\u001b[1;92m0:00:00\u001b[0m\u001b\u001b[1m[\u001b[0m0m\n",
       "\u001b\u001b[1m[\u001b[0m?25h\n",
       "Collecting python-dotenv\n",
       "  Downloading python_dotenv-\u001b[1;36m1.1\u001b[0m.\u001b[1;36m0\u001b[0m-py3-none-any.whl \u001b[1m(\u001b[0m\u001b[1;36m20\u001b[0m kB\u001b[1m)\u001b[0m\n",
       "Requirement already satisfied: jinja2>=\u001b[1;36m3.1\u001b[0m.\u001b[1;36m4\u001b[0m in \u001b[35m/usr/local/lib/python3.10/\u001b[0m\u001b[95msite-packages\u001b[0m \u001b[1m(\u001b[0mfrom smolagents\u001b[1m)\u001b[0m \u001b[1m(\u001b[0m\u001b[1;36m3.1\u001b[0m.\u001b[1;36m6\u001b[0m\u001b[1m)\u001b[0m\n",
       "\n",
       "Collecting primp>=\u001b[1;36m0.15\u001b[0m.\u001b[1;36m0\u001b[0m\n",
       "\n",
       "  Downloading primp-\u001b[1;36m0.15\u001b[0m.\u001b[1;36m0\u001b[0m-cp38-abi3-manylinux_2_17_x86_64.manylinux2014_x86_64.whl \u001b[1m(\u001b[0m\u001b[1;36m3.3\u001b[0m MB\u001b[1m)\u001b[0m\n",
       "\u001b\u001b[1m[\u001b[0m?25l     \u001b\u001b[1m[\u001b[0m90m━━━━━━━━━━━━━━━━━━━━━━━━━━━━━━━━━━━━━━━━\u001b\u001b[1m[\u001b[0m0m \u001b\u001b[1m[\u001b[0m32m0.\u001b[1;36m0\u001b[0m/\u001b[1;36m3.3\u001b[0m MB\u001b\u001b[1m[\u001b[0m0m \u001b\u001b[1m[\u001b[0m31m?\u001b\u001b[1m[\u001b[0m0m eta \u001b\u001b[1m[\u001b[0m36m-:--:--\u001b\u001b[1m[\u001b[0m0m\u001b\u001b[1m[\u001b[0m2K\n",
       "\u001b\u001b[1m[\u001b[0m91m━━━━━━━━━━━━━━━━━━━━━━━\u001b\u001b[1m[\u001b[0m0m\u001b\u001b[1m[\u001b[0m90m╺\u001b\u001b[1m[\u001b[0m0m\u001b\u001b[1m[\u001b[0m90m━━━━━━━━━━━━━━━━\u001b\u001b[1m[\u001b[0m0m \u001b\u001b[1m[\u001b[0m32m1.\u001b[1;36m9\u001b[0m/\u001b[1;36m3.3\u001b[0m MB\u001b\u001b[1m[\u001b[0m0m \u001b\u001b[1m[\u001b[0m31m57.\u001b[1;36m3\u001b[0m MB/s\u001b\u001b[1m[\u001b[0m0m eta \u001b\u001b[1m[\u001b[0m36m\u001b[1;92m0:00:01\u001b[0m\u001b\u001b[1m[\u001b[0m0m\n",
       "\u001b\u001b[1m[\u001b[0m2K     \u001b\u001b[1m[\u001b[0m91m━━━━━━━━━━━━━━━━━━━━━━━━━━━━━━━━━━━━━━━\u001b\u001b[1m[\u001b[0m0m\u001b\u001b[1m[\u001b[0m91m╸\u001b\u001b[1m[\u001b[0m0m \u001b\u001b[1m[\u001b[0m32m3.\u001b[1;36m3\u001b[0m/\u001b[1;36m3.3\u001b[0m MB\u001b\u001b[1m[\u001b[0m0m \u001b\u001b[1m[\u001b[0m31m59.\u001b[1;36m7\u001b[0m MB/s\u001b\u001b[1m[\u001b[0m0m eta \n",
       "\u001b\u001b[1m[\u001b[0m36m\u001b[1;92m0:00:01\u001b[0m\u001b\u001b[1m[\u001b[0m0m\u001b\u001b[1m[\u001b[0m2K     \u001b\u001b[1m[\u001b[0m90m━━━━━━━━━━━━━━━━━━━━━━━━━━━━━━━━━━━━━━━━\u001b\u001b[1m[\u001b[0m0m \u001b\u001b[1m[\u001b[0m32m3.\u001b[1;36m3\u001b[0m/\u001b[1;36m3.3\u001b[0m MB\u001b\u001b[1m[\u001b[0m0m \u001b\u001b[1m[\u001b[0m31m42.\u001b[1;36m1\u001b[0m MB/s\u001b\u001b[1m[\u001b[0m0m eta\n",
       "\u001b\u001b[1m[\u001b[0m36m\u001b[1;92m0:00:00\u001b[0m\u001b\u001b[1m[\u001b[0m0m\n",
       "\u001b\u001b[1m[\u001b[0m?25hRequirement already satisfied: click>=\u001b[1;36m8.1\u001b[0m.\u001b[1;36m8\u001b[0m in \u001b[35m/usr/local/lib/python3.10/\u001b[0m\u001b[95msite-packages\u001b[0m \u001b[1m(\u001b[0mfrom \n",
       "duckduckgo-search>=\u001b[1;36m6.3\u001b[0m.\u001b[1;36m7\u001b[0m->smolagents\u001b[1m)\u001b[0m \u001b[1m(\u001b[0m\u001b[1;36m8.1\u001b[0m.\u001b[1;36m8\u001b[0m\u001b[1m)\u001b[0m\n",
       "Requirement already satisfied: lxml>=\u001b[1;36m5.3\u001b[0m.\u001b[1;36m0\u001b[0m in \u001b[35m/usr/local/lib/python3.10/\u001b[0m\u001b[95msite-packages\u001b[0m \u001b[1m(\u001b[0mfrom \n",
       "duckduckgo-search>=\u001b[1;36m6.3\u001b[0m.\u001b[1;36m7\u001b[0m->smolagents\u001b[1m)\u001b[0m \u001b[1m(\u001b[0m\u001b[1;36m5.3\u001b[0m.\u001b[1;36m1\u001b[0m\u001b[1m)\u001b[0m\n",
       "\n",
       "Requirement already satisfied: typing-extensions>=\u001b[1;92m3.7.4.3\u001b[0m in \u001b[35m/usr/local/lib/python3.10/\u001b[0m\u001b[95msite-packages\u001b[0m \u001b[1m(\u001b[0mfrom \n",
       "huggingface-hub>=\u001b[1;36m0.28\u001b[0m.\u001b[1;36m0\u001b[0m->smolagents\u001b[1m)\u001b[0m \u001b[1m(\u001b[0m\u001b[1;36m4.12\u001b[0m.\u001b[1;36m2\u001b[0m\u001b[1m)\u001b[0m\n",
       "\n",
       "Collecting fsspec>=\u001b[1;36m2023.5\u001b[0m.\u001b[1;36m0\u001b[0m\n",
       "  Downloading fsspec-\u001b[1;36m2025.3\u001b[0m.\u001b[1;36m2\u001b[0m-py3-none-any.whl \u001b[1m(\u001b[0m\u001b[1;36m194\u001b[0m kB\u001b[1m)\u001b[0m\n",
       "\u001b\u001b[1m[\u001b[0m?25l     \u001b\u001b[1m[\u001b[0m90m━━━━━━━━━━━━━━━━━━━━━━━━━━━━━━━━━━━━━━━━\u001b\u001b[1m[\u001b[0m0m \u001b\u001b[1m[\u001b[0m32m0.\u001b[1;36m0\u001b[0m/\u001b[1;36m194.4\u001b[0m kB\u001b\u001b[1m[\u001b[0m0m \u001b\u001b[1m[\u001b[0m31m?\u001b\u001b[1m[\u001b[0m0m eta \u001b\u001b[1m[\u001b[0m36m-:--:--\u001b\u001b[1m[\u001b[0m0m\u001b\u001b[1m[\u001b[0m2K\n",
       "\u001b\u001b[1m[\u001b[0m90m━━━━━━━━━━━━━━━━━━━━━━━━━━━━━━━━━━━━━━\u001b\u001b[1m[\u001b[0m0m \u001b\u001b[1m[\u001b[0m32m194.\u001b[1;36m4\u001b[0m/\u001b[1;36m194.4\u001b[0m kB\u001b\u001b[1m[\u001b[0m0m \u001b\u001b[1m[\u001b[0m31m34.\u001b[1;36m9\u001b[0m MB/s\u001b\u001b[1m[\u001b[0m0m eta \u001b\u001b[1m[\u001b[0m36m\u001b[1;92m0:00:00\u001b[0m\u001b\u001b[1m[\u001b[0m0m\n",
       "\u001b\u001b[1m[\u001b[0m?25hRequirement already satisfied: tqdm>=\u001b[1;36m4.42\u001b[0m.\u001b[1;36m1\u001b[0m in \u001b[35m/usr/local/lib/python3.10/\u001b[0m\u001b[95msite-packages\u001b[0m \u001b[1m(\u001b[0mfrom \n",
       "huggingface-hub>=\u001b[1;36m0.28\u001b[0m.\u001b[1;36m0\u001b[0m->smolagents\u001b[1m)\u001b[0m \u001b[1m(\u001b[0m\u001b[1;36m4.67\u001b[0m.\u001b[1;36m1\u001b[0m\u001b[1m)\u001b[0m\n",
       "\n",
       "Collecting filelock\n",
       "  Downloading filelock-\u001b[1;36m3.18\u001b[0m.\u001b[1;36m0\u001b[0m-py3-none-any.whl \u001b[1m(\u001b[0m\u001b[1;36m16\u001b[0m kB\u001b[1m)\u001b[0m\n",
       "\n",
       "Requirement already satisfied: packaging>=\u001b[1;36m20.9\u001b[0m in \u001b[35m/usr/local/lib/python3.10/\u001b[0m\u001b[95msite-packages\u001b[0m \u001b[1m(\u001b[0mfrom \n",
       "huggingface-hub>=\u001b[1;36m0.28\u001b[0m.\u001b[1;36m0\u001b[0m->smolagents\u001b[1m)\u001b[0m \u001b[1m(\u001b[0m\u001b[1;36m24.2\u001b[0m\u001b[1m)\u001b[0m\n",
       "Requirement already satisfied: pyyaml>=\u001b[1;36m5.1\u001b[0m in \u001b[35m/usr/local/lib/python3.10/\u001b[0m\u001b[95msite-packages\u001b[0m \u001b[1m(\u001b[0mfrom \n",
       "huggingface-hub>=\u001b[1;36m0.28\u001b[0m.\u001b[1;36m0\u001b[0m->smolagents\u001b[1m)\u001b[0m \u001b[1m(\u001b[0m\u001b[1;36m6.0\u001b[0m.\u001b[1;36m2\u001b[0m\u001b[1m)\u001b[0m\n",
       "Requirement already satisfied: MarkupSafe>=\u001b[1;36m2.0\u001b[0m in \u001b[35m/usr/local/lib/python3.10/\u001b[0m\u001b[95msite-packages\u001b[0m \u001b[1m(\u001b[0mfrom \n",
       "jinja2>=\u001b[1;36m3.1\u001b[0m.\u001b[1;36m4\u001b[0m->smolagents\u001b[1m)\u001b[0m \u001b[1m(\u001b[0m\u001b[1;36m3.0\u001b[0m.\u001b[1;36m2\u001b[0m\u001b[1m)\u001b[0m\n",
       "Requirement already satisfied: beautifulsoup4\u001b[1m<\u001b[0m\u001b[1;36m5\u001b[0m\u001b[39m,>=\u001b[0m\u001b[1;36m4.9\u001b[0m\u001b[39m in \u001b[0m\u001b[35m/usr/local/lib/python3.10/\u001b[0m\u001b[95msite-packages\u001b[0m\u001b[39m \u001b[0m\u001b[1;39m(\u001b[0m\u001b[39mfrom \u001b[0m\n",
       "\u001b[39mmarkdownify>=\u001b[0m\u001b[1;36m0.14\u001b[0m\u001b[39m.\u001b[0m\u001b[1;36m1\u001b[0m\u001b[39m->smolagents\u001b[0m\u001b[1;39m)\u001b[0m\u001b[39m \u001b[0m\u001b[1;39m(\u001b[0m\u001b[1;36m4.12\u001b[0m\u001b[39m.\u001b[0m\u001b[1;36m3\u001b[0m\u001b[1;39m)\u001b[0m\n",
       "\u001b[39mRequirement already satisfied: six<\u001b[0m\u001b[1;36m2\u001b[0m\u001b[39m,>=\u001b[0m\u001b[1;36m1.15\u001b[0m\u001b[39m in \u001b[0m\u001b[35m/usr/local/lib/python3.10/\u001b[0m\u001b[95msite-packages\u001b[0m\u001b[39m \u001b[0m\u001b[1;39m(\u001b[0m\u001b[39mfrom \u001b[0m\n",
       "\u001b[39mmarkdownify>=\u001b[0m\u001b[1;36m0.14\u001b[0m\u001b[39m.\u001b[0m\u001b[1;36m1\u001b[0m\u001b[39m->smolagents\u001b[0m\u001b[1;39m)\u001b[0m\u001b[39m \u001b[0m\u001b[1;39m(\u001b[0m\u001b[1;36m1.17\u001b[0m\u001b[39m.\u001b[0m\u001b[1;36m0\u001b[0m\u001b[1;39m)\u001b[0m\n",
       "\u001b[39mRequirement already satisfied: certifi>=\u001b[0m\u001b[1;36m2017.4\u001b[0m\u001b[39m.\u001b[0m\u001b[1;36m17\u001b[0m\u001b[39m in \u001b[0m\u001b[35m/usr/local/lib/python3.10/\u001b[0m\u001b[95msite-packages\u001b[0m\u001b[39m \u001b[0m\u001b[1;39m(\u001b[0m\u001b[39mfrom \u001b[0m\n",
       "\u001b[39mrequests>=\u001b[0m\u001b[1;36m2.32\u001b[0m\u001b[39m.\u001b[0m\u001b[1;36m3\u001b[0m\u001b[39m->smolagents\u001b[0m\u001b[1;39m)\u001b[0m\u001b[39m \u001b[0m\u001b[1;39m(\u001b[0m\u001b[1;36m2025.1\u001b[0m\u001b[39m.\u001b[0m\u001b[1;36m31\u001b[0m\u001b[1;39m)\u001b[0m\n",
       "\u001b[39mRequirement already satisfied: idna<\u001b[0m\u001b[1;36m4\u001b[0m\u001b[39m,>=\u001b[0m\u001b[1;36m2.5\u001b[0m\u001b[39m in \u001b[0m\u001b[35m/usr/local/lib/python3.10/\u001b[0m\u001b[95msite-packages\u001b[0m\u001b[39m \u001b[0m\u001b[1;39m(\u001b[0m\u001b[39mfrom \u001b[0m\n",
       "\u001b[39mrequests>=\u001b[0m\u001b[1;36m2.32\u001b[0m\u001b[39m.\u001b[0m\u001b[1;36m3\u001b[0m\u001b[39m->smolagents\u001b[0m\u001b[1;39m)\u001b[0m\u001b[39m \u001b[0m\u001b[1;39m(\u001b[0m\u001b[1;36m3.10\u001b[0m\u001b[1;39m)\u001b[0m\n",
       "\u001b[39mRequirement already satisfied: charset-normalizer<\u001b[0m\u001b[1;36m4\u001b[0m\u001b[39m,>=\u001b[0m\u001b[1;36m2\u001b[0m\u001b[39m in \u001b[0m\u001b[35m/usr/local/lib/python3.10/\u001b[0m\u001b[95msite-packages\u001b[0m\u001b[39m \u001b[0m\u001b[1;39m(\u001b[0m\u001b[39mfrom \u001b[0m\n",
       "\u001b[39mrequests>=\u001b[0m\u001b[1;36m2.32\u001b[0m\u001b[39m.\u001b[0m\u001b[1;36m3\u001b[0m\u001b[39m->smolagents\u001b[0m\u001b[1;39m)\u001b[0m\u001b[39m \u001b[0m\u001b[1;39m(\u001b[0m\u001b[1;36m3.4\u001b[0m\u001b[39m.\u001b[0m\u001b[1;36m1\u001b[0m\u001b[1;39m)\u001b[0m\n",
       "\u001b[39mRequirement already satisfied: urllib3<\u001b[0m\u001b[1;36m3\u001b[0m\u001b[39m,>=\u001b[0m\u001b[1;36m1.21\u001b[0m\u001b[39m.\u001b[0m\u001b[1;36m1\u001b[0m\u001b[39m in \u001b[0m\u001b[35m/usr/local/lib/python3.10/\u001b[0m\u001b[95msite-packages\u001b[0m\u001b[39m \u001b[0m\u001b[1;39m(\u001b[0m\u001b[39mfrom \u001b[0m\n",
       "\u001b[39mrequests>=\u001b[0m\u001b[1;36m2.32\u001b[0m\u001b[39m.\u001b[0m\u001b[1;36m3\u001b[0m\u001b[39m->smolagents\u001b[0m\u001b[1;39m)\u001b[0m\u001b[39m \u001b[0m\u001b[1;39m(\u001b[0m\u001b[1;36m1.26\u001b[0m\u001b[39m.\u001b[0m\u001b[1;36m19\u001b[0m\u001b[1;39m)\u001b[0m\n",
       "\n",
       "\u001b[39mRequirement already satisfied: pygments<\u001b[0m\u001b[1;36m3.0\u001b[0m\u001b[39m.\u001b[0m\u001b[1;36m0\u001b[0m\u001b[39m,>=\u001b[0m\u001b[1;36m2.13\u001b[0m\u001b[39m.\u001b[0m\u001b[1;36m0\u001b[0m\u001b[39m in \u001b[0m\u001b[35m/usr/local/lib/python3.10/\u001b[0m\u001b[95msite-packages\u001b[0m\u001b[39m \u001b[0m\u001b[1;39m(\u001b[0m\u001b[39mfrom \u001b[0m\n",
       "\u001b[39mrich>=\u001b[0m\u001b[1;36m13.9\u001b[0m\u001b[39m.\u001b[0m\u001b[1;36m4\u001b[0m\u001b[39m->smolagents\u001b[0m\u001b[1;39m)\u001b[0m\u001b[39m \u001b[0m\u001b[1;39m(\u001b[0m\u001b[1;36m2.19\u001b[0m\u001b[39m.\u001b[0m\u001b[1;36m1\u001b[0m\u001b[1;39m)\u001b[0m\n",
       "\n",
       "\u001b[39mCollecting markdown-it-py>=\u001b[0m\u001b[1;36m2.2\u001b[0m\u001b[39m.\u001b[0m\u001b[1;36m0\u001b[0m\n",
       "\u001b[39m  Downloading markdown_it_py-\u001b[0m\u001b[1;36m3.0\u001b[0m\u001b[39m.\u001b[0m\u001b[1;36m0\u001b[0m\u001b[39m-py3-none-any.whl \u001b[0m\u001b[1;39m(\u001b[0m\u001b[1;36m87\u001b[0m\u001b[39m kB\u001b[0m\u001b[1;39m)\u001b[0m\n",
       "\u001b[39m\u001b\u001b[0m\u001b[1;39m[\u001b[0m\u001b[39m?25l     \u001b\u001b[0m\u001b[1;39m[\u001b[0m\u001b[39m90m━━━━━━━━━━━━━━━━━━━━━━━━━━━━━━━━━━━━━━━━\u001b\u001b[0m\u001b[1;39m[\u001b[0m\u001b[39m0m \u001b\u001b[0m\u001b[1;39m[\u001b[0m\u001b[39m32m0.\u001b[0m\u001b[1;36m0\u001b[0m\u001b[39m/\u001b[0m\u001b[1;36m87.5\u001b[0m\u001b[39m kB\u001b\u001b[0m\u001b[1;39m[\u001b[0m\u001b[39m0m \u001b\u001b[0m\u001b[1;39m[\u001b[0m\u001b[39m31m?\u001b\u001b[0m\u001b[1;39m[\u001b[0m\u001b[39m0m eta \u001b\u001b[0m\u001b[1;39m[\u001b[0m\u001b[39m36m-:--:--\u001b\u001b[0m\u001b[1;39m[\u001b[0m\u001b[39m0m\u001b\u001b[0m\u001b[1;39m[\u001b[0m\u001b[39m2K\u001b[0m\n",
       "\u001b[39m\u001b\u001b[0m\u001b[1;39m[\u001b[0m\u001b[39m90m━━━━━━━━━━━━━━━━━━━━━━━━━━━━━━━━━━━━━━━━\u001b\u001b[0m\u001b[1;39m[\u001b[0m\u001b[39m0m \u001b\u001b[0m\u001b[1;39m[\u001b[0m\u001b[39m32m87.\u001b[0m\u001b[1;36m5\u001b[0m\u001b[39m/\u001b[0m\u001b[1;36m87.5\u001b[0m\u001b[39m kB\u001b\u001b[0m\u001b[1;39m[\u001b[0m\u001b[39m0m \u001b\u001b[0m\u001b[1;39m[\u001b[0m\u001b[39m31m18.\u001b[0m\u001b[1;36m2\u001b[0m\u001b[39m MB/s\u001b\u001b[0m\u001b[1;39m[\u001b[0m\u001b[39m0m eta \u001b\u001b[0m\u001b[1;39m[\u001b[0m\u001b[39m36m\u001b[0m\u001b[1;92m0:00:00\u001b[0m\u001b[39m\u001b\u001b[0m\u001b[1;39m[\u001b[0m\u001b[39m0m\u001b[0m\n",
       "\u001b[39m\u001b\u001b[0m\u001b[1;39m[\u001b[0m\u001b[39m?25hRequirement already satisfied: soupsieve>\u001b[0m\u001b[1;36m1.2\u001b[0m\u001b[39m in \u001b[0m\u001b[35m/usr/local/lib/python3.10/\u001b[0m\u001b[95msite-packages\u001b[0m\u001b[39m \u001b[0m\u001b[1;39m(\u001b[0m\u001b[39mfrom \u001b[0m\n",
       "\u001b[39mbeautifulsoup4<\u001b[0m\u001b[1;36m5\u001b[0m\u001b[39m,>=\u001b[0m\u001b[1;36m4.9\u001b[0m\u001b[39m->markdownify>=\u001b[0m\u001b[1;36m0.14\u001b[0m\u001b[39m.\u001b[0m\u001b[1;36m1\u001b[0m\u001b[39m->smolagents\u001b[0m\u001b[1;39m)\u001b[0m\u001b[39m \u001b[0m\u001b[1;39m(\u001b[0m\u001b[1;36m2.6\u001b[0m\u001b[1;39m)\u001b[0m\n",
       "\n",
       "\u001b[39mCollecting mdurl~=\u001b[0m\u001b[1;36m0.1\u001b[0m\n",
       "\n",
       "\u001b[39m  Downloading mdurl-\u001b[0m\u001b[1;36m0.1\u001b[0m\u001b[39m.\u001b[0m\u001b[1;36m2\u001b[0m\u001b[39m-py3-none-any.whl \u001b[0m\u001b[1;39m(\u001b[0m\u001b[1;36m10.0\u001b[0m\u001b[39m kB\u001b[0m\u001b[1;39m)\u001b[0m\n",
       "\n",
       "\u001b[39mInstalling collected packages: requests, python-dotenv, primp, pillow, mdurl, fsspec, filelock, markdownify, \u001b[0m\n",
       "\u001b[39mmarkdown-it-py, huggingface-hub, duckduckgo-search, rich, smolagents\u001b[0m\n",
       "\u001b[39m  Attempting uninstall: requests\u001b[0m\n",
       "\u001b[39m    Found existing installation: requests \u001b[0m\u001b[1;36m2.32\u001b[0m\u001b[39m.\u001b[0m\u001b[1;36m2\u001b[0m\n",
       "\u001b[39m    Uninstalling requests-\u001b[0m\u001b[1;36m2.32\u001b[0m\u001b[39m.\u001b[0m\u001b[1;36m2\u001b[0m\u001b[39m:\u001b[0m\n",
       "\u001b[39m      Successfully uninstalled requests-\u001b[0m\u001b[1;36m2.32\u001b[0m\u001b[39m.\u001b[0m\u001b[1;36m2\u001b[0m\n",
       "\n",
       "\u001b[39m  Attempting uninstall: pillow\u001b[0m\n",
       "\u001b[39m    Found existing installation: pillow \u001b[0m\u001b[1;36m10.3\u001b[0m\u001b[39m.\u001b[0m\u001b[1;36m0\u001b[0m\n",
       "\n",
       "\u001b[39m    Uninstalling pillow-\u001b[0m\u001b[1;36m10.3\u001b[0m\u001b[39m.\u001b[0m\u001b[1;36m0\u001b[0m\u001b[39m:\u001b[0m\n",
       "\u001b[39m      Successfully uninstalled pillow-\u001b[0m\u001b[1;36m10.3\u001b[0m\u001b[39m.\u001b[0m\u001b[1;36m0\u001b[0m\n",
       "\n",
       "\u001b[39mSuccessfully installed duckduckgo-search-\u001b[0m\u001b[1;36m8.0\u001b[0m\u001b[39m.\u001b[0m\u001b[1;36m1\u001b[0m\u001b[39m filelock-\u001b[0m\u001b[1;36m3.18\u001b[0m\u001b[39m.\u001b[0m\u001b[1;36m0\u001b[0m\u001b[39m fsspec-\u001b[0m\u001b[1;36m2025.3\u001b[0m\u001b[39m.\u001b[0m\u001b[1;36m2\u001b[0m\u001b[39m huggingface-hub-\u001b[0m\u001b[1;36m0.30\u001b[0m\u001b[39m.\u001b[0m\u001b[1;36m2\u001b[0m\u001b[39m \u001b[0m\n",
       "\u001b[39mmarkdown-it-py-\u001b[0m\u001b[1;36m3.0\u001b[0m\u001b[39m.\u001b[0m\u001b[1;36m0\u001b[0m\u001b[39m markdownify-\u001b[0m\u001b[1;36m1.1\u001b[0m\u001b[39m.\u001b[0m\u001b[1;36m0\u001b[0m\u001b[39m mdurl-\u001b[0m\u001b[1;36m0.1\u001b[0m\u001b[39m.\u001b[0m\u001b[1;36m2\u001b[0m\u001b[39m pillow-\u001b[0m\u001b[1;36m11.2\u001b[0m\u001b[39m.\u001b[0m\u001b[1;36m1\u001b[0m\u001b[39m primp-\u001b[0m\u001b[1;36m0.15\u001b[0m\u001b[39m.\u001b[0m\u001b[1;36m0\u001b[0m\u001b[39m python-dotenv-\u001b[0m\u001b[1;36m1.1\u001b[0m\u001b[39m.\u001b[0m\u001b[1;36m0\u001b[0m\u001b[39m requests-\u001b[0m\u001b[1;36m2.32\u001b[0m\u001b[39m.\u001b[0m\u001b[1;36m3\u001b[0m\u001b[39m \u001b[0m\n",
       "\u001b[39mrich-\u001b[0m\u001b[1;36m14.0\u001b[0m\u001b[39m.\u001b[0m\u001b[1;36m0\u001b[0m\u001b[39m smolagents-\u001b[0m\u001b[1;36m1.14\u001b[0m\u001b[39m.\u001b[0m\u001b[1;36m0\u001b[0m\n",
       "\u001b[39m\u001b\u001b[0m\u001b[1;39m[\u001b[0m\u001b[39m33mWARNING: Running pip as the \u001b[0m\u001b[32m'root'\u001b[0m\u001b[39m user can result in broken permissions and conflicting behaviour with the \u001b[0m\n",
       "\u001b[39msystem package manager. It is recommended to use a virtual environment instead: \u001b[0m\n",
       "\u001b[4;94mhttps://pip.pypa.io/warnings/venv\u001b[0m\u001b[39m\u001b\u001b[0m\u001b[1;39m[\u001b[0m\u001b[39m0m\u001b\u001b[0m\u001b[1;39m[\u001b[0m\u001b[39m33m\u001b[0m\n",
       "\u001b[39m\u001b\u001b[0m\u001b[1;39m[\u001b[0m\u001b[39m0m\u001b[0m\n",
       "\n",
       "\u001b[39m\u001b\u001b[0m\u001b[1;39m[\u001b[0m\u001b[39m1m\u001b[0m\u001b[1;39m[\u001b[0m\u001b[39m\u001b\u001b[0m\u001b[1;39m[\u001b[0m\u001b[39m0m\u001b\u001b[0m\u001b[1;39m[\u001b[0m\u001b[1;36m34\u001b[0m\u001b[39m;49mnotice\u001b\u001b[0m\u001b[1;39m[\u001b[0m\u001b[39m0m\u001b\u001b[0m\u001b[1;39m[\u001b[0m\u001b[1;36m1\u001b[0m\u001b[39m;\u001b[0m\u001b[1;36m39\u001b[0m\u001b[39m;49m\u001b[0m\u001b[1;39m]\u001b[0m\u001b[39m\u001b\u001b[0m\u001b[1;39m[\u001b[0m\u001b[39m0m\u001b\u001b[0m\u001b[1;39m[\u001b[0m\u001b[1;36m39\u001b[0m\u001b[39m;49m A new release of pip is available: \u001b\u001b[0m\u001b[1;39m[\u001b[0m\u001b[39m0m\u001b\u001b[0m\u001b[1;39m[\u001b[0m\u001b[1;36m31\u001b[0m\u001b[39m;49m23.\u001b[0m\u001b[1;36m0.1\u001b[0m\u001b[39m\u001b\u001b[0m\u001b[1;39m[\u001b[0m\u001b[39m0m\u001b\u001b[0m\u001b[1;39m[\u001b[0m\u001b[1;36m39\u001b[0m\u001b[39m;49m -\u001b[0m\u001b[1m>\u001b[0m\n",
       "\u001b\u001b[1m[\u001b[0m0m\u001b\u001b[1m[\u001b[0m\u001b[1;36m32\u001b[0m;49m25.\u001b[1;36m1\u001b[0m\u001b\u001b[1m[\u001b[0m0m\n",
       "\u001b\u001b[1m[\u001b[0m1m\u001b[1m[\u001b[0m\u001b\u001b[1m[\u001b[0m0m\u001b\u001b[1m[\u001b[0m\u001b[1;36m34\u001b[0m;49mnotice\u001b\u001b[1m[\u001b[0m0m\u001b\u001b[1m[\u001b[0m\u001b[1;36m1\u001b[0m;\u001b[1;36m39\u001b[0m;49m\u001b[1m]\u001b[0m\u001b\u001b[1m[\u001b[0m0m\u001b\u001b[1m[\u001b[0m\u001b[1;36m39\u001b[0m;49m To update, run: \u001b\u001b[1m[\u001b[0m0m\u001b\u001b[1m[\u001b[0m\u001b[1;36m32\u001b[0m;49mpip install --upgrade pip\u001b\u001b[1m[\u001b[0m0m\n",
       "\n"
      ]
     },
     "metadata": {},
     "output_type": "display_data"
    },
    {
     "data": {
      "text/html": [
       "<pre style=\"white-space:pre;overflow-x:auto;line-height:normal;font-family:Menlo,'DejaVu Sans Mono',consolas,'Courier New',monospace\">E2B is running\n",
       "</pre>\n"
      ],
      "text/plain": [
       "E2B is running\n"
      ]
     },
     "metadata": {},
     "output_type": "display_data"
    }
   ],
   "source": [
    "from smolagents import CodeAgent, HfApiModel, Tool\n",
    "\n",
    "model = HfApiModel()\n",
    "\n",
    "class VisitWebpageTool(Tool):\n",
    "    name = \"visit_webpage\"\n",
    "    description = (\n",
    "        \"Visits a webpage at the given url and reads its content as a markdown string. Use this to browse webpages.\"\n",
    "    )\n",
    "    inputs = {\n",
    "        \"url\": {\n",
    "            \"type\": \"string\",\n",
    "            \"description\": \"The url of the webpage to visit.\",\n",
    "        }\n",
    "    }\n",
    "    output_type = \"string\"\n",
    "\n",
    "    def __init__(self, max_output_length: int = 40000):\n",
    "        super().__init__()\n",
    "        self.max_output_length = max_output_length\n",
    "\n",
    "    def forward(self, url: str) -> str:\n",
    "        try:\n",
    "            import re\n",
    "\n",
    "            import requests\n",
    "            from markdownify import markdownify\n",
    "            from requests.exceptions import RequestException\n",
    "\n",
    "            from smolagents.utils import truncate_content\n",
    "        except ImportError as e:\n",
    "            raise ImportError(\n",
    "                \"You must install packages `markdownify` and `requests` to run this tool: for instance run `pip install markdownify requests`.\"\n",
    "            ) from e\n",
    "        try:\n",
    "            response = requests.get(url, timeout=20)\n",
    "            response.raise_for_status()  # Raise an exception for bad status codes\n",
    "            markdown_content = markdownify(response.text).strip()\n",
    "            markdown_content = re.sub(r\"\\n{3,}\", \"\\n\\n\", markdown_content)\n",
    "            return truncate_content(markdown_content, self.max_output_length)\n",
    "\n",
    "        except requests.exceptions.Timeout:\n",
    "            return \"The request timed out. Please try again later or check the URL.\"\n",
    "        except RequestException as e:\n",
    "            return f\"Error fetching the webpage: {str(e)}\"\n",
    "        except Exception as e:\n",
    "            return f\"An unexpected error occurred: {str(e)}\"\n",
    "\n",
    "agent = CodeAgent(\n",
    "    tools=[VisitWebpageTool()],\n",
    "    model=model,\n",
    "    executor_type=\"e2b\",\n",
    "    executor_kwargs={\"api_key\": E2B_API_KEY},\n",
    "    max_steps=5\n",
    ")"
   ]
  },
  {
   "cell_type": "code",
   "execution_count": null,
   "id": "60887ad7",
   "metadata": {},
   "outputs": [],
   "source": [
    "output = agent.run(\n",
    "    \"Give me one of the top github repos from organization huggingface.\"\n",
    ")\n",
    "print(\"E2B executor result:\", output)"
   ]
  },
  {
   "cell_type": "markdown",
   "id": "8041841f",
   "metadata": {},
   "source": [
    "## Monitoring and Evaluating Agents"
   ]
  },
  {
   "cell_type": "code",
   "execution_count": 4,
   "id": "f1a43e78",
   "metadata": {},
   "outputs": [],
   "source": [
    "PROJECT_NAME = \"Customer-Success\""
   ]
  },
  {
   "cell_type": "code",
   "execution_count": 23,
   "id": "2581594f",
   "metadata": {},
   "outputs": [
    {
     "name": "stderr",
     "output_type": "stream",
     "text": [
      "Overriding of current TracerProvider is not allowed\n",
      "Attempting to instrument while already instrumented\n"
     ]
    },
    {
     "name": "stdout",
     "output_type": "stream",
     "text": [
      "OpenTelemetry Tracing Details\n",
      "|  Phoenix Project: Customer-Success\n",
      "|  Span Processor: SimpleSpanProcessor\n",
      "|  Collector Endpoint: http://localhost:6006/v1/traces\n",
      "|  Transport: HTTP + protobuf\n",
      "|  Transport Headers: {}\n",
      "|  \n",
      "|  Using a default SpanProcessor. `add_span_processor` will overwrite this default.\n",
      "|  \n",
      "|  WARNING: It is strongly advised to use a BatchSpanProcessor in production environments.\n",
      "|  \n",
      "|  `register` has set this TracerProvider as the global OpenTelemetry default.\n",
      "|  To disable this behavior, call `register` with `set_global_tracer_provider=False`.\n",
      "\n"
     ]
    }
   ],
   "source": [
    "import os\n",
    "from dotenv import load_dotenv, find_dotenv\n",
    "from phoenix.otel import register\n",
    "from openinference.instrumentation.smolagents import SmolagentsInstrumentor\n",
    "\n",
    "\n",
    "tracer_provider = register(\n",
    "    project_name=PROJECT_NAME,\n",
    "    endpoint= \"http://localhost:6006/\"+ \"v1/traces\",\n",
    "    # endpoint = os.getenv('DLAI_LOCAL_URL').format(port='6006') + \"v1/traces\"\n",
    ")\n",
    "SmolagentsInstrumentor().instrument(tracer_provider=tracer_provider)"
   ]
  },
  {
   "cell_type": "code",
   "execution_count": 17,
   "id": "5b70dbaf",
   "metadata": {},
   "outputs": [],
   "source": [
    "from dotenv import load_dotenv, find_dotenv\n",
    "load_dotenv() # load variables from local .env file\n",
    "\n",
    "from huggingface_hub import login\n",
    "\n",
    "login(os.getenv('HF_API_KEY'))"
   ]
  },
  {
   "cell_type": "code",
   "execution_count": null,
   "id": "85b2f05a",
   "metadata": {},
   "outputs": [],
   "source": [
    "from smolagents import HfApiModel\n",
    "\n",
    "model=HfApiModel(\"Qwen/Qwen2.5-Coder-7B-Instruct\", provider=\"nebius\")\n",
    "\n",
    "model([{\"role\": \"user\", \"content\": \"Hello!\"}])"
   ]
  },
  {
   "cell_type": "code",
   "execution_count": null,
   "id": "5d9c8617",
   "metadata": {},
   "outputs": [],
   "source": []
  }
 ],
 "metadata": {
  "kernelspec": {
   "display_name": "hfllm",
   "language": "python",
   "name": "python3"
  },
  "language_info": {
   "codemirror_mode": {
    "name": "ipython",
    "version": 3
   },
   "file_extension": ".py",
   "mimetype": "text/x-python",
   "name": "python",
   "nbconvert_exporter": "python",
   "pygments_lexer": "ipython3",
   "version": "3.10.16"
  }
 },
 "nbformat": 4,
 "nbformat_minor": 5
}
